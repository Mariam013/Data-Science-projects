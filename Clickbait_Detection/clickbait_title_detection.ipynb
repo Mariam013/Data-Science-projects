{
 "cells": [
  {
   "cell_type": "markdown",
   "metadata": {
    "id": "cebbg9vjMMTL"
   },
   "source": [
    "# Clickbait Detection with Transformer Models\n",
    "\n",
    "This project builds and evaluate transformer-based models for detecting clickbait headlines. Clickbait refers to content with misleading or sensationalized headlines designed primarily to attract attention and encourage visitors to click on a link, often at the expense of accuracy or quality. Detecting clickbait automatically is an important NLP task with applications in content moderation and media literacy.\n"
   ]
  },
  {
   "cell_type": "code",
   "execution_count": null,
   "metadata": {
    "colab": {
     "base_uri": "https://localhost:8080/"
    },
    "execution": {
     "iopub.execute_input": "2025-03-25T17:54:59.633360Z",
     "iopub.status.busy": "2025-03-25T17:54:59.633034Z",
     "iopub.status.idle": "2025-03-25T17:55:03.096943Z",
     "shell.execute_reply": "2025-03-25T17:55:03.096109Z",
     "shell.execute_reply.started": "2025-03-25T17:54:59.633316Z"
    },
    "id": "Tvxu0LO2MMTP",
    "outputId": "38b024fb-01a7-4f83-ff96-91445a483685",
    "trusted": true
   },
   "outputs": [
    {
     "name": "stdout",
     "output_type": "stream",
     "text": [
      "Requirement already satisfied: transformers in /usr/local/lib/python3.10/dist-packages (4.50.1)\n",
      "Requirement already satisfied: datasets in /usr/local/lib/python3.10/dist-packages (3.3.1)\n",
      "Requirement already satisfied: wandb in /usr/local/lib/python3.10/dist-packages (0.19.1)\n",
      "Requirement already satisfied: filelock in /usr/local/lib/python3.10/dist-packages (from transformers) (3.17.0)\n",
      "Requirement already satisfied: huggingface-hub<1.0,>=0.26.0 in /usr/local/lib/python3.10/dist-packages (from transformers) (0.29.0)\n",
      "Requirement already satisfied: numpy>=1.17 in /usr/local/lib/python3.10/dist-packages (from transformers) (1.26.4)\n",
      "Requirement already satisfied: packaging>=20.0 in /usr/local/lib/python3.10/dist-packages (from transformers) (24.2)\n",
      "Requirement already satisfied: pyyaml>=5.1 in /usr/local/lib/python3.10/dist-packages (from transformers) (6.0.2)\n",
      "Requirement already satisfied: regex!=2019.12.17 in /usr/local/lib/python3.10/dist-packages (from transformers) (2024.11.6)\n",
      "Requirement already satisfied: requests in /usr/local/lib/python3.10/dist-packages (from transformers) (2.32.3)\n",
      "Requirement already satisfied: tokenizers<0.22,>=0.21 in /usr/local/lib/python3.10/dist-packages (from transformers) (0.21.0)\n",
      "Requirement already satisfied: safetensors>=0.4.3 in /usr/local/lib/python3.10/dist-packages (from transformers) (0.4.5)\n",
      "Requirement already satisfied: tqdm>=4.27 in /usr/local/lib/python3.10/dist-packages (from transformers) (4.67.1)\n",
      "Requirement already satisfied: pyarrow>=15.0.0 in /usr/local/lib/python3.10/dist-packages (from datasets) (19.0.1)\n",
      "Requirement already satisfied: dill<0.3.9,>=0.3.0 in /usr/local/lib/python3.10/dist-packages (from datasets) (0.3.8)\n",
      "Requirement already satisfied: pandas in /usr/local/lib/python3.10/dist-packages (from datasets) (2.2.3)\n",
      "Requirement already satisfied: xxhash in /usr/local/lib/python3.10/dist-packages (from datasets) (3.5.0)\n",
      "Requirement already satisfied: multiprocess<0.70.17 in /usr/local/lib/python3.10/dist-packages (from datasets) (0.70.16)\n",
      "Requirement already satisfied: fsspec<=2024.12.0,>=2023.1.0 in /usr/local/lib/python3.10/dist-packages (from fsspec[http]<=2024.12.0,>=2023.1.0->datasets) (2024.12.0)\n",
      "Requirement already satisfied: aiohttp in /usr/local/lib/python3.10/dist-packages (from datasets) (3.11.12)\n",
      "Requirement already satisfied: click!=8.0.0,>=7.1 in /usr/local/lib/python3.10/dist-packages (from wandb) (8.1.7)\n",
      "Requirement already satisfied: docker-pycreds>=0.4.0 in /usr/local/lib/python3.10/dist-packages (from wandb) (0.4.0)\n",
      "Requirement already satisfied: gitpython!=3.1.29,>=1.0.0 in /usr/local/lib/python3.10/dist-packages (from wandb) (3.1.43)\n",
      "Requirement already satisfied: platformdirs in /usr/local/lib/python3.10/dist-packages (from wandb) (4.3.6)\n",
      "Requirement already satisfied: protobuf!=4.21.0,!=5.28.0,<6,>=3.19.0 in /usr/local/lib/python3.10/dist-packages (from wandb) (3.20.3)\n",
      "Requirement already satisfied: psutil>=5.0.0 in /usr/local/lib/python3.10/dist-packages (from wandb) (5.9.5)\n",
      "Requirement already satisfied: pydantic<3,>=2.6 in /usr/local/lib/python3.10/dist-packages (from wandb) (2.11.0a2)\n",
      "Requirement already satisfied: sentry-sdk>=2.0.0 in /usr/local/lib/python3.10/dist-packages (from wandb) (2.19.2)\n",
      "Requirement already satisfied: setproctitle in /usr/local/lib/python3.10/dist-packages (from wandb) (1.3.4)\n",
      "Requirement already satisfied: setuptools in /usr/local/lib/python3.10/dist-packages (from wandb) (75.1.0)\n",
      "Requirement already satisfied: typing-extensions<5,>=4.4 in /usr/local/lib/python3.10/dist-packages (from wandb) (4.12.2)\n",
      "Requirement already satisfied: six>=1.4.0 in /usr/local/lib/python3.10/dist-packages (from docker-pycreds>=0.4.0->wandb) (1.17.0)\n",
      "Requirement already satisfied: aiohappyeyeballs>=2.3.0 in /usr/local/lib/python3.10/dist-packages (from aiohttp->datasets) (2.4.6)\n",
      "Requirement already satisfied: aiosignal>=1.1.2 in /usr/local/lib/python3.10/dist-packages (from aiohttp->datasets) (1.3.2)\n",
      "Requirement already satisfied: async-timeout<6.0,>=4.0 in /usr/local/lib/python3.10/dist-packages (from aiohttp->datasets) (5.0.1)\n",
      "Requirement already satisfied: attrs>=17.3.0 in /usr/local/lib/python3.10/dist-packages (from aiohttp->datasets) (25.1.0)\n",
      "Requirement already satisfied: frozenlist>=1.1.1 in /usr/local/lib/python3.10/dist-packages (from aiohttp->datasets) (1.5.0)\n",
      "Requirement already satisfied: multidict<7.0,>=4.5 in /usr/local/lib/python3.10/dist-packages (from aiohttp->datasets) (6.1.0)\n",
      "Requirement already satisfied: propcache>=0.2.0 in /usr/local/lib/python3.10/dist-packages (from aiohttp->datasets) (0.2.1)\n",
      "Requirement already satisfied: yarl<2.0,>=1.17.0 in /usr/local/lib/python3.10/dist-packages (from aiohttp->datasets) (1.18.3)\n",
      "Requirement already satisfied: gitdb<5,>=4.0.1 in /usr/local/lib/python3.10/dist-packages (from gitpython!=3.1.29,>=1.0.0->wandb) (4.0.11)\n",
      "Requirement already satisfied: mkl_fft in /usr/local/lib/python3.10/dist-packages (from numpy>=1.17->transformers) (1.3.8)\n",
      "Requirement already satisfied: mkl_random in /usr/local/lib/python3.10/dist-packages (from numpy>=1.17->transformers) (1.2.4)\n",
      "Requirement already satisfied: mkl_umath in /usr/local/lib/python3.10/dist-packages (from numpy>=1.17->transformers) (0.1.1)\n",
      "Requirement already satisfied: mkl in /usr/local/lib/python3.10/dist-packages (from numpy>=1.17->transformers) (2025.0.1)\n",
      "Requirement already satisfied: tbb4py in /usr/local/lib/python3.10/dist-packages (from numpy>=1.17->transformers) (2022.0.0)\n",
      "Requirement already satisfied: mkl-service in /usr/local/lib/python3.10/dist-packages (from numpy>=1.17->transformers) (2.4.1)\n",
      "Requirement already satisfied: annotated-types>=0.6.0 in /usr/local/lib/python3.10/dist-packages (from pydantic<3,>=2.6->wandb) (0.7.0)\n",
      "Requirement already satisfied: pydantic-core==2.29.0 in /usr/local/lib/python3.10/dist-packages (from pydantic<3,>=2.6->wandb) (2.29.0)\n",
      "Requirement already satisfied: charset-normalizer<4,>=2 in /usr/local/lib/python3.10/dist-packages (from requests->transformers) (3.4.1)\n",
      "Requirement already satisfied: idna<4,>=2.5 in /usr/local/lib/python3.10/dist-packages (from requests->transformers) (3.10)\n",
      "Requirement already satisfied: urllib3<3,>=1.21.1 in /usr/local/lib/python3.10/dist-packages (from requests->transformers) (2.3.0)\n",
      "Requirement already satisfied: certifi>=2017.4.17 in /usr/local/lib/python3.10/dist-packages (from requests->transformers) (2025.1.31)\n",
      "Requirement already satisfied: python-dateutil>=2.8.2 in /usr/local/lib/python3.10/dist-packages (from pandas->datasets) (2.9.0.post0)\n",
      "Requirement already satisfied: pytz>=2020.1 in /usr/local/lib/python3.10/dist-packages (from pandas->datasets) (2025.1)\n",
      "Requirement already satisfied: tzdata>=2022.7 in /usr/local/lib/python3.10/dist-packages (from pandas->datasets) (2025.1)\n",
      "Requirement already satisfied: smmap<6,>=3.0.1 in /usr/local/lib/python3.10/dist-packages (from gitdb<5,>=4.0.1->gitpython!=3.1.29,>=1.0.0->wandb) (5.0.1)\n",
      "Requirement already satisfied: intel-openmp>=2024 in /usr/local/lib/python3.10/dist-packages (from mkl->numpy>=1.17->transformers) (2024.2.0)\n",
      "Requirement already satisfied: tbb==2022.* in /usr/local/lib/python3.10/dist-packages (from mkl->numpy>=1.17->transformers) (2022.0.0)\n",
      "Requirement already satisfied: tcmlib==1.* in /usr/local/lib/python3.10/dist-packages (from tbb==2022.*->mkl->numpy>=1.17->transformers) (1.2.0)\n",
      "Requirement already satisfied: intel-cmplr-lib-rt in /usr/local/lib/python3.10/dist-packages (from mkl_umath->numpy>=1.17->transformers) (2024.2.0)\n",
      "Requirement already satisfied: intel-cmplr-lib-ur==2024.2.0 in /usr/local/lib/python3.10/dist-packages (from intel-openmp>=2024->mkl->numpy>=1.17->transformers) (2024.2.0)\n"
     ]
    }
   ],
   "source": [
    "# install packages\n",
    "!pip install transformers datasets wandb"
   ]
  },
  {
   "cell_type": "code",
   "execution_count": null,
   "metadata": {
    "execution": {
     "iopub.execute_input": "2025-03-25T17:55:08.047716Z",
     "iopub.status.busy": "2025-03-25T17:55:08.047336Z",
     "iopub.status.idle": "2025-03-25T17:55:12.988259Z",
     "shell.execute_reply": "2025-03-25T17:55:12.987356Z",
     "shell.execute_reply.started": "2025-03-25T17:55:08.047678Z"
    },
    "id": "DiSNV62rMMTQ",
    "trusted": true
   },
   "outputs": [],
   "source": [
    "\n",
    "\n",
    "# Import PyTorch\n",
    "import torch\n",
    "from torch import nn\n",
    "from torch.utils.data import DataLoader, random_split\n",
    "import numpy as np\n",
    "import matplotlib.pyplot as plt\n",
    "import os\n",
    "import json\n",
    "import random\n",
    "from transformers import AutoTokenizer, AutoModel\n",
    "from datasets import load_dataset\n",
    "\n",
    "# For experiment tracking\n",
    "import wandb\n",
    "\n",
    "# Fix the random seed for reproducability\n",
    "torch.random.manual_seed(8942764)\n",
    "torch.cuda.manual_seed(8942764)\n",
    "np.random.seed(8942764)"
   ]
  },
  {
   "cell_type": "code",
   "execution_count": null,
   "metadata": {
    "colab": {
     "base_uri": "https://localhost:8080/"
    },
    "execution": {
     "iopub.execute_input": "2025-03-25T17:55:15.402113Z",
     "iopub.status.busy": "2025-03-25T17:55:15.401786Z",
     "iopub.status.idle": "2025-03-25T17:55:15.449413Z",
     "shell.execute_reply": "2025-03-25T17:55:15.448552Z",
     "shell.execute_reply.started": "2025-03-25T17:55:15.402086Z"
    },
    "id": "_N8V3Oi8MMTR",
    "outputId": "9d3cd5ac-d1b1-4189-c743-e44ff3114b48",
    "trusted": true
   },
   "outputs": [
    {
     "name": "stdout",
     "output_type": "stream",
     "text": [
      "Using device: cuda\n"
     ]
    }
   ],
   "source": [
    "\n",
    "\n",
    "#set device\n",
    "device = 'cuda' if torch.cuda.is_available() else 'cpu'\n",
    "\n",
    "print(f\"Using device: {device}\")\n"
   ]
  },
  {
   "cell_type": "markdown",
   "metadata": {
    "id": "cS_ddM0SMMTR"
   },
   "source": [
    "## Utility Functions\n",
    "These functions help with model setup, data processing, training, and evaluation.\n",
    "\n"
   ]
  },
  {
   "cell_type": "code",
   "execution_count": null,
   "metadata": {
    "execution": {
     "iopub.execute_input": "2025-03-25T17:55:17.653378Z",
     "iopub.status.busy": "2025-03-25T17:55:17.653060Z",
     "iopub.status.idle": "2025-03-25T17:55:17.657762Z",
     "shell.execute_reply": "2025-03-25T17:55:17.656901Z",
     "shell.execute_reply.started": "2025-03-25T17:55:17.653326Z"
    },
    "id": "Fy79NLgOMMTR",
    "trusted": true
   },
   "outputs": [],
   "source": [
    "# Function to load the dataset\n",
    "def load_data():\n",
    "    \"\"\"\n",
    "    Load the clickbait dataset from Hugging Face\n",
    "\n",
    "    Returns:\n",
    "        dataset: A dataset dictionary containing train, validation, and test splits\n",
    "    \"\"\"\n",
    "\n",
    "    dataset = load_dataset(\"christinacdl/clickbait_notclickbait_dataset\",\n",
    "                      data_files={\"train\": \"train.json\",\n",
    "                                  \"test\": \"test.json\",\n",
    "                                  \"validation\": \"val.json\"})\n",
    "    return dataset\n",
    "\n"
   ]
  },
  {
   "cell_type": "code",
   "execution_count": null,
   "metadata": {
    "execution": {
     "iopub.execute_input": "2025-03-25T17:55:22.127714Z",
     "iopub.status.busy": "2025-03-25T17:55:22.127362Z",
     "iopub.status.idle": "2025-03-25T17:55:22.131913Z",
     "shell.execute_reply": "2025-03-25T17:55:22.131000Z",
     "shell.execute_reply.started": "2025-03-25T17:55:22.127683Z"
    },
    "id": "aJukJv4SMMTS",
    "trusted": true
   },
   "outputs": [],
   "source": [
    "# Function to initialize and return instance of Autotokenizer with the given model name\n",
    "def get_tokenizer(model_name):\n",
    "    \"\"\"\n",
    "    Get the appropriate tokenizer for the given model name\n",
    "\n",
    "    Args:\n",
    "        model_name: Name of the pre-trained model (e.g., 'bert-base-uncased')\n",
    "\n",
    "    Returns:\n",
    "        tokenizer: The tokenizer for the specified model\n",
    "    \"\"\"\n",
    " \n",
    "    # Load and return the pre-trained Autotokenizer for the specified model name\n",
    "\n",
    "    tokenizer = AutoTokenizer.from_pretrained(model_name)\n",
    "\n",
    "    return tokenizer"
   ]
  },
  {
   "cell_type": "code",
   "execution_count": 7,
   "metadata": {
    "execution": {
     "iopub.execute_input": "2025-03-25T17:55:23.987298Z",
     "iopub.status.busy": "2025-03-25T17:55:23.987013Z",
     "iopub.status.idle": "2025-03-25T17:55:23.991943Z",
     "shell.execute_reply": "2025-03-25T17:55:23.990841Z",
     "shell.execute_reply.started": "2025-03-25T17:55:23.987276Z"
    },
    "id": "4skmp_MoMMTS",
    "trusted": true
   },
   "outputs": [],
   "source": [
    "# Tokenization function for data processing\n",
    "def tokenize(batch, tokenizer):\n",
    "    \"\"\"\n",
    "    Transform text data to tokenized format for model input\n",
    "\n",
    "    Args:\n",
    "        batch: Batch of examples from the dataset\n",
    "        tokenizer: Tokenizer to use for encoding\n",
    "\n",
    "    Returns:\n",
    "        Dict with tokenized inputs and labels\n",
    "    \"\"\"\n",
    "    sentences = [x['text'] for x in batch]\n",
    "    labels = torch.LongTensor([x['label'] for x in batch])\n",
    "    new_batch = dict(tokenizer(sentences, padding=True, truncation=True, return_tensors=\"pt\"))\n",
    "    new_batch['label'] = labels\n",
    "    return new_batch"
   ]
  },
  {
   "cell_type": "code",
   "execution_count": null,
   "metadata": {
    "execution": {
     "iopub.execute_input": "2025-03-25T17:55:27.512760Z",
     "iopub.status.busy": "2025-03-25T17:55:27.512325Z",
     "iopub.status.idle": "2025-03-25T17:55:27.517944Z",
     "shell.execute_reply": "2025-03-25T17:55:27.516897Z",
     "shell.execute_reply.started": "2025-03-25T17:55:27.512724Z"
    },
    "id": "1oxVkYDaMMTT",
    "trusted": true
   },
   "outputs": [],
   "source": [
    "# Function to initialize wandb for experiment tracking\n",
    "def init_wandb(config, project_name):\n",
    "    \"\"\"Initialize wandb with given config\"\"\"\n",
    "    \n",
    "    wandb.init(\n",
    "        project=project_name,\n",
    "        config=config\n",
    "    )\n",
    "    return wandb.config"
   ]
  },
  {
   "cell_type": "code",
   "execution_count": null,
   "metadata": {
    "execution": {
     "iopub.execute_input": "2025-03-25T17:55:29.636523Z",
     "iopub.status.busy": "2025-03-25T17:55:29.636224Z",
     "iopub.status.idle": "2025-03-25T17:55:29.646763Z",
     "shell.execute_reply": "2025-03-25T17:55:29.645839Z",
     "shell.execute_reply.started": "2025-03-25T17:55:29.636499Z"
    },
    "id": "uh9P_J9SMMTT",
    "trusted": true
   },
   "outputs": [],
   "source": [
    "# Training function\n",
    "def train(model,\n",
    "          train_dataset,\n",
    "          val_dataset,\n",
    "          num_epochs,\n",
    "          batch_size,\n",
    "          optimizer_cls,\n",
    "          lr,\n",
    "          weight_decay,\n",
    "          device,\n",
    "          tokenizer,\n",
    "          use_wandb=False):\n",
    "    \"\"\"\n",
    "    Train the model and track with wandb if specified\n",
    "\n",
    "    Args:\n",
    "        model: Model to train\n",
    "        train_dataset: Training dataset\n",
    "        val_dataset: Validation dataset\n",
    "        num_epochs: Number of epochs to train for\n",
    "        batch_size: Batch size for training\n",
    "        optimizer_cls: Name of optimizer to use ('SGD', 'Adam', 'AdamW')\n",
    "        lr: Learning rate\n",
    "        weight_decay: Weight decay for regularization\n",
    "        device: Device to train on\n",
    "        tokenizer: Tokenizer for processing inputs\n",
    "        use_wandb: Whether to log metrics to wandb\n",
    "\n",
    "    Returns:\n",
    "        Tuple of (trained model, training history)\n",
    "    \"\"\"\n",
    "    #  Set the model to training mode and move it to the specified device\n",
    "    model.train()\n",
    "    model.to(device)\n",
    "\n",
    "\n",
    "    dataloader = DataLoader(train_dataset, batch_size, shuffle=True,\n",
    "                          collate_fn=lambda batch: tokenize(batch, tokenizer))\n",
    "\n",
    "    #Initialize the optimizers based on the optimizer_cls parameter, with the specified learning rates and weight decays.\n",
    "    if optimizer_cls == 'SGD':\n",
    "        optimizer = torch.optim.SGD(model.parameters(), lr=lr, weight_decay=weight_decay)\n",
    "    elif optimizer_cls == 'Adam':\n",
    "        optimizer = torch.optim.Adam(model.parameters(), lr=lr, weight_decay=weight_decay)\n",
    "    elif optimizer_cls == 'AdamW':\n",
    "        optimizer = torch.optim.AdamW(model.parameters(), lr=lr, weight_decay=weight_decay)\n",
    "\n",
    "    train_loss_history = []\n",
    "    train_acc_history = []\n",
    "    val_loss_history = []\n",
    "    val_acc_history = []\n",
    "\n",
    "    lossfn = nn.CrossEntropyLoss()  # Using CrossEntropyLoss which expects logits\n",
    "\n",
    "    global_step = 0\n",
    "\n",
    "    for e in range(num_epochs):\n",
    "        epoch_loss_history = []\n",
    "        epoch_acc_history = []\n",
    "\n",
    "        # Training loop\n",
    "        model.train()\n",
    "        for i, batch in enumerate(dataloader):\n",
    "            batch = {k:v.to(device) for k,v in batch.items() if isinstance(v, torch.Tensor)}\n",
    "            y = batch.pop('label')\n",
    "\n",
    "            #  Implement forward pass and loss computation\n",
    "            # 1. Pass the batch through the model to get logits\n",
    "            logits = model(**batch)\n",
    "            # 2. Calculate the loss using lossfn\n",
    "            loss = lossfn(logits, y)\n",
    "            # 3. Calculate the accuracy (percentage of correct predictions)\n",
    "            acc = (logits.argmax(dim=-1) == y).float().mean().item()\n",
    "            # 4. Append each epoch's loss and accuracy to epoch_loss_history and epoch_acc_history\n",
    "            epoch_loss_history.append(loss.item())\n",
    "            epoch_acc_history.append(acc)\n",
    "\n",
    "\n",
    "            global_step += 1\n",
    "\n",
    "            # Print every 100 steps\n",
    "            if global_step % 100 == 0:\n",
    "                print(f'Epoch: {e+1}, Step: {global_step}, Train Loss: {epoch_loss_history[-1]:.3e}, Train Accuracy: {epoch_acc_history[-1]:.3f}')\n",
    "\n",
    "                # Log batch metrics to WandB\n",
    "                if use_wandb:\n",
    "                    wandb.log({\n",
    "                        \"global_step\": global_step,  # Correct step tracking\n",
    "                        \"train_loss_step\": epoch_loss_history[-1],  # Current batch loss\n",
    "                        \"train_accuracy_step\": epoch_acc_history[-1],  # Current batch accuracy\n",
    "                        \"epoch\": e + 1,\n",
    "                    })\n",
    "\n",
    "            # Implement backward pass and optimization step\n",
    "            # 1. Zero the gradients\n",
    "            optimizer.zero_grad()\n",
    "            # 2. Backpropagate the loss\n",
    "            loss.backward()\n",
    "            # 3. Update the model parameters using the optimizer\n",
    "            optimizer.step()\n",
    "\n",
    "        # Evaluation on validation set\n",
    "        # Set the model to Evaluation mode\n",
    "        model.eval()\n",
    "        val_loss, val_acc, _, _, _ = evaluate(model, val_dataset, batch_size, device, tokenizer)\n",
    "\n",
    "        train_loss_history.append(np.mean(epoch_loss_history))\n",
    "        train_acc_history.append(np.mean(epoch_acc_history))\n",
    "        val_loss_history.append(val_loss)\n",
    "        val_acc_history.append(val_acc)\n",
    "\n",
    "        print(f'epoch: {e + 1}\\t train_loss: {train_loss_history[-1]:.3e}\\t train_accuracy:{train_acc_history[-1]:.3f}\\t val_loss: {val_loss_history[-1]:.3e}\\t val_accuracy:{val_acc_history[-1]:.3f}')\n",
    "\n",
    "        # Log metrics to wandb if enabled\n",
    "        if use_wandb:\n",
    "            wandb.log({\n",
    "                \"epoch\": e + 1,\n",
    "                \"train_loss\": train_loss_history[-1],\n",
    "                \"train_accuracy\": train_acc_history[-1],\n",
    "                \"val_loss\": val_loss_history[-1],\n",
    "                \"val_accuracy\": val_acc_history[-1]\n",
    "            })\n",
    "\n",
    "    return model, (train_loss_history, train_acc_history, val_loss_history, val_acc_history)\n"
   ]
  },
  {
   "cell_type": "code",
   "execution_count": null,
   "metadata": {
    "execution": {
     "iopub.execute_input": "2025-03-25T17:55:33.995667Z",
     "iopub.status.busy": "2025-03-25T17:55:33.995321Z",
     "iopub.status.idle": "2025-03-25T17:55:34.002663Z",
     "shell.execute_reply": "2025-03-25T17:55:34.001765Z",
     "shell.execute_reply.started": "2025-03-25T17:55:33.995635Z"
    },
    "id": "IqOXTawIMMTT",
    "trusted": true
   },
   "outputs": [],
   "source": [
    "# Evaluation function\n",
    "@torch.no_grad()\n",
    "def evaluate(model, dataset, batch_size, device, tokenizer):\n",
    "    \"\"\"\n",
    "    Evaluate model on dataset\n",
    "\n",
    "    Args:\n",
    "        model: Model to evaluate\n",
    "        dataset: Dataset to evaluate on\n",
    "        batch_size: Batch size for evaluation\n",
    "        device: Device to run evaluation on\n",
    "        tokenizer: Tokenizer for processing inputs\n",
    "\n",
    "    Returns:\n",
    "        Tuple of (loss, accuracy, predictions, labels, logits)\n",
    "    \"\"\"\n",
    "    # Set the model to evaluation mode and move it to the specified device\n",
    "    model.eval()\n",
    "    model.to(device)\n",
    "\n",
    "    dataloader = DataLoader(dataset, batch_size, shuffle=False,\n",
    "                           collate_fn=lambda batch: tokenize(batch, tokenizer))\n",
    "    lossfn = nn.CrossEntropyLoss()  # Using CrossEntropyLoss which expects logits\n",
    "\n",
    "    loss_history = []\n",
    "    acc_history = []\n",
    "    all_preds = []\n",
    "    all_labels = []\n",
    "    all_logits = []\n",
    "\n",
    "    for i, batch in enumerate(dataloader):\n",
    "        batch = {k:v.to(device) for k,v in batch.items() if isinstance(v, torch.Tensor)}\n",
    "        y = batch.pop('label')\n",
    "\n",
    "        # Implement the evaluation loop\n",
    "        # Loop through batches in the dataloader\n",
    "        for k, v in batch.items():\n",
    "            batch[k] = v.to(device)\n",
    "        # 1. Get model predictions by passing in the batch (logits)\n",
    "        logits = model(**batch)\n",
    "        # 2. Calculate loss\n",
    "        loss = lossfn(logits, y)\n",
    "        # 3. Get the predictions from the logits in the variable pred\n",
    "        pred = logits.argmax(dim=-1)\n",
    "\n",
    "\n",
    "        acc = (pred == y).float().mean()\n",
    "\n",
    "        all_preds.extend(pred.cpu().numpy())\n",
    "        all_labels.extend(y.cpu().numpy())\n",
    "        all_logits.extend(logits.cpu().numpy())\n",
    "\n",
    "        loss_history.append(loss.item())\n",
    "        acc_history.append(acc.item())\n",
    "\n",
    "    # Calculate and return the evaluation metrics\n",
    "    # Return the mean loss, mean accuracy, all predictions, all labels, and all logits\n",
    "    return np.mean(loss_history), np.mean(acc_history), all_preds, all_labels, all_logits\n",
    "\n"
   ]
  },
  {
   "cell_type": "code",
   "execution_count": null,
   "metadata": {
    "execution": {
     "iopub.execute_input": "2025-03-25T17:55:36.983252Z",
     "iopub.status.busy": "2025-03-25T17:55:36.982957Z",
     "iopub.status.idle": "2025-03-25T17:55:36.989137Z",
     "shell.execute_reply": "2025-03-25T17:55:36.988172Z",
     "shell.execute_reply.started": "2025-03-25T17:55:36.983231Z"
    },
    "id": "uFce4FhWMMTU",
    "trusted": true
   },
   "outputs": [],
   "source": [
    "# Function to load a test set and generate predictions\n",
    "def predict_on_test_set(model, tokenizer, test_file_path, output_file_path, device):\n",
    "    \"\"\"\n",
    "    Generate predictions on a test set and save to file\n",
    "\n",
    "    Args:\n",
    "        model: Trained model\n",
    "        tokenizer: Tokenizer for the model\n",
    "        test_file_path: Path to the test data file\n",
    "        output_file_path: Path to save predictions\n",
    "        device: Device to run inference on\n",
    "    \"\"\"\n",
    "    # Load test data\n",
    "    with open(test_file_path, 'r') as f:\n",
    "        test_data = json.load(f)\n",
    "\n",
    "    print(f\"Loaded {len(test_data)} examples from {test_file_path}\")\n",
    "\n",
    "    # Make predictions\n",
    "    #  Set the model to evaluation mode\n",
    "    model.eval()\n",
    "    model.to(device)\n",
    "\n",
    "    # Initialize an empty list to store predictions\n",
    "    predictions = []\n",
    "\n",
    "    for item in test_data:\n",
    "        # Tokenize the text and move to the correct device as variable inputs\n",
    "        inputs = tokenizer(item['text'], padding=True, truncation=True, return_tensors=\"pt\")\n",
    "        inputs = {k: v.to(device) for k, v in inputs.items()}\n",
    "\n",
    "        # Get predictions\n",
    "        #  Disable gradient propagation\n",
    "        with torch.no_grad():\n",
    "        #  Pass the inputs to the model to get logits\n",
    "            logits = model(**inputs)\n",
    "        #  Get the prediction from logits\n",
    "            pred = logits.argmax(dim=-1).item()\n",
    "\n",
    "        # Store prediction as a string (0 or 1)\n",
    "        predictions.append(str(pred))\n",
    "\n",
    "    # Write predictions to file - one prediction per line\n",
    "    with open(output_file_path, 'w') as f:\n",
    "        f.write('\\n'.join(predictions))\n",
    "\n",
    "    print(f\"Predictions saved to {output_file_path}\")"
   ]
  },
  {
   "cell_type": "markdown",
   "metadata": {
    "id": "942FaElKMMTU"
   },
   "source": [
    "## Model Architecture\n",
    "This section defines the model architecture for transformer-based text classification.\n"
   ]
  },
  {
   "cell_type": "code",
   "execution_count": null,
   "metadata": {
    "execution": {
     "iopub.execute_input": "2025-03-25T17:55:40.995297Z",
     "iopub.status.busy": "2025-03-25T17:55:40.994853Z",
     "iopub.status.idle": "2025-03-25T17:55:41.004652Z",
     "shell.execute_reply": "2025-03-25T17:55:41.003646Z",
     "shell.execute_reply.started": "2025-03-25T17:55:40.995253Z"
    },
    "id": "9UGaKY1WMMTU",
    "trusted": true
   },
   "outputs": [],
   "source": [
    "# Base Transformer Model class for text classification\n",
    "class TransformerForTextClassification(nn.Module):\n",
    "    def __init__(self, model_name, num_classes, freeze_base=False, hidden_size=128, num_layers=1):\n",
    "        \"\"\"\n",
    "        Transformer model with a classification head\n",
    "\n",
    "        Args:\n",
    "            model_name: Name of the base transformer model (e.g., 'bert-base-uncased')\n",
    "            num_classes: Number of output classes\n",
    "            freeze_base: Whether to freeze the base model parameters\n",
    "            hidden_size: Size of the hidden layers in the classifier\n",
    "            num_layers: Number of hidden layers in the classifier\n",
    "        \"\"\"\n",
    "        super().__init__()\n",
    "\n",
    "        self.base_model = AutoModel.from_pretrained(model_name)\n",
    "\n",
    "\n",
    "        # Freeze base model if specified\n",
    "        self.base_model.requires_grad_(not freeze_base)\n",
    "\n",
    "        if not freeze_base:\n",
    "            self.unfreeze_top_k_layers(5)\n",
    "\n",
    "        # Get the hidden size from the base model config\n",
    "        base_hidden_size = self.base_model.config.hidden_size\n",
    "\n",
    "        # Build classifier with variable number of hidden layers\n",
    "        if num_layers == 1:\n",
    "            self.classifier = nn.Sequential(\n",
    "                # Build classifier with variable number of hidden layers\n",
    "                # For num_layers=1, create a classifier with:\n",
    "                #   - Linear layer from base_hidden_size to hidden_size\n",
    "                torch.nn.Linear(base_hidden_size, hidden_size),\n",
    "                #   - ReLU activation\n",
    "                torch.nn.ReLU(),\n",
    "                #   - Linear layer from hidden_size to num_classes\n",
    "                torch.nn.Linear(hidden_size, num_classes)\n",
    "            )\n",
    "        elif num_layers == 2:\n",
    "            self.classifier = nn.Sequential(\n",
    "                #  For num_layers=2, add an additional hidden layer\n",
    "                torch.nn.Linear(base_hidden_size, hidden_size),\n",
    "                torch.nn.ReLU(),\n",
    "                torch.nn.Linear(hidden_size, hidden_size),\n",
    "                torch.nn.ReLU(),\n",
    "                torch.nn.Linear(hidden_size, num_classes)\n",
    "            )\n",
    "        elif num_layers == 3:\n",
    "            self.classifier = nn.Sequential(\n",
    "                # For num_layers=3, add two additional hidden layers\n",
    "                torch.nn.Linear(base_hidden_size, hidden_size),\n",
    "                torch.nn.ReLU(),\n",
    "                torch.nn.Linear(hidden_size, hidden_size),\n",
    "                torch.nn.ReLU(),\n",
    "                torch.nn.Linear(hidden_size, hidden_size),\n",
    "                torch.nn.ReLU(),\n",
    "                torch.nn.Linear(hidden_size, num_classes)\n",
    "            )\n",
    "        else:\n",
    "            raise ValueError(f\"Unsupported number of layers: {num_layers}\")\n",
    "\n",
    "    def unfreeze_top_k_layers(self, k=5):\n",
    "        \"\"\"\n",
    "        Unfreezes the top k layers of a Transformer model (BERT or ModernBERT).\n",
    "\n",
    "        Parameters:\n",
    "            model: The Transformer model (e.g., BERT or ModernBERT).\n",
    "            k: Number of top layers to unfreeze (default is 5).\n",
    "        \"\"\"\n",
    "        # First, freeze all layers in the base model\n",
    "        for param in self.base_model.parameters():\n",
    "            param.requires_grad = False\n",
    "\n",
    "        # Detect whether the model uses standard BERT or ModernBERT\n",
    "        if hasattr(self.base_model, \"encoder\"):  # Standard BERT\n",
    "            layers = self.base_model.encoder.layer\n",
    "        elif hasattr(self.base_model, \"layers\"):  # ModernBERT\n",
    "            layers = self.base_model.layers\n",
    "        else:\n",
    "            raise ValueError(\"Unrecognized model architecture: Cannot find encoder layers.\")\n",
    "\n",
    "        # Get the total number of layers\n",
    "        total_layers = len(layers)\n",
    "\n",
    "        # Unfreeze the last k layers\n",
    "        for i in range(total_layers - k, total_layers):\n",
    "            for param in layers[i].parameters():\n",
    "                # Unfreeze this layer\n",
    "                param.requires_grad = True\n",
    "\n",
    "        print(f\"Unfroze the last {k} layers out of {total_layers} total layers.\")\n",
    "\n",
    "    def forward(self, **base_model_kwargs):\n",
    "        \"\"\"Forward pass through the model\"\"\"\n",
    "        outputs = self.base_model(**base_model_kwargs)\n",
    "        # Use the pooled output for classification\n",
    "        pooled_output = outputs.last_hidden_state[:, 0, :]\n",
    "\n",
    "        # Return logits (not probabilities)\n",
    "        logits = self.classifier(pooled_output)\n",
    "        return logits"
   ]
  },
  {
   "cell_type": "code",
   "execution_count": 13,
   "metadata": {
    "execution": {
     "iopub.execute_input": "2025-03-25T17:55:45.762131Z",
     "iopub.status.busy": "2025-03-25T17:55:45.761840Z",
     "iopub.status.idle": "2025-03-25T17:55:45.766473Z",
     "shell.execute_reply": "2025-03-25T17:55:45.765547Z",
     "shell.execute_reply.started": "2025-03-25T17:55:45.762109Z"
    },
    "id": "ReRZoHJgMMTV",
    "trusted": true
   },
   "outputs": [],
   "source": [
    "# Function to create model with specified architecture\n",
    "def get_model(model_name, num_classes, freeze_base=False, hidden_size=128, num_layers=1):\n",
    "    \"\"\"Create model with specified architecture\"\"\"\n",
    "    return TransformerForTextClassification(\n",
    "        model_name=model_name,\n",
    "        num_classes=num_classes,\n",
    "        freeze_base=freeze_base,\n",
    "        hidden_size=hidden_size,\n",
    "        num_layers=num_layers\n",
    "    )"
   ]
  },
  {
   "cell_type": "markdown",
   "metadata": {
    "id": "cdNKJYlOMMTV"
   },
   "source": [
    "### Dataset\n",
    "We'll be using a dataset of headlines labeled as either clickbait (1) or not clickbait (0). The dataset comes from Hugging Face and includes training, validation, and test splits. You'll have an opportunity to explore the data distribution and characteristics before building your models.\n"
   ]
  },
  {
   "cell_type": "code",
   "execution_count": 14,
   "metadata": {
    "colab": {
     "base_uri": "https://localhost:8080/",
     "height": 484,
     "referenced_widgets": [
      "17d6bd6d71f44a3ba3fcf99c066400cc",
      "36cd41a2a04a49039ee5600f2f482513",
      "cf6ec8c453e24672827600dac6587394",
      "526be292e3b045048652d238c928e8b5",
      "bd30b3dea8bf46ca9fc8c903e0eab588",
      "8a3dc51a297e4ebcae50df737d365317",
      "7ab28f3f76f642df92b709af0ce576dd",
      "dc5d2c5893b4417980f16a7b598c72ab",
      "8e0aaac368ae4632a8cd2dd7136f3b19",
      "bba835b9e7dd463e855b89f07da4aef3",
      "0abc54c65ca449c19a59943727f851d0",
      "89c31ee8ab4b47488575ff650700cdfa",
      "ba3ee99e9d2a441c9aa7a0fbfaebe844",
      "133e3c746b664f9b81753e3a62758034",
      "9968e81b93e24c60bdde60fc3f72f738",
      "31e380856fc543989b76d8a31caa91e4",
      "472add15db79411b9d91df2a4b4db37b",
      "f7a4b45f1b2642b4b02fdbfe4c019911",
      "ab64944607bc4243a4133f9a3f55ae98",
      "c4e1b9767b624bd1816e9dbe156ed4ab",
      "cce3a0bd83f64b988df55db20e793429",
      "f16f41226f2143f287244867428f13e1",
      "1bd0babf00f5463ebb00cf74b45cc06f",
      "cfb452ae6d9b471a9abc0d7cf3485665",
      "72dd50ca0d36459684c1bb72ceffd6c7",
      "55a948f6569b45238711d88b5cce963e",
      "e81dbfb2bb3b4fb0907543940e402303",
      "d66c7197f3a141fb8c2a5940580b9499",
      "b967e587b1d8409fb1cca216a0a0dbcd",
      "f9cf829ef4a8424da21bae97ee3bb558",
      "06a9246f0d8e484b91930febf012f524",
      "987e21c9756f4d899fa265c8f0333912",
      "cef2b21e8011497f8369717671a7be0e",
      "a96dfbeccaa74a4f84500ad21ea86049",
      "c1189f3bcb804383a2727f1f158ce2c9",
      "98b6029f30574237898eeda4b4f6c2e0",
      "750a2ed805d84ad18ae95a8b60c0ce54",
      "70f09d52a8974e80bb69ffb2ae3bb42a",
      "4a4b24cf631746efbd9f5deba1ba0c0b",
      "58a1a9d4403743b7bf2405d502b4c6ab",
      "6f74d3ddff394f3f96ca3939078513f9",
      "f6335c70bea54e40930f0becae438466",
      "520d93f4494342549f777e52004982f2",
      "f87d781b3e9e4f02bc07c9d4164fae55",
      "583fefaf3cde47a0af6891a4c7a016f8",
      "c5ed3e63827340758be0fc35d05b87ed",
      "ac606355d2874e9cacf5181e0757d8f5",
      "114dabdc0f454d588c761bcb510cd755",
      "f8a2f11211a249b9bb4d87c8b9b011a9",
      "037162f41603447b9550b9b1b96e3a65",
      "e5e5b24a94b54bc5b9c39ac307e5417d",
      "fdb56860b0b949d8ba066ed6e6b8131f",
      "02ce2e218d844ece840d9b3208987c68",
      "2414f5afd8904da18d777e293fea4a72",
      "387ba33895fc4342a310f203927a13fd",
      "9508345cfd324acaba04ac2c28321b33",
      "7454fa8ca18f4812943ef97dc8955a23",
      "26f8304fa8d046d3b0f2463fd618c895",
      "76bb486e490949ab850e8ca0f008cc4d",
      "f0eff2c73b2a45f2b906c3b404f4be49",
      "6218bb0901bb41f982f7559bb77fa6fc",
      "a218699f74664d839843c94d7d1e0839",
      "80c1b1b5f75b4f819c82ade6fe73806b",
      "f37364d906094d9baf9b4f29e3655896",
      "406e005dd2814de583ab4061c3767932",
      "cdf496bc212442d78f7b6acb827c638f",
      "23c07f6db3ea4f4bb2ea44d18799e2f4",
      "2516bb608316429f90c0739abd43dbec",
      "61746c2c66414231ab924ba0ecead398",
      "4ef0524bd8384cffabf484c3d9f073f3",
      "52bd2752fdca48aa93aa9cc635a3bcd3",
      "89b2bca3190a4d4195f7d6d8d0592f05",
      "636247feb56a4ae9aa84b1f8fe482210",
      "c274239822f5484890fe16980e113e95",
      "55cc28a62d474fab97d377ee2a7eeff3",
      "907df3f433db4c5580712979125865fb",
      "c0d7850d6ca94c259fce12d44a5500c8"
     ]
    },
    "execution": {
     "iopub.execute_input": "2025-03-25T17:55:48.253331Z",
     "iopub.status.busy": "2025-03-25T17:55:48.253025Z",
     "iopub.status.idle": "2025-03-25T17:55:50.713639Z",
     "shell.execute_reply": "2025-03-25T17:55:50.712739Z",
     "shell.execute_reply.started": "2025-03-25T17:55:48.253308Z"
    },
    "id": "29icvVHYMMTV",
    "outputId": "80408b4f-dafe-4440-b50a-25ec97c0dc13",
    "trusted": true
   },
   "outputs": [
    {
     "name": "stdout",
     "output_type": "stream",
     "text": [
      "DatasetDict({\n",
      "    train: Dataset({\n",
      "        features: ['text', 'label'],\n",
      "        num_rows: 43802\n",
      "    })\n",
      "    test: Dataset({\n",
      "        features: ['text', 'label'],\n",
      "        num_rows: 8760\n",
      "    })\n",
      "    validation: Dataset({\n",
      "        features: ['text', 'label'],\n",
      "        num_rows: 2191\n",
      "    })\n",
      "})\n"
     ]
    }
   ],
   "source": [
    "# Load dataset\n",
    "dataset = load_data()\n",
    "print(dataset)"
   ]
  },
  {
   "cell_type": "code",
   "execution_count": 15,
   "metadata": {
    "colab": {
     "base_uri": "https://localhost:8080/"
    },
    "execution": {
     "iopub.execute_input": "2025-03-25T17:55:55.197392Z",
     "iopub.status.busy": "2025-03-25T17:55:55.197046Z",
     "iopub.status.idle": "2025-03-25T17:55:55.204892Z",
     "shell.execute_reply": "2025-03-25T17:55:55.203843Z",
     "shell.execute_reply.started": "2025-03-25T17:55:55.197360Z"
    },
    "id": "wHg3X1CcMMTV",
    "outputId": "3b4405f8-4f35-4d37-f6ba-dcea55e97870",
    "trusted": true
   },
   "outputs": [
    {
     "name": "stdout",
     "output_type": "stream",
     "text": [
      "\n",
      "Examples from training set:\n",
      "Example 0: {'text': 'Alphabet Scraps Plan to Blanket Globe With Internet Balloons', 'label': 0}\n",
      "Example 1: {'text': 'US Boy Scouts and hikers airlifted from wildfire in Utah', 'label': 0}\n",
      "Example 2: {'text': \"Here's What Happened When I Road Tripped Around Southern California For A Week\", 'label': 1}\n",
      "\n",
      "Examples from validation set:\n",
      "Example 0: {'text': '27 Happy Gifts For People Who Love Jamaica', 'label': 1}\n",
      "Example 1: {'text': 'How Adulthood Happens ', 'label': 1}\n",
      "Example 2: {'text': 'President Donald Trump Has Historically Low Approval Ratings As He Nears 100-Day Mark', 'label': 0}\n"
     ]
    }
   ],
   "source": [
    "# Look at some examples\n",
    "print(\"\\nExamples from training set:\")\n",
    "for i in range(3):\n",
    "    print(f\"Example {i}: {dataset['train'][i]}\")\n",
    "\n",
    "print(\"\\nExamples from validation set:\")\n",
    "for i in range(3):\n",
    "    print(f\"Example {i}: {dataset['validation'][i]}\")"
   ]
  },
  {
   "cell_type": "code",
   "execution_count": 16,
   "metadata": {
    "colab": {
     "base_uri": "https://localhost:8080/"
    },
    "execution": {
     "iopub.execute_input": "2025-03-25T17:55:57.737487Z",
     "iopub.status.busy": "2025-03-25T17:55:57.737154Z",
     "iopub.status.idle": "2025-03-25T17:55:58.927746Z",
     "shell.execute_reply": "2025-03-25T17:55:58.926704Z",
     "shell.execute_reply.started": "2025-03-25T17:55:57.737455Z"
    },
    "id": "J28haVbgMMTV",
    "outputId": "90d0fa76-62a4-48f7-c73f-746841fcb675",
    "trusted": true
   },
   "outputs": [
    {
     "name": "stdout",
     "output_type": "stream",
     "text": [
      "\n",
      "Class distribution:\n",
      "Training set: Clickbait: 16257, Not clickbait: 27545\n",
      "Validation set: Clickbait: 813, Not clickbait: 1378\n",
      "Test set: Clickbait: 3252, Not clickbait: 5508\n"
     ]
    }
   ],
   "source": [
    "# Look at class distribution\n",
    "train_labels = [example['label'] for example in dataset['train']]\n",
    "val_labels = [example['label'] for example in dataset['validation']]\n",
    "test_labels = [example['label'] for example in dataset['test']]\n",
    "\n",
    "print(\"\\nClass distribution:\")\n",
    "print(f\"Training set: Clickbait: {train_labels.count(1)}, Not clickbait: {train_labels.count(0)}\")\n",
    "print(f\"Validation set: Clickbait: {val_labels.count(1)}, Not clickbait: {val_labels.count(0)}\")\n",
    "print(f\"Test set: Clickbait: {test_labels.count(1)}, Not clickbait: {test_labels.count(0)}\")\n"
   ]
  },
  {
   "cell_type": "markdown",
   "metadata": {
    "id": "HoUKDhAOMMTW"
   },
   "source": [
    "## Explore tokenization"
   ]
  },
  {
   "cell_type": "code",
   "execution_count": 17,
   "metadata": {
    "colab": {
     "base_uri": "https://localhost:8080/",
     "height": 241,
     "referenced_widgets": [
      "fcea44a2fd8548b884453d020a0e82c1",
      "3b172789a530421f8757fc1c571762a6",
      "0600275b4f064c25a26c89b1a4b913f2",
      "6254e6d8d84e4acbbb1b27bc1a4c2f5d",
      "7cbe4300524646f38de607b883fe6788",
      "017e7bba46da457d860080999de49695",
      "21f3bf3b1f0f4f7ba7b91e89c56446b9",
      "c24490c70ef44daa93150a1c631425c6",
      "382a095f96534a02a61051d4dce5a215",
      "008672ac6a9d4e78afab80bf44b2442f",
      "c251e94aa7604b43a2689ad4ad006fd0",
      "ef98394ab200409099fd26e610dedf8c",
      "96316b9e77ef4766934f03ba08ea7920",
      "baa0e5a460dc4b848b2386ae69f3e3d3",
      "ae27a35ea0d34d52ba9f01053d988a40",
      "5978808734124efd9c70d97dc771047d",
      "f715afd01edf4accaedfadf9fff3ae0d",
      "9d514de8880249aeb2dbdda6cd7063fc",
      "86357b7baa2b4e5f891ef9116905ae1f",
      "4ffe43597de64eeb9a3d620f20b81cc1",
      "d41428546d8e45d7b8b7ba9345b22739",
      "576eb9eef2a34f54823480fd0edc87b9",
      "a2db9fab44a641ee8b9aa3d1d88c6ad2",
      "0eb655d2910b4f52b9ddc4e91e9bedc5",
      "7851d74ad8b64a31b28e5db36c806372",
      "7056e3f7150c44ffb05ab7e6a5e46a10",
      "28774e7344674fe3a0af31c17bd948b2",
      "f1da9c6395a3433bae47427ded3e7f46",
      "5146e2db496b4748af249da3da2d34f5",
      "672427d9f84b484ba6b8c8e1043f2b68",
      "2b32037eb3084c9890b9c3000ef0c0ba",
      "d245f2f17e8b496fab06d6341a9d97ff",
      "2306eb629027425eb7b053227b4aaebb",
      "e5a12de47ba64ccfb86f66d3acaa0f69",
      "d82f863af6c741f380345d59a38eccf3",
      "a8c17dcc1dc449f99a1bf458fc3ab049",
      "39c61765003241e0855e94e4621106f0",
      "20fa2d6111214d0b8383aa5f812775bc",
      "52e3005f4e1a49b0b0cd5a3724f62651",
      "dcb315c07d944bd68439ee596919a547",
      "d0cce743439540f7820d0f176b1051a2",
      "ce7fbdc08f604768b96e4e4855485aa2",
      "8eda94d059b645aab921dee4ffbb0571",
      "3761298940d54f7ab18604b2bab1ae56",
      "099b9f61f624424b90c1a64a0d8a4d9c",
      "00f08fe241674ed48ca28e5d00689b35",
      "c7c4cd29497c4794a342b6ac8032436a",
      "96612e5fef6a4d3eb00fc62b9d1b78b5",
      "d163029990fe4b89a60356d97e1b4355",
      "ca08723129f24f669014da1fe0257385",
      "71652e187dea48f49f8007ea7ce37b35",
      "71f68b322a9749e4b0c54031726e72d4",
      "6af56aa1833c45008ceaba34e55b0787",
      "2d1c7807355443449d7cf79fbdcc0277",
      "1e299faae87147bbaa24c5e81acbcf7e",
      "54b59bbbba774e09b78a831277390386",
      "cf9cc2fd64e04f3e95fe2fda4c15c049",
      "adf7c3fb7460408e8d9fe274811e1d04",
      "5a32801c36e34df791d09115b75bafef",
      "c2ea561b22304965b37f618cd0f9cfc3",
      "e182b9b24f9b48aba7fa3038a87ca7ca",
      "902231ab7300442987a1097a0e66c92a",
      "60c55e8c2ae844068d9ff51735fcbc77",
      "d93bd8dfe0a844398ff96afd147cb97b",
      "1f5a13e2ab3e4be6bb162b39690f17ff",
      "dc15b51ad2c2468cb02a79f7a7c7522f",
      "75ac5d775ba04ef0821a00cfd0367d17",
      "0c2fea2ddea04acb897c601e620f0e11",
      "ef7080d41b77414a87e8706b0718ffe1",
      "357ed72e26ee4fecbe029925f6dc6679",
      "8801bc3956af454d9a3b346374b87520",
      "3ad6be26f8bd4a71adaae956c4fd973e",
      "0fd4465292014a1da30d8f1f09c06513",
      "f2a947989a5a4c8e8b7a2b7094bff45d",
      "1ef603e7aee74242ad090627535bc753",
      "aa7ad2eb60564b9ebb1c6f227c2bed4d",
      "601b495947e34751967d25ab1f0c32fc"
     ]
    },
    "execution": {
     "iopub.execute_input": "2025-03-25T17:56:02.621524Z",
     "iopub.status.busy": "2025-03-25T17:56:02.621222Z",
     "iopub.status.idle": "2025-03-25T17:56:03.196510Z",
     "shell.execute_reply": "2025-03-25T17:56:03.195558Z",
     "shell.execute_reply.started": "2025-03-25T17:56:02.621500Z"
    },
    "id": "nGCStYPiMMTW",
    "outputId": "a27094b7-d937-4875-bf72-4004c1d3596f",
    "trusted": true
   },
   "outputs": [],
   "source": [
    "# Explore tokenization\n",
    "bert_tokenizer = get_tokenizer(\"bert-base-uncased\")\n",
    "modernbert_tokenizer = get_tokenizer(\"answerdotai/ModernBERT-base\")"
   ]
  },
  {
   "cell_type": "code",
   "execution_count": 18,
   "metadata": {
    "colab": {
     "base_uri": "https://localhost:8080/"
    },
    "execution": {
     "iopub.execute_input": "2025-03-25T17:56:09.197264Z",
     "iopub.status.busy": "2025-03-25T17:56:09.196987Z",
     "iopub.status.idle": "2025-03-25T17:56:09.203914Z",
     "shell.execute_reply": "2025-03-25T17:56:09.203043Z",
     "shell.execute_reply.started": "2025-03-25T17:56:09.197243Z"
    },
    "id": "CnbAQl6eMMTW",
    "outputId": "a93fcd2d-ab23-496f-b5da-29e8b2c06471",
    "trusted": true
   },
   "outputs": [
    {
     "name": "stdout",
     "output_type": "stream",
     "text": [
      "\n",
      "Tokenization examples:\n",
      "Original text: '15 Things You Never Noticed About Owning A Cat'\n",
      "BERT tokenization: ['15', 'things', 'you', 'never', 'noticed', 'about', 'owning', 'a', 'cat']\n",
      "ModernBERT tokenization: ['15', 'ĠThings', 'ĠYou', 'ĠNever', 'ĠNot', 'iced', 'ĠAbout', 'ĠOw', 'ning', 'ĠA', 'ĠCat']\n"
     ]
    }
   ],
   "source": [
    "print(\"\\nTokenization examples:\")\n",
    "example_text = dataset['train'][8]['text']\n",
    "print(f\"Original text: '{example_text}'\")\n",
    "print(f\"BERT tokenization: {bert_tokenizer.tokenize(example_text)}\")\n",
    "print(f\"ModernBERT tokenization: {modernbert_tokenizer.tokenize(example_text)}\")"
   ]
  },
  {
   "cell_type": "markdown",
   "metadata": {
    "id": "rkfqgTgNMMTW"
   },
   "source": [
    "##  Model Selection\n",
    "\n",
    "compare the performance of two different transformer architectures for the clickbait detection task:\n",
    "\n",
    "1. **BERT (bert-base-uncased)**: A widely-used transformer model developed by Google that has been pre-trained on a large corpus of English text.\n",
    "\n",
    "2. **ModernBERT (answerdotai/ModernBERT-base)**: A more recent transformer variant that has been trained on newer text data and may have better performance on contemporary language patterns.\n",
    "\n",
    "train and evaluate both models with the same baseline configuration to determine which architecture provides a stronger foundation for our clickbait detection system.\n",
    "\n",
    "This comparison will help us understand:\n",
    "- Which model better captures the linguistic patterns characteristic of clickbait\n",
    "- Whether the newer ModernBERT has advantages over the classic BERT architecture for this specific application\n",
    "\n",
    "select the better-performing model to use as the foundation for further refinement."
   ]
  },
  {
   "cell_type": "code",
   "execution_count": null,
   "metadata": {
    "execution": {
     "iopub.execute_input": "2025-03-25T17:56:13.873292Z",
     "iopub.status.busy": "2025-03-25T17:56:13.873012Z",
     "iopub.status.idle": "2025-03-25T17:56:13.881484Z",
     "shell.execute_reply": "2025-03-25T17:56:13.880409Z",
     "shell.execute_reply.started": "2025-03-25T17:56:13.873271Z"
    },
    "id": "xAsuDK8TMMTW",
    "trusted": true
   },
   "outputs": [],
   "source": [
    "def run_model_selection():\n",
    "    \"\"\"Run model selection task comparing BERT and RoBERTa\"\"\"\n",
    "\n",
    "    # Define models to compare\n",
    "    model_configs = [\n",
    "        {\n",
    "            \"name\": \"bert-base-uncased\",\n",
    "            \"display_name\": \"BERT\",\n",
    "            \"freeze_base\": True\n",
    "        },\n",
    "        {\n",
    "            \"name\": \"answerdotai/ModernBERT-base\",\n",
    "            \"display_name\": \"ModernBERT\",\n",
    "            \"freeze_base\": True\n",
    "        }\n",
    "    ]\n",
    "\n",
    "    # Training parameters\n",
    "    train_params = {\n",
    "        \"num_epochs\": 3,\n",
    "        \"batch_size\": 32,\n",
    "        \"optimizer_cls\": \"Adam\",\n",
    "        \"lr\": 1e-3,\n",
    "        \"weight_decay\": 1e-4,\n",
    "        \"hidden_size\": 128,\n",
    "        \"num_layers\": 1\n",
    "    }\n",
    "\n",
    "    results = []\n",
    "\n",
    "    for config in model_configs:\n",
    "        model_name = config[\"name\"]\n",
    "        display_name = config[\"display_name\"]\n",
    "        print(f\"\\n{'='*50}\")\n",
    "        print(f\"Training and evaluating {display_name} model\")\n",
    "        print(f\"{'='*50}\")\n",
    "\n",
    "        tokenizer = get_tokenizer(model_name)\n",
    "\n",
    "        # Initialize wandb\n",
    "        wandb_config = {**config, **train_params}\n",
    "        init_wandb(wandb_config, \"clickbait-detection-task1\")\n",
    "\n",
    "        # Create model\n",
    "        model = get_model(\n",
    "            model_name=model_name,\n",
    "            num_classes=2,\n",
    "            freeze_base=config[\"freeze_base\"],\n",
    "            hidden_size=train_params[\"hidden_size\"],\n",
    "            num_layers=train_params[\"num_layers\"]\n",
    "        )\n",
    "\n",
    "        # Print the number of trainable parameters in the model\n",
    "        num_params = sum(p.numel() for p in model.parameters() if p.requires_grad)\n",
    "        print(f\"Model trainable parameters: {num_params}\")\n",
    "\n",
    "        # Train model\n",
    "        model, logs = train(\n",
    "            model=model,\n",
    "            train_dataset=dataset['train'],\n",
    "            val_dataset=dataset['validation'],\n",
    "            num_epochs=train_params[\"num_epochs\"],\n",
    "            batch_size=train_params[\"batch_size\"],\n",
    "            optimizer_cls=train_params[\"optimizer_cls\"],\n",
    "            lr=train_params[\"lr\"],\n",
    "            weight_decay=train_params[\"weight_decay\"],\n",
    "            device=device,\n",
    "            tokenizer=tokenizer,\n",
    "            use_wandb=True\n",
    "        )\n",
    "\n",
    "        # Evaluate on validation set\n",
    "        val_loss, val_acc, _, _, _ = evaluate(\n",
    "            model=model,\n",
    "            dataset=dataset['validation'],\n",
    "            batch_size=train_params[\"batch_size\"],\n",
    "            device=device,\n",
    "            tokenizer=tokenizer\n",
    "        )\n",
    "\n",
    "        # Record results\n",
    "        results.append({\n",
    "            \"model_name\": model_name,\n",
    "            \"display_name\": display_name,\n",
    "            \"val_accuracy\": val_acc,\n",
    "            \"val_loss\": val_loss,\n",
    "            \"logs\": logs,\n",
    "            \"model\": model,\n",
    "            \"tokenizer\": tokenizer\n",
    "        })\n",
    "\n",
    "        wandb.finish()\n",
    "\n",
    "    # Compare results\n",
    "    print(\"\\nModel Selection Results:\")\n",
    "    print(f\"{'Model':<10} {'Validation Accuracy':<20} {'Validation Loss':<15}\")\n",
    "    print(\"-\" * 45)\n",
    "\n",
    "    for result in results:\n",
    "        print(f\"{result['display_name']:<10} {result['val_accuracy']:.4f}{' '*15} {result['val_loss']:.4f}\")\n",
    "\n",
    "    return results\n"
   ]
  },
  {
   "cell_type": "code",
   "execution_count": 20,
   "metadata": {
    "colab": {
     "base_uri": "https://localhost:8080/",
     "height": 1000
    },
    "execution": {
     "iopub.execute_input": "2025-03-25T17:56:18.583925Z",
     "iopub.status.busy": "2025-03-25T17:56:18.583618Z",
     "iopub.status.idle": "2025-03-25T18:13:54.217300Z",
     "shell.execute_reply": "2025-03-25T18:13:54.216625Z",
     "shell.execute_reply.started": "2025-03-25T17:56:18.583900Z"
    },
    "id": "H9NnujoZMMTW",
    "outputId": "827b22bc-7d2e-4d24-ac76-960fbd833ac0",
    "scrolled": true,
    "trusted": true
   },
   "outputs": [
    {
     "name": "stdout",
     "output_type": "stream",
     "text": [
      "\n",
      "==================================================\n",
      "Training and evaluating BERT model\n",
      "==================================================\n"
     ]
    },
    {
     "name": "stderr",
     "output_type": "stream",
     "text": [
      "\u001b[34m\u001b[1mwandb\u001b[0m: Using wandb-core as the SDK backend.  Please refer to https://wandb.me/wandb-core for more information.\n",
      "\u001b[34m\u001b[1mwandb\u001b[0m: Currently logged in as: \u001b[33mmariamsu\u001b[0m (\u001b[33mmariamsu-carnegie-mellon-university\u001b[0m). Use \u001b[1m`wandb login --relogin`\u001b[0m to force relogin\n",
      "\u001b[34m\u001b[1mwandb\u001b[0m: \u001b[33mWARNING\u001b[0m If you're specifying your api key in code, ensure this code is not shared publicly.\n",
      "\u001b[34m\u001b[1mwandb\u001b[0m: \u001b[33mWARNING\u001b[0m Consider setting the WANDB_API_KEY environment variable, or running `wandb login` from the command line.\n",
      "\u001b[34m\u001b[1mwandb\u001b[0m: Appending key for api.wandb.ai to your netrc file: /root/.netrc\n"
     ]
    },
    {
     "data": {
      "text/html": [
       "Tracking run with wandb version 0.19.1"
      ],
      "text/plain": [
       "<IPython.core.display.HTML object>"
      ]
     },
     "metadata": {},
     "output_type": "display_data"
    },
    {
     "data": {
      "text/html": [
       "Run data is saved locally in <code>/kaggle/working/wandb/run-20250325_175626-udng5vq4</code>"
      ],
      "text/plain": [
       "<IPython.core.display.HTML object>"
      ]
     },
     "metadata": {},
     "output_type": "display_data"
    },
    {
     "data": {
      "text/html": [
       "Syncing run <strong><a href='https://wandb.ai/mariamsu-carnegie-mellon-university/clickbait-detection-task1/runs/udng5vq4' target=\"_blank\">lucky-armadillo-28</a></strong> to <a href='https://wandb.ai/mariamsu-carnegie-mellon-university/clickbait-detection-task1' target=\"_blank\">Weights & Biases</a> (<a href='https://wandb.me/developer-guide' target=\"_blank\">docs</a>)<br>"
      ],
      "text/plain": [
       "<IPython.core.display.HTML object>"
      ]
     },
     "metadata": {},
     "output_type": "display_data"
    },
    {
     "data": {
      "text/html": [
       " View project at <a href='https://wandb.ai/mariamsu-carnegie-mellon-university/clickbait-detection-task1' target=\"_blank\">https://wandb.ai/mariamsu-carnegie-mellon-university/clickbait-detection-task1</a>"
      ],
      "text/plain": [
       "<IPython.core.display.HTML object>"
      ]
     },
     "metadata": {},
     "output_type": "display_data"
    },
    {
     "data": {
      "text/html": [
       " View run at <a href='https://wandb.ai/mariamsu-carnegie-mellon-university/clickbait-detection-task1/runs/udng5vq4' target=\"_blank\">https://wandb.ai/mariamsu-carnegie-mellon-university/clickbait-detection-task1/runs/udng5vq4</a>"
      ],
      "text/plain": [
       "<IPython.core.display.HTML object>"
      ]
     },
     "metadata": {},
     "output_type": "display_data"
    },
    {
     "data": {
      "application/vnd.jupyter.widget-view+json": {
       "model_id": "8109ff669b754dc498ca981e39000fd9",
       "version_major": 2,
       "version_minor": 0
      },
      "text/plain": [
       "model.safetensors:   0%|          | 0.00/440M [00:00<?, ?B/s]"
      ]
     },
     "metadata": {},
     "output_type": "display_data"
    },
    {
     "name": "stdout",
     "output_type": "stream",
     "text": [
      "Model trainable parameters: 98690\n",
      "Epoch: 1, Step: 100, Train Loss: 3.538e-01, Train Accuracy: 0.844\n",
      "Epoch: 1, Step: 200, Train Loss: 2.389e-01, Train Accuracy: 0.906\n",
      "Epoch: 1, Step: 300, Train Loss: 2.750e-01, Train Accuracy: 0.938\n",
      "Epoch: 1, Step: 400, Train Loss: 1.916e-01, Train Accuracy: 0.938\n",
      "Epoch: 1, Step: 500, Train Loss: 1.992e-01, Train Accuracy: 0.969\n",
      "Epoch: 1, Step: 600, Train Loss: 3.457e-01, Train Accuracy: 0.844\n",
      "Epoch: 1, Step: 700, Train Loss: 3.239e-01, Train Accuracy: 0.844\n",
      "Epoch: 1, Step: 800, Train Loss: 1.829e-01, Train Accuracy: 0.938\n",
      "Epoch: 1, Step: 900, Train Loss: 3.100e-01, Train Accuracy: 0.875\n",
      "Epoch: 1, Step: 1000, Train Loss: 2.143e-01, Train Accuracy: 0.844\n",
      "Epoch: 1, Step: 1100, Train Loss: 2.096e-01, Train Accuracy: 0.906\n",
      "Epoch: 1, Step: 1200, Train Loss: 2.914e-01, Train Accuracy: 0.906\n",
      "Epoch: 1, Step: 1300, Train Loss: 3.348e-01, Train Accuracy: 0.844\n",
      "epoch: 1\t train_loss: 2.907e-01\t train_accuracy:0.884\t val_loss: 2.819e-01\t val_accuracy:0.895\n",
      "Epoch: 2, Step: 1400, Train Loss: 2.813e-01, Train Accuracy: 0.875\n",
      "Epoch: 2, Step: 1500, Train Loss: 3.378e-01, Train Accuracy: 0.875\n",
      "Epoch: 2, Step: 1600, Train Loss: 2.406e-01, Train Accuracy: 0.938\n",
      "Epoch: 2, Step: 1700, Train Loss: 2.141e-01, Train Accuracy: 0.969\n",
      "Epoch: 2, Step: 1800, Train Loss: 1.998e-01, Train Accuracy: 0.906\n",
      "Epoch: 2, Step: 1900, Train Loss: 5.700e-01, Train Accuracy: 0.812\n",
      "Epoch: 2, Step: 2000, Train Loss: 1.530e-01, Train Accuracy: 0.969\n",
      "Epoch: 2, Step: 2100, Train Loss: 1.126e-01, Train Accuracy: 0.969\n",
      "Epoch: 2, Step: 2200, Train Loss: 2.140e-01, Train Accuracy: 0.906\n",
      "Epoch: 2, Step: 2300, Train Loss: 3.912e-01, Train Accuracy: 0.844\n",
      "Epoch: 2, Step: 2400, Train Loss: 3.343e-01, Train Accuracy: 0.844\n",
      "Epoch: 2, Step: 2500, Train Loss: 3.831e-01, Train Accuracy: 0.875\n",
      "Epoch: 2, Step: 2600, Train Loss: 4.146e-01, Train Accuracy: 0.875\n",
      "Epoch: 2, Step: 2700, Train Loss: 2.325e-01, Train Accuracy: 0.875\n",
      "epoch: 2\t train_loss: 2.711e-01\t train_accuracy:0.894\t val_loss: 2.741e-01\t val_accuracy:0.891\n",
      "Epoch: 3, Step: 2800, Train Loss: 1.517e-01, Train Accuracy: 1.000\n",
      "Epoch: 3, Step: 2900, Train Loss: 1.531e-01, Train Accuracy: 0.938\n",
      "Epoch: 3, Step: 3000, Train Loss: 2.117e-01, Train Accuracy: 0.906\n",
      "Epoch: 3, Step: 3100, Train Loss: 2.564e-01, Train Accuracy: 0.875\n",
      "Epoch: 3, Step: 3200, Train Loss: 3.687e-01, Train Accuracy: 0.906\n",
      "Epoch: 3, Step: 3300, Train Loss: 1.676e-01, Train Accuracy: 0.938\n",
      "Epoch: 3, Step: 3400, Train Loss: 1.969e-01, Train Accuracy: 0.938\n",
      "Epoch: 3, Step: 3500, Train Loss: 1.500e-01, Train Accuracy: 0.938\n",
      "Epoch: 3, Step: 3600, Train Loss: 3.020e-01, Train Accuracy: 0.906\n",
      "Epoch: 3, Step: 3700, Train Loss: 2.619e-01, Train Accuracy: 0.844\n",
      "Epoch: 3, Step: 3800, Train Loss: 2.047e-01, Train Accuracy: 0.906\n",
      "Epoch: 3, Step: 3900, Train Loss: 3.198e-01, Train Accuracy: 0.812\n",
      "Epoch: 3, Step: 4000, Train Loss: 2.973e-01, Train Accuracy: 0.875\n",
      "Epoch: 3, Step: 4100, Train Loss: 4.047e-01, Train Accuracy: 0.812\n",
      "epoch: 3\t train_loss: 2.630e-01\t train_accuracy:0.895\t val_loss: 2.733e-01\t val_accuracy:0.897\n"
     ]
    },
    {
     "data": {
      "text/html": [],
      "text/plain": [
       "<IPython.core.display.HTML object>"
      ]
     },
     "metadata": {},
     "output_type": "display_data"
    },
    {
     "data": {
      "text/html": [
       "<br>    <style><br>        .wandb-row {<br>            display: flex;<br>            flex-direction: row;<br>            flex-wrap: wrap;<br>            justify-content: flex-start;<br>            width: 100%;<br>        }<br>        .wandb-col {<br>            display: flex;<br>            flex-direction: column;<br>            flex-basis: 100%;<br>            flex: 1;<br>            padding: 10px;<br>        }<br>    </style><br><div class=\"wandb-row\"><div class=\"wandb-col\"><h3>Run history:</h3><br/><table class=\"wandb\"><tr><td>epoch</td><td>▁▁▁▁▁▁▁▁▁▁▁▁▁▅▅▅▅▅▅▅▅▅▅▅▅▅▅█████████████</td></tr><tr><td>global_step</td><td>▁▁▁▂▂▂▂▂▂▃▃▃▃▃▃▄▄▄▄▄▅▅▅▅▅▅▆▆▆▆▆▆▇▇▇▇▇▇██</td></tr><tr><td>train_accuracy</td><td>▁▇█</td></tr><tr><td>train_accuracy_step</td><td>▂▅▆▆▇▂▂▆▃▂▅▅▂▃▃▆▇▅▁▇▇▅▂▂▃▃▃█▆▅▃▅▆▆▆▅▂▅▁▁</td></tr><tr><td>train_loss</td><td>█▃▁</td></tr><tr><td>train_loss_step</td><td>▅▃▃▂▂▅▄▂▄▃▂▄▄▄▄▃▃▂█▂▁▃▅▄▅▆▃▂▂▃▃▅▂▂▂▄▃▂▄▅</td></tr><tr><td>val_accuracy</td><td>▆▁█</td></tr><tr><td>val_loss</td><td>█▂▁</td></tr></table><br/></div><div class=\"wandb-col\"><h3>Run summary:</h3><br/><table class=\"wandb\"><tr><td>epoch</td><td>3</td></tr><tr><td>global_step</td><td>4100</td></tr><tr><td>train_accuracy</td><td>0.89525</td></tr><tr><td>train_accuracy_step</td><td>0.8125</td></tr><tr><td>train_loss</td><td>0.26298</td></tr><tr><td>train_loss_step</td><td>0.4047</td></tr><tr><td>val_accuracy</td><td>0.89662</td></tr><tr><td>val_loss</td><td>0.27334</td></tr></table><br/></div></div>"
      ],
      "text/plain": [
       "<IPython.core.display.HTML object>"
      ]
     },
     "metadata": {},
     "output_type": "display_data"
    },
    {
     "data": {
      "text/html": [
       " View run <strong style=\"color:#cdcd00\">lucky-armadillo-28</strong> at: <a href='https://wandb.ai/mariamsu-carnegie-mellon-university/clickbait-detection-task1/runs/udng5vq4' target=\"_blank\">https://wandb.ai/mariamsu-carnegie-mellon-university/clickbait-detection-task1/runs/udng5vq4</a><br> View project at: <a href='https://wandb.ai/mariamsu-carnegie-mellon-university/clickbait-detection-task1' target=\"_blank\">https://wandb.ai/mariamsu-carnegie-mellon-university/clickbait-detection-task1</a><br>Synced 5 W&B file(s), 0 media file(s), 0 artifact file(s) and 0 other file(s)"
      ],
      "text/plain": [
       "<IPython.core.display.HTML object>"
      ]
     },
     "metadata": {},
     "output_type": "display_data"
    },
    {
     "data": {
      "text/html": [
       "Find logs at: <code>./wandb/run-20250325_175626-udng5vq4/logs</code>"
      ],
      "text/plain": [
       "<IPython.core.display.HTML object>"
      ]
     },
     "metadata": {},
     "output_type": "display_data"
    },
    {
     "name": "stdout",
     "output_type": "stream",
     "text": [
      "\n",
      "==================================================\n",
      "Training and evaluating ModernBERT model\n",
      "==================================================\n"
     ]
    },
    {
     "name": "stderr",
     "output_type": "stream",
     "text": [
      "\u001b[34m\u001b[1mwandb\u001b[0m: \u001b[33mWARNING\u001b[0m If you're specifying your api key in code, ensure this code is not shared publicly.\n",
      "\u001b[34m\u001b[1mwandb\u001b[0m: \u001b[33mWARNING\u001b[0m Consider setting the WANDB_API_KEY environment variable, or running `wandb login` from the command line.\n",
      "\u001b[34m\u001b[1mwandb\u001b[0m: Appending key for api.wandb.ai to your netrc file: /root/.netrc\n"
     ]
    },
    {
     "data": {
      "text/html": [
       "Tracking run with wandb version 0.19.1"
      ],
      "text/plain": [
       "<IPython.core.display.HTML object>"
      ]
     },
     "metadata": {},
     "output_type": "display_data"
    },
    {
     "data": {
      "text/html": [
       "Run data is saved locally in <code>/kaggle/working/wandb/run-20250325_180327-x5f5lhp6</code>"
      ],
      "text/plain": [
       "<IPython.core.display.HTML object>"
      ]
     },
     "metadata": {},
     "output_type": "display_data"
    },
    {
     "data": {
      "text/html": [
       "Syncing run <strong><a href='https://wandb.ai/mariamsu-carnegie-mellon-university/clickbait-detection-task1/runs/x5f5lhp6' target=\"_blank\">divine-star-29</a></strong> to <a href='https://wandb.ai/mariamsu-carnegie-mellon-university/clickbait-detection-task1' target=\"_blank\">Weights & Biases</a> (<a href='https://wandb.me/developer-guide' target=\"_blank\">docs</a>)<br>"
      ],
      "text/plain": [
       "<IPython.core.display.HTML object>"
      ]
     },
     "metadata": {},
     "output_type": "display_data"
    },
    {
     "data": {
      "text/html": [
       " View project at <a href='https://wandb.ai/mariamsu-carnegie-mellon-university/clickbait-detection-task1' target=\"_blank\">https://wandb.ai/mariamsu-carnegie-mellon-university/clickbait-detection-task1</a>"
      ],
      "text/plain": [
       "<IPython.core.display.HTML object>"
      ]
     },
     "metadata": {},
     "output_type": "display_data"
    },
    {
     "data": {
      "text/html": [
       " View run at <a href='https://wandb.ai/mariamsu-carnegie-mellon-university/clickbait-detection-task1/runs/x5f5lhp6' target=\"_blank\">https://wandb.ai/mariamsu-carnegie-mellon-university/clickbait-detection-task1/runs/x5f5lhp6</a>"
      ],
      "text/plain": [
       "<IPython.core.display.HTML object>"
      ]
     },
     "metadata": {},
     "output_type": "display_data"
    },
    {
     "data": {
      "application/vnd.jupyter.widget-view+json": {
       "model_id": "a6ac56306bef4d4797189302fc5e0735",
       "version_major": 2,
       "version_minor": 0
      },
      "text/plain": [
       "config.json:   0%|          | 0.00/1.19k [00:00<?, ?B/s]"
      ]
     },
     "metadata": {},
     "output_type": "display_data"
    },
    {
     "data": {
      "application/vnd.jupyter.widget-view+json": {
       "model_id": "e4db12d4ac9a4023a561b9a1bbd020e9",
       "version_major": 2,
       "version_minor": 0
      },
      "text/plain": [
       "model.safetensors:   0%|          | 0.00/599M [00:00<?, ?B/s]"
      ]
     },
     "metadata": {},
     "output_type": "display_data"
    },
    {
     "name": "stdout",
     "output_type": "stream",
     "text": [
      "Model trainable parameters: 98690\n",
      "Epoch: 1, Step: 100, Train Loss: 6.226e-01, Train Accuracy: 0.750\n",
      "Epoch: 1, Step: 200, Train Loss: 5.580e-01, Train Accuracy: 0.719\n",
      "Epoch: 1, Step: 300, Train Loss: 2.003e-01, Train Accuracy: 0.969\n",
      "Epoch: 1, Step: 400, Train Loss: 3.300e-01, Train Accuracy: 0.906\n",
      "Epoch: 1, Step: 500, Train Loss: 2.981e-01, Train Accuracy: 0.844\n",
      "Epoch: 1, Step: 600, Train Loss: 2.607e-01, Train Accuracy: 0.844\n",
      "Epoch: 1, Step: 700, Train Loss: 3.093e-01, Train Accuracy: 0.906\n",
      "Epoch: 1, Step: 800, Train Loss: 1.684e-01, Train Accuracy: 0.938\n",
      "Epoch: 1, Step: 900, Train Loss: 4.787e-01, Train Accuracy: 0.781\n",
      "Epoch: 1, Step: 1000, Train Loss: 5.047e-01, Train Accuracy: 0.781\n",
      "Epoch: 1, Step: 1100, Train Loss: 1.758e-01, Train Accuracy: 0.938\n",
      "Epoch: 1, Step: 1200, Train Loss: 1.091e-01, Train Accuracy: 0.969\n",
      "Epoch: 1, Step: 1300, Train Loss: 1.455e-01, Train Accuracy: 0.938\n",
      "epoch: 1\t train_loss: 2.988e-01\t train_accuracy:0.881\t val_loss: 2.708e-01\t val_accuracy:0.893\n",
      "Epoch: 2, Step: 1400, Train Loss: 5.260e-01, Train Accuracy: 0.812\n",
      "Epoch: 2, Step: 1500, Train Loss: 4.403e-01, Train Accuracy: 0.812\n",
      "Epoch: 2, Step: 1600, Train Loss: 2.736e-01, Train Accuracy: 0.906\n",
      "Epoch: 2, Step: 1700, Train Loss: 2.706e-01, Train Accuracy: 0.875\n",
      "Epoch: 2, Step: 1800, Train Loss: 2.012e-01, Train Accuracy: 0.938\n",
      "Epoch: 2, Step: 1900, Train Loss: 8.341e-02, Train Accuracy: 1.000\n",
      "Epoch: 2, Step: 2000, Train Loss: 4.148e-01, Train Accuracy: 0.844\n",
      "Epoch: 2, Step: 2100, Train Loss: 2.338e-01, Train Accuracy: 0.906\n",
      "Epoch: 2, Step: 2200, Train Loss: 2.939e-01, Train Accuracy: 0.781\n",
      "Epoch: 2, Step: 2300, Train Loss: 3.632e-01, Train Accuracy: 0.812\n",
      "Epoch: 2, Step: 2400, Train Loss: 1.119e-01, Train Accuracy: 1.000\n",
      "Epoch: 2, Step: 2500, Train Loss: 1.963e-01, Train Accuracy: 0.969\n",
      "Epoch: 2, Step: 2600, Train Loss: 2.791e-01, Train Accuracy: 0.906\n",
      "Epoch: 2, Step: 2700, Train Loss: 2.067e-01, Train Accuracy: 0.906\n",
      "epoch: 2\t train_loss: 2.658e-01\t train_accuracy:0.898\t val_loss: 2.528e-01\t val_accuracy:0.899\n",
      "Epoch: 3, Step: 2800, Train Loss: 1.336e-01, Train Accuracy: 0.938\n",
      "Epoch: 3, Step: 2900, Train Loss: 1.735e-01, Train Accuracy: 0.906\n",
      "Epoch: 3, Step: 3000, Train Loss: 1.362e-01, Train Accuracy: 0.938\n",
      "Epoch: 3, Step: 3100, Train Loss: 2.629e-01, Train Accuracy: 0.906\n",
      "Epoch: 3, Step: 3200, Train Loss: 2.995e-01, Train Accuracy: 0.875\n",
      "Epoch: 3, Step: 3300, Train Loss: 1.857e-01, Train Accuracy: 0.938\n",
      "Epoch: 3, Step: 3400, Train Loss: 4.849e-01, Train Accuracy: 0.781\n",
      "Epoch: 3, Step: 3500, Train Loss: 5.061e-01, Train Accuracy: 0.875\n",
      "Epoch: 3, Step: 3600, Train Loss: 6.019e-02, Train Accuracy: 1.000\n",
      "Epoch: 3, Step: 3700, Train Loss: 1.184e-01, Train Accuracy: 0.938\n",
      "Epoch: 3, Step: 3800, Train Loss: 2.993e-01, Train Accuracy: 0.844\n",
      "Epoch: 3, Step: 3900, Train Loss: 4.519e-01, Train Accuracy: 0.844\n",
      "Epoch: 3, Step: 4000, Train Loss: 1.925e-01, Train Accuracy: 0.906\n",
      "Epoch: 3, Step: 4100, Train Loss: 3.330e-01, Train Accuracy: 0.844\n",
      "epoch: 3\t train_loss: 2.576e-01\t train_accuracy:0.901\t val_loss: 2.535e-01\t val_accuracy:0.902\n"
     ]
    },
    {
     "data": {
      "text/html": [],
      "text/plain": [
       "<IPython.core.display.HTML object>"
      ]
     },
     "metadata": {},
     "output_type": "display_data"
    },
    {
     "data": {
      "text/html": [
       "<br>    <style><br>        .wandb-row {<br>            display: flex;<br>            flex-direction: row;<br>            flex-wrap: wrap;<br>            justify-content: flex-start;<br>            width: 100%;<br>        }<br>        .wandb-col {<br>            display: flex;<br>            flex-direction: column;<br>            flex-basis: 100%;<br>            flex: 1;<br>            padding: 10px;<br>        }<br>    </style><br><div class=\"wandb-row\"><div class=\"wandb-col\"><h3>Run history:</h3><br/><table class=\"wandb\"><tr><td>epoch</td><td>▁▁▁▁▁▁▁▁▁▁▁▁▁▅▅▅▅▅▅▅▅▅▅▅▅▅▅█████████████</td></tr><tr><td>global_step</td><td>▁▁▁▂▂▂▂▂▂▃▃▃▃▃▃▄▄▄▄▄▅▅▅▅▅▅▆▆▆▆▆▆▇▇▇▇▇▇██</td></tr><tr><td>train_accuracy</td><td>▁▇█</td></tr><tr><td>train_accuracy_step</td><td>▂▁▇▆▄▄▆▆▃▃▆▇▆▃▃▆▅▆█▄▆▃▃█▇▆▆▆▆▆▆▅▆▃▅█▆▄▄▄</td></tr><tr><td>train_loss</td><td>█▂▁</td></tr><tr><td>train_loss_step</td><td>█▇▃▄▄▃▄▂▆▇▂▂▂▇▆▄▄▃▁▅▃▄▅▂▃▄▃▂▂▂▄▄▃▆▇▁▂▄▆▄</td></tr><tr><td>val_accuracy</td><td>▁▆█</td></tr><tr><td>val_loss</td><td>█▁▁</td></tr></table><br/></div><div class=\"wandb-col\"><h3>Run summary:</h3><br/><table class=\"wandb\"><tr><td>epoch</td><td>3</td></tr><tr><td>global_step</td><td>4100</td></tr><tr><td>train_accuracy</td><td>0.90056</td></tr><tr><td>train_accuracy_step</td><td>0.84375</td></tr><tr><td>train_loss</td><td>0.25759</td></tr><tr><td>train_loss_step</td><td>0.33301</td></tr><tr><td>val_accuracy</td><td>0.90166</td></tr><tr><td>val_loss</td><td>0.25353</td></tr></table><br/></div></div>"
      ],
      "text/plain": [
       "<IPython.core.display.HTML object>"
      ]
     },
     "metadata": {},
     "output_type": "display_data"
    },
    {
     "data": {
      "text/html": [
       " View run <strong style=\"color:#cdcd00\">divine-star-29</strong> at: <a href='https://wandb.ai/mariamsu-carnegie-mellon-university/clickbait-detection-task1/runs/x5f5lhp6' target=\"_blank\">https://wandb.ai/mariamsu-carnegie-mellon-university/clickbait-detection-task1/runs/x5f5lhp6</a><br> View project at: <a href='https://wandb.ai/mariamsu-carnegie-mellon-university/clickbait-detection-task1' target=\"_blank\">https://wandb.ai/mariamsu-carnegie-mellon-university/clickbait-detection-task1</a><br>Synced 5 W&B file(s), 0 media file(s), 0 artifact file(s) and 0 other file(s)"
      ],
      "text/plain": [
       "<IPython.core.display.HTML object>"
      ]
     },
     "metadata": {},
     "output_type": "display_data"
    },
    {
     "data": {
      "text/html": [
       "Find logs at: <code>./wandb/run-20250325_180327-x5f5lhp6/logs</code>"
      ],
      "text/plain": [
       "<IPython.core.display.HTML object>"
      ]
     },
     "metadata": {},
     "output_type": "display_data"
    },
    {
     "name": "stdout",
     "output_type": "stream",
     "text": [
      "\n",
      "Model Selection Results:\n",
      "Model      Validation Accuracy  Validation Loss\n",
      "---------------------------------------------\n",
      "BERT       0.8966                0.2733\n",
      "ModernBERT 0.9017                0.2535\n"
     ]
    }
   ],
   "source": [
    "# Run model selection\n",
    "task1_results = run_model_selection()"
   ]
  },
  {
   "cell_type": "code",
   "execution_count": null,
   "metadata": {
    "colab": {
     "base_uri": "https://localhost:8080/"
    },
    "execution": {
     "iopub.execute_input": "2025-03-25T18:15:10.081701Z",
     "iopub.status.busy": "2025-03-25T18:15:10.081372Z",
     "iopub.status.idle": "2025-03-25T18:15:10.087500Z",
     "shell.execute_reply": "2025-03-25T18:15:10.086555Z",
     "shell.execute_reply.started": "2025-03-25T18:15:10.081672Z"
    },
    "id": "6-RGPQ5EMMTW",
    "outputId": "636e16fd-6c91-4702-bead-fa45dba53690",
    "trusted": true
   },
   "outputs": [
    {
     "name": "stdout",
     "output_type": "stream",
     "text": [
      "\n",
      "Best model from Task 1: ModernBERT\n",
      "Using ModernBERT for further tasks\n"
     ]
    }
   ],
   "source": [
    "\n",
    "# 1. Find the model with the highest validation accuracy in task1_results\n",
    "best_result = max(task1_results, key=lambda x: x['val_accuracy'])\n",
    "\n",
    "# 2. Extract the model, model_name, and tokenizer from the best result\n",
    "\n",
    "# 3. Print information about which model will be used for further tasks\n",
    "\n",
    "\n",
    "best_model = best_result['model']\n",
    "best_model_name = best_result['display_name']\n",
    "best_tokenizer = best_result['tokenizer']\n",
    "\n",
    "print(f\"\\nBest model from Task 1: {best_model_name}\")\n",
    "print(f\"Using {best_model_name} for further tasks\")"
   ]
  },
  {
   "cell_type": "markdown",
   "metadata": {
    "id": "caraDsPjMMTX"
   },
   "source": [
    "##  Hyperparameter Tuning\n",
    "\n",
    "Now that we have selected the best model architecture, let's tune its hyperparameters to optimize performance.\n",
    "\n",
    "In this task, you'll experiment with different hyperparameter configurations to find the best model. You should explore variations in:\n",
    "\n",
    "- **Hidden layer sizes**: Try different sizes for the hidden layers in your classifier (e.g., 64, 128, 256, 512)\n",
    "- **Number of hidden layers**: Experiment with adding more layers to your classifier (e.g., 1, 2, 3 layers)\n",
    "- **Batch sizes**: Test different batch sizes (e.g., 16, 32, 64) - note that larger batch sizes may cause memory issues\n",
    "- **Learning rates**: Try different learning rates (e.g., 1e-3, 5e-4, 1e-4)\n",
    "- **Freezing base parameters**: Experiment with keeping the whole base model frozen vs unfreezing just the top 5 layers of the base model.\n",
    "- **Optimizer**: You can try different optimizers like Adam, AdamW, or SGD\n",
    "\n",
    "You should run at least 5 different hyperparameter configurations and track their performance using wandb. Below is a template for setting up your experiments.\n"
   ]
  },
  {
   "cell_type": "code",
   "execution_count": null,
   "metadata": {
    "execution": {
     "iopub.execute_input": "2025-03-25T18:15:17.292112Z",
     "iopub.status.busy": "2025-03-25T18:15:17.291810Z",
     "iopub.status.idle": "2025-03-25T18:15:17.298381Z",
     "shell.execute_reply": "2025-03-25T18:15:17.297231Z",
     "shell.execute_reply.started": "2025-03-25T18:15:17.292090Z"
    },
    "id": "j6Ke4VgSMMTX",
    "trusted": true
   },
   "outputs": [],
   "source": [
    "# Define hyperparameters configurations to test\n",
    "\n",
    "hp_configs = [\n",
    "    # Configuration 1 (baseline)\n",
    "    {\n",
    "        \"config_name\": \"Baseline\",\n",
    "        \"hidden_size\": 128,\n",
    "        \"num_layers\": 1,\n",
    "        \"batch_size\": 32,\n",
    "        \"optimizer\": \"Adam\",\n",
    "        \"learning_rate\": 1e-3,\n",
    "        \"weight_decay\": 1e-4,\n",
    "        \"freeze_base\": True,\n",
    "        \"num_epochs\": 5\n",
    "    },\n",
    "\n",
    "    # Configuration 2 \n",
    "    {\n",
    "        \"config_name\": \"Config 2\",\n",
    "        \"hidden_size\": 512,\n",
    "        \"num_layers\": 3,\n",
    "        \"batch_size\": 16,\n",
    "        \"optimizer\": \"Adam\",\n",
    "        \"freeze_base\": False,\n",
    "        \"learning_rate\": 5e-4,\n",
    "        \"weight_decay\": 1e-4,  \n",
    "        \"num_epochs\": 5        \n",
    "    },\n",
    "\n",
    "    # Configuration 3 \n",
    "    {\n",
    "        \"config_name\": \"Config 3\",\n",
    "        \"hidden_size\": 256,\n",
    "        \"num_layers\": 2,\n",
    "        \"batch_size\": 32,\n",
    "        \"optimizer\": \"AdamW\",\n",
    "        \"freeze_base\": True,\n",
    "        \"learning_rate\": 2e-5,\n",
    "        \"weight_decay\": 1e-4,  \n",
    "        \"num_epochs\": 5        \n",
    "    },\n",
    "\n",
    "    # Configuration 4 \n",
    "    {\n",
    "        \"config_name\": \"Config 4\",\n",
    "        \"hidden_size\": 128,\n",
    "        \"num_layers\": 1,\n",
    "        \"batch_size\": 128,\n",
    "        \"optimizer\": \"Adam\",\n",
    "        \"freeze_base\": True,\n",
    "        \"learning_rate\": 2e-3,\n",
    "        \"weight_decay\": 1e-4,  \n",
    "        \"num_epochs\": 5        \n",
    "    },\n",
    "\n",
    "    # Configuration 5 \n",
    "    {\n",
    "        \"config_name\": \"Config 5\",\n",
    "        \"hidden_size\": 256,\n",
    "        \"num_layers\": 2,\n",
    "        \"batch_size\": 64,\n",
    "        \"optimizer\": \"AdamW\",\n",
    "        \"freeze_base\": True,\n",
    "        \"learning_rate\": 1e-4,\n",
    "        \"weight_decay\": 1e-4,  \n",
    "        \"num_epochs\": 5        \n",
    "    },\n",
    "\n",
    "    # Configuration 6 \n",
    "    {\n",
    "        \"config_name\": \"Config 6\",\n",
    "        \"hidden_size\": 384,\n",
    "        \"num_layers\": 2,\n",
    "        \"batch_size\": 32,\n",
    "        \"optimizer\": \"Adam\",\n",
    "        \"freeze_base\": False,\n",
    "        \"learning_rate\": 8e-4,\n",
    "        \"weight_decay\": 1e-4,  \n",
    "        \"num_epochs\": 5       }\n",
    "]\n"
   ]
  },
  {
   "cell_type": "code",
   "execution_count": null,
   "metadata": {
    "execution": {
     "iopub.execute_input": "2025-03-25T18:15:21.068966Z",
     "iopub.status.busy": "2025-03-25T18:15:21.068569Z",
     "iopub.status.idle": "2025-03-25T18:15:21.079929Z",
     "shell.execute_reply": "2025-03-25T18:15:21.078739Z",
     "shell.execute_reply.started": "2025-03-25T18:15:21.068940Z"
    },
    "id": "KSl97NtWMMTX",
    "trusted": true
   },
   "outputs": [],
   "source": [
    "def run_hyperparameter_tuning(model_name, base_tokenizer):\n",
    "    \"\"\"\n",
    "    Run hyperparameter tuning experiments\n",
    "\n",
    "    Args:\n",
    "        model_name: Name of the model to use\n",
    "        base_tokenizer: Tokenizer for the model\n",
    "\n",
    "    Returns:\n",
    "        List of experiment results\n",
    "    \"\"\"\n",
    "    print(f\"\\n{'='*50}\")\n",
    "    print(f\"Running Hyperparameter Tuning for {model_name}\")\n",
    "    print(f\"{'='*50}\")\n",
    "\n",
    "    results = []\n",
    "    best_val_acc = 0\n",
    "    best_config_idx = 0\n",
    "    best_model = None\n",
    "\n",
    "    # For each configuration in hp_configs list\n",
    "    for i, config in enumerate(hp_configs):\n",
    "        print(f\"\\nRunning experiment {i+1}/{len(hp_configs)}: {config['config_name']}\")\n",
    "\n",
    "        # Initialize wandb for this experiment\n",
    "        wandb_config = {**config, \"model_name\": model_name}\n",
    "        init_wandb(wandb_config, \"clickbait-detection-task2\")\n",
    "\n",
    "        # Create model with this configuration\n",
    "        model = get_model(\n",
    "            model_name=model_name,\n",
    "            num_classes=2,\n",
    "            freeze_base=config[\"freeze_base\"],\n",
    "            hidden_size=config[\"hidden_size\"],\n",
    "            num_layers=config[\"num_layers\"]\n",
    "        )\n",
    "\n",
    "        # Train model\n",
    "        model, logs = train(\n",
    "            model=model,\n",
    "            train_dataset=dataset['train'],\n",
    "            val_dataset=dataset['validation'],\n",
    "            num_epochs=config[\"num_epochs\"],\n",
    "            batch_size=config[\"batch_size\"],\n",
    "            optimizer_cls=config[\"optimizer\"],\n",
    "            lr=config[\"learning_rate\"],\n",
    "            weight_decay=config[\"weight_decay\"],\n",
    "            device=device,\n",
    "            tokenizer=base_tokenizer,\n",
    "            use_wandb=True\n",
    "        )\n",
    "\n",
    "        # Evaluate on validation set\n",
    "        val_loss, val_acc, _, _, _ = evaluate(\n",
    "            model=model,\n",
    "            dataset=dataset['validation'],\n",
    "            batch_size=config[\"batch_size\"],\n",
    "            device=device,\n",
    "            tokenizer=base_tokenizer\n",
    "        )\n",
    "\n",
    "        # Log final validation metrics\n",
    "        wandb.log({\n",
    "            \"final_val_loss\": val_loss,\n",
    "            \"final_val_accuracy\": val_acc\n",
    "        })\n",
    "\n",
    "        # Finish wandb run\n",
    "        wandb.finish()\n",
    "\n",
    "        # Record results\n",
    "        results.append({\n",
    "            \"config_name\": config[\"config_name\"],\n",
    "            \"hidden_size\": config[\"hidden_size\"],\n",
    "            \"num_layers\": config[\"num_layers\"],\n",
    "            \"batch_size\": config[\"batch_size\"],\n",
    "            \"learning_rate\": config[\"learning_rate\"],\n",
    "            \"weight_decay\": config[\"weight_decay\"],\n",
    "            \"optimizer\": config[\"optimizer\"],\n",
    "            \"val_loss\": val_loss,\n",
    "            \"val_accuracy\": val_acc,\n",
    "            \"model\": model\n",
    "        })\n",
    "\n",
    "        # Keep track of best model\n",
    "        if val_acc > best_val_acc:\n",
    "            best_val_acc = val_acc\n",
    "            best_config_idx = i\n",
    "            best_model = model\n",
    "\n",
    "    # Display results in a table\n",
    "    print(\"\\nHyperparameter Tuning Results:\")\n",
    "    print(\"-\" * 120)\n",
    "    print(f\"{'Config':<10} {'Hidden Size':<12} {'Layers':<8} {'Batch Size':<12} {'Learning Rate':<14} {'Weight Decay':<14} {'Optimizer':<10} {'Val Accuracy':<15}\")\n",
    "    print(\"-\" * 120)\n",
    "\n",
    "    for result in results:\n",
    "        print(f\"{result['config_name']:<10} {result['hidden_size']:<12} {result['num_layers']:<8} {result['batch_size']:<12} {result['learning_rate']:<14} {result['weight_decay']:<14} {result['optimizer']:<10} {result['val_accuracy']:.4f}\")\n",
    "\n",
    "    print(\"-\" * 120)\n",
    "    print(f\"Best configuration: {results[best_config_idx]['config_name']} with validation accuracy: {best_val_acc:.4f}\")\n",
    "\n",
    "    return results, best_model, best_config_idx"
   ]
  },
  {
   "cell_type": "code",
   "execution_count": 24,
   "metadata": {
    "colab": {
     "base_uri": "https://localhost:8080/",
     "height": 1000
    },
    "execution": {
     "iopub.execute_input": "2025-03-25T18:15:27.191301Z",
     "iopub.status.busy": "2025-03-25T18:15:27.191002Z",
     "iopub.status.idle": "2025-03-25T20:27:06.677840Z",
     "shell.execute_reply": "2025-03-25T20:27:06.676997Z",
     "shell.execute_reply.started": "2025-03-25T18:15:27.191279Z"
    },
    "id": "goT4uc-PQ0Ug",
    "outputId": "59207542-8a5b-47ff-de43-3359d6b568aa",
    "trusted": true
   },
   "outputs": [
    {
     "name": "stderr",
     "output_type": "stream",
     "text": [
      "\u001b[34m\u001b[1mwandb\u001b[0m: \u001b[33mWARNING\u001b[0m If you're specifying your api key in code, ensure this code is not shared publicly.\n",
      "\u001b[34m\u001b[1mwandb\u001b[0m: \u001b[33mWARNING\u001b[0m Consider setting the WANDB_API_KEY environment variable, or running `wandb login` from the command line.\n",
      "\u001b[34m\u001b[1mwandb\u001b[0m: Appending key for api.wandb.ai to your netrc file: /root/.netrc\n"
     ]
    },
    {
     "name": "stdout",
     "output_type": "stream",
     "text": [
      "\n",
      "==================================================\n",
      "Running Hyperparameter Tuning for answerdotai/ModernBERT-base\n",
      "==================================================\n",
      "\n",
      "Running experiment 1/6: Baseline\n"
     ]
    },
    {
     "data": {
      "text/html": [
       "Tracking run with wandb version 0.19.1"
      ],
      "text/plain": [
       "<IPython.core.display.HTML object>"
      ]
     },
     "metadata": {},
     "output_type": "display_data"
    },
    {
     "data": {
      "text/html": [
       "Run data is saved locally in <code>/kaggle/working/wandb/run-20250325_181527-xhdexyo6</code>"
      ],
      "text/plain": [
       "<IPython.core.display.HTML object>"
      ]
     },
     "metadata": {},
     "output_type": "display_data"
    },
    {
     "data": {
      "text/html": [
       "Syncing run <strong><a href='https://wandb.ai/mariamsu-carnegie-mellon-university/clickbait-detection-task2/runs/xhdexyo6' target=\"_blank\">drawn-field-21</a></strong> to <a href='https://wandb.ai/mariamsu-carnegie-mellon-university/clickbait-detection-task2' target=\"_blank\">Weights & Biases</a> (<a href='https://wandb.me/developer-guide' target=\"_blank\">docs</a>)<br>"
      ],
      "text/plain": [
       "<IPython.core.display.HTML object>"
      ]
     },
     "metadata": {},
     "output_type": "display_data"
    },
    {
     "data": {
      "text/html": [
       " View project at <a href='https://wandb.ai/mariamsu-carnegie-mellon-university/clickbait-detection-task2' target=\"_blank\">https://wandb.ai/mariamsu-carnegie-mellon-university/clickbait-detection-task2</a>"
      ],
      "text/plain": [
       "<IPython.core.display.HTML object>"
      ]
     },
     "metadata": {},
     "output_type": "display_data"
    },
    {
     "data": {
      "text/html": [
       " View run at <a href='https://wandb.ai/mariamsu-carnegie-mellon-university/clickbait-detection-task2/runs/xhdexyo6' target=\"_blank\">https://wandb.ai/mariamsu-carnegie-mellon-university/clickbait-detection-task2/runs/xhdexyo6</a>"
      ],
      "text/plain": [
       "<IPython.core.display.HTML object>"
      ]
     },
     "metadata": {},
     "output_type": "display_data"
    },
    {
     "name": "stdout",
     "output_type": "stream",
     "text": [
      "Epoch: 1, Step: 100, Train Loss: 4.093e-01, Train Accuracy: 0.844\n",
      "Epoch: 1, Step: 200, Train Loss: 2.605e-01, Train Accuracy: 0.875\n",
      "Epoch: 1, Step: 300, Train Loss: 3.315e-01, Train Accuracy: 0.875\n",
      "Epoch: 1, Step: 400, Train Loss: 2.737e-01, Train Accuracy: 0.938\n",
      "Epoch: 1, Step: 500, Train Loss: 1.764e-01, Train Accuracy: 0.969\n",
      "Epoch: 1, Step: 600, Train Loss: 2.086e-01, Train Accuracy: 0.906\n",
      "Epoch: 1, Step: 700, Train Loss: 1.704e-01, Train Accuracy: 0.969\n",
      "Epoch: 1, Step: 800, Train Loss: 2.068e-01, Train Accuracy: 0.906\n",
      "Epoch: 1, Step: 900, Train Loss: 3.047e-01, Train Accuracy: 0.844\n",
      "Epoch: 1, Step: 1000, Train Loss: 3.256e-01, Train Accuracy: 0.906\n",
      "Epoch: 1, Step: 1100, Train Loss: 1.592e-01, Train Accuracy: 0.969\n",
      "Epoch: 1, Step: 1200, Train Loss: 3.329e-01, Train Accuracy: 0.875\n",
      "Epoch: 1, Step: 1300, Train Loss: 2.820e-01, Train Accuracy: 0.906\n",
      "epoch: 1\t train_loss: 2.995e-01\t train_accuracy:0.882\t val_loss: 2.771e-01\t val_accuracy:0.889\n",
      "Epoch: 2, Step: 1400, Train Loss: 3.119e-01, Train Accuracy: 0.875\n",
      "Epoch: 2, Step: 1500, Train Loss: 1.745e-01, Train Accuracy: 0.969\n",
      "Epoch: 2, Step: 1600, Train Loss: 1.295e-01, Train Accuracy: 0.969\n",
      "Epoch: 2, Step: 1700, Train Loss: 4.319e-01, Train Accuracy: 0.844\n",
      "Epoch: 2, Step: 1800, Train Loss: 2.230e-01, Train Accuracy: 0.906\n",
      "Epoch: 2, Step: 1900, Train Loss: 1.400e-01, Train Accuracy: 0.969\n",
      "Epoch: 2, Step: 2000, Train Loss: 2.811e-01, Train Accuracy: 0.875\n",
      "Epoch: 2, Step: 2100, Train Loss: 3.526e-01, Train Accuracy: 0.875\n",
      "Epoch: 2, Step: 2200, Train Loss: 5.241e-01, Train Accuracy: 0.781\n",
      "Epoch: 2, Step: 2300, Train Loss: 3.550e-01, Train Accuracy: 0.906\n",
      "Epoch: 2, Step: 2400, Train Loss: 3.811e-01, Train Accuracy: 0.781\n",
      "Epoch: 4, Step: 4700, Train Loss: 1.625e-01, Train Accuracy: 0.938\n",
      "Epoch: 4, Step: 4800, Train Loss: 1.246e-01, Train Accuracy: 0.969\n",
      "Epoch: 4, Step: 4900, Train Loss: 1.826e-01, Train Accuracy: 0.938\n",
      "Epoch: 4, Step: 5000, Train Loss: 3.470e-01, Train Accuracy: 0.875\n",
      "Epoch: 4, Step: 5100, Train Loss: 3.206e-01, Train Accuracy: 0.875\n",
      "Epoch: 4, Step: 5200, Train Loss: 2.130e-01, Train Accuracy: 0.938\n",
      "Epoch: 4, Step: 5300, Train Loss: 1.486e-01, Train Accuracy: 0.938\n",
      "Epoch: 4, Step: 5400, Train Loss: 3.322e-01, Train Accuracy: 0.875\n",
      "epoch: 4\t train_loss: 2.490e-01\t train_accuracy:0.904\t val_loss: 2.521e-01\t val_accuracy:0.902\n",
      "Epoch: 5, Step: 5500, Train Loss: 2.853e-01, Train Accuracy: 0.938\n",
      "Epoch: 5, Step: 5600, Train Loss: 2.811e-01, Train Accuracy: 0.906\n",
      "Epoch: 5, Step: 5700, Train Loss: 3.398e-01, Train Accuracy: 0.844\n",
      "Epoch: 5, Step: 5800, Train Loss: 3.008e-01, Train Accuracy: 0.906\n",
      "Epoch: 5, Step: 5900, Train Loss: 1.810e-01, Train Accuracy: 0.969\n",
      "Epoch: 5, Step: 6000, Train Loss: 2.024e-01, Train Accuracy: 0.906\n",
      "Epoch: 5, Step: 6100, Train Loss: 3.495e-01, Train Accuracy: 0.812\n",
      "Epoch: 5, Step: 6200, Train Loss: 3.503e-01, Train Accuracy: 0.875\n",
      "Epoch: 5, Step: 6300, Train Loss: 4.221e-01, Train Accuracy: 0.812\n",
      "Epoch: 5, Step: 6400, Train Loss: 1.490e-01, Train Accuracy: 0.938\n",
      "Epoch: 5, Step: 6500, Train Loss: 2.277e-01, Train Accuracy: 0.875\n",
      "Epoch: 5, Step: 6600, Train Loss: 1.421e-01, Train Accuracy: 0.969\n",
      "Epoch: 5, Step: 6700, Train Loss: 3.063e-01, Train Accuracy: 0.906\n",
      "Epoch: 5, Step: 6800, Train Loss: 2.196e-01, Train Accuracy: 0.875\n",
      "epoch: 5\t train_loss: 2.448e-01\t train_accuracy:0.906\t val_loss: 2.630e-01\t val_accuracy:0.896\n"
     ]
    },
    {
     "data": {
      "text/html": [],
      "text/plain": [
       "<IPython.core.display.HTML object>"
      ]
     },
     "metadata": {},
     "output_type": "display_data"
    },
    {
     "data": {
      "text/html": [
       "<br>    <style><br>        .wandb-row {<br>            display: flex;<br>            flex-direction: row;<br>            flex-wrap: wrap;<br>            justify-content: flex-start;<br>            width: 100%;<br>        }<br>        .wandb-col {<br>            display: flex;<br>            flex-direction: column;<br>            flex-basis: 100%;<br>            flex: 1;<br>            padding: 10px;<br>        }<br>    </style><br><div class=\"wandb-row\"><div class=\"wandb-col\"><h3>Run history:</h3><br/><table class=\"wandb\"><tr><td>epoch</td><td>▁▁▁▁▁▁▁▁▃▃▃▃▃▃▃▅▅▅▅▅▅▅▅▆▆▆▆▆▆▆▆█████████</td></tr><tr><td>final_val_accuracy</td><td>▁</td></tr><tr><td>final_val_loss</td><td>▁</td></tr><tr><td>global_step</td><td>▁▁▁▁▂▂▂▂▂▂▂▃▃▃▃▄▄▄▄▅▅▅▅▅▅▆▆▆▆▆▆▇▇▇▇▇▇███</td></tr><tr><td>train_accuracy</td><td>▁▅▇██</td></tr><tr><td>train_accuracy_step</td><td>▃▄▄▅▅▄▅▇▃▇▄▁▁▄▅▂▆▄▆▄▄▄▄▃█▆▄▄▆▄▅▃▅▇▅▄▂▆▄▄</td></tr><tr><td>train_loss</td><td>█▄▂▂▁</td></tr><tr><td>train_loss_step</td><td>▆▄▄▃▃▃▅▅▂▅▅▂▃▂▅▆▄▄▆██▆▃▄▃▁▄█▂▂▅▃▅▄▅▅▆▂▃▃</td></tr><tr><td>val_accuracy</td><td>▁█▇█▅</td></tr><tr><td>val_loss</td><td>█▁▁▁▄</td></tr></table><br/></div><div class=\"wandb-col\"><h3>Run summary:</h3><br/><table class=\"wandb\"><tr><td>epoch</td><td>5</td></tr><tr><td>final_val_accuracy</td><td>0.89577</td></tr><tr><td>final_val_loss</td><td>0.26298</td></tr><tr><td>global_step</td><td>6800</td></tr><tr><td>train_accuracy</td><td>0.90568</td></tr><tr><td>train_accuracy_step</td><td>0.875</td></tr><tr><td>train_loss</td><td>0.24475</td></tr><tr><td>train_loss_step</td><td>0.21955</td></tr><tr><td>val_accuracy</td><td>0.89577</td></tr><tr><td>val_loss</td><td>0.26298</td></tr></table><br/></div></div>"
      ],
      "text/plain": [
       "<IPython.core.display.HTML object>"
      ]
     },
     "metadata": {},
     "output_type": "display_data"
    },
    {
     "data": {
      "text/html": [
       " View run <strong style=\"color:#cdcd00\">drawn-field-21</strong> at: <a href='https://wandb.ai/mariamsu-carnegie-mellon-university/clickbait-detection-task2/runs/xhdexyo6' target=\"_blank\">https://wandb.ai/mariamsu-carnegie-mellon-university/clickbait-detection-task2/runs/xhdexyo6</a><br> View project at: <a href='https://wandb.ai/mariamsu-carnegie-mellon-university/clickbait-detection-task2' target=\"_blank\">https://wandb.ai/mariamsu-carnegie-mellon-university/clickbait-detection-task2</a><br>Synced 5 W&B file(s), 0 media file(s), 0 artifact file(s) and 0 other file(s)"
      ],
      "text/plain": [
       "<IPython.core.display.HTML object>"
      ]
     },
     "metadata": {},
     "output_type": "display_data"
    },
    {
     "data": {
      "text/html": [
       "Find logs at: <code>./wandb/run-20250325_181527-xhdexyo6/logs</code>"
      ],
      "text/plain": [
       "<IPython.core.display.HTML object>"
      ]
     },
     "metadata": {},
     "output_type": "display_data"
    },
    {
     "name": "stderr",
     "output_type": "stream",
     "text": [
      "\u001b[34m\u001b[1mwandb\u001b[0m: \u001b[33mWARNING\u001b[0m If you're specifying your api key in code, ensure this code is not shared publicly.\n",
      "\u001b[34m\u001b[1mwandb\u001b[0m: \u001b[33mWARNING\u001b[0m Consider setting the WANDB_API_KEY environment variable, or running `wandb login` from the command line.\n",
      "\u001b[34m\u001b[1mwandb\u001b[0m: Appending key for api.wandb.ai to your netrc file: /root/.netrc\n"
     ]
    },
    {
     "name": "stdout",
     "output_type": "stream",
     "text": [
      "\n",
      "Running experiment 2/6: Config 2\n"
     ]
    },
    {
     "data": {
      "text/html": [
       "Tracking run with wandb version 0.19.1"
      ],
      "text/plain": [
       "<IPython.core.display.HTML object>"
      ]
     },
     "metadata": {},
     "output_type": "display_data"
    },
    {
     "data": {
      "text/html": [
       "Run data is saved locally in <code>/kaggle/working/wandb/run-20250325_183233-aeo65m9z</code>"
      ],
      "text/plain": [
       "<IPython.core.display.HTML object>"
      ]
     },
     "metadata": {},
     "output_type": "display_data"
    },
    {
     "data": {
      "text/html": [
       "Syncing run <strong><a href='https://wandb.ai/mariamsu-carnegie-mellon-university/clickbait-detection-task2/runs/aeo65m9z' target=\"_blank\">glowing-violet-22</a></strong> to <a href='https://wandb.ai/mariamsu-carnegie-mellon-university/clickbait-detection-task2' target=\"_blank\">Weights & Biases</a> (<a href='https://wandb.me/developer-guide' target=\"_blank\">docs</a>)<br>"
      ],
      "text/plain": [
       "<IPython.core.display.HTML object>"
      ]
     },
     "metadata": {},
     "output_type": "display_data"
    },
    {
     "data": {
      "text/html": [
       " View project at <a href='https://wandb.ai/mariamsu-carnegie-mellon-university/clickbait-detection-task2' target=\"_blank\">https://wandb.ai/mariamsu-carnegie-mellon-university/clickbait-detection-task2</a>"
      ],
      "text/plain": [
       "<IPython.core.display.HTML object>"
      ]
     },
     "metadata": {},
     "output_type": "display_data"
    },
    {
     "data": {
      "text/html": [
       " View run at <a href='https://wandb.ai/mariamsu-carnegie-mellon-university/clickbait-detection-task2/runs/aeo65m9z' target=\"_blank\">https://wandb.ai/mariamsu-carnegie-mellon-university/clickbait-detection-task2/runs/aeo65m9z</a>"
      ],
      "text/plain": [
       "<IPython.core.display.HTML object>"
      ]
     },
     "metadata": {},
     "output_type": "display_data"
    },
    {
     "name": "stdout",
     "output_type": "stream",
     "text": [
      "Unfroze the last 5 layers out of 22 total layers.\n",
      "Epoch: 1, Step: 100, Train Loss: 5.473e-01, Train Accuracy: 0.688\n",
      "Epoch: 1, Step: 200, Train Loss: 2.790e-01, Train Accuracy: 0.938\n",
      "Epoch: 1, Step: 300, Train Loss: 4.257e-01, Train Accuracy: 0.938\n",
      "Epoch: 1, Step: 400, Train Loss: 4.118e-01, Train Accuracy: 0.875\n",
      "Epoch: 1, Step: 500, Train Loss: 3.524e-01, Train Accuracy: 0.875\n",
      "Epoch: 1, Step: 600, Train Loss: 1.811e-01, Train Accuracy: 0.875\n",
      "Epoch: 1, Step: 700, Train Loss: 1.238e-01, Train Accuracy: 0.938\n",
      "Epoch: 1, Step: 800, Train Loss: 1.998e-01, Train Accuracy: 0.875\n",
      "Epoch: 1, Step: 900, Train Loss: 2.880e-01, Train Accuracy: 0.875\n",
      "Epoch: 1, Step: 1000, Train Loss: 7.005e-02, Train Accuracy: 0.938\n",
      "Epoch: 1, Step: 1100, Train Loss: 3.176e-01, Train Accuracy: 0.938\n",
      "Epoch: 1, Step: 1200, Train Loss: 4.648e-01, Train Accuracy: 0.812\n",
      "Epoch: 1, Step: 1300, Train Loss: 9.019e-02, Train Accuracy: 1.000\n",
      "Epoch: 1, Step: 1400, Train Loss: 2.994e-01, Train Accuracy: 0.875\n",
      "Epoch: 1, Step: 1500, Train Loss: 1.539e-01, Train Accuracy: 0.938\n",
      "Epoch: 1, Step: 1600, Train Loss: 8.377e-02, Train Accuracy: 1.000\n",
      "Epoch: 1, Step: 1700, Train Loss: 4.284e-01, Train Accuracy: 0.875\n",
      "Epoch: 1, Step: 1800, Train Loss: 1.539e-01, Train Accuracy: 0.938\n",
      "Epoch: 1, Step: 1900, Train Loss: 3.075e-01, Train Accuracy: 0.938\n",
      "Epoch: 1, Step: 2000, Train Loss: 1.797e-01, Train Accuracy: 0.938\n",
      "Epoch: 1, Step: 2100, Train Loss: 1.358e-01, Train Accuracy: 0.938\n",
      "Epoch: 1, Step: 2200, Train Loss: 5.428e-01, Train Accuracy: 0.812\n",
      "Epoch: 1, Step: 2300, Train Loss: 1.469e-01, Train Accuracy: 0.938\n",
      "Epoch: 1, Step: 2400, Train Loss: 3.043e-01, Train Accuracy: 0.875\n",
      "Epoch: 1, Step: 2500, Train Loss: 2.546e-01, Train Accuracy: 0.938\n",
      "Epoch: 1, Step: 2600, Train Loss: 1.065e-01, Train Accuracy: 1.000\n",
      "Epoch: 1, Step: 2700, Train Loss: 3.550e-01, Train Accuracy: 0.750\n",
      "epoch: 1\t train_loss: 2.497e-01\t train_accuracy:0.909\t val_loss: 2.407e-01\t val_accuracy:0.910\n",
      "Epoch: 2, Step: 2800, Train Loss: 2.390e-01, Train Accuracy: 0.938\n",
      "Epoch: 2, Step: 2900, Train Loss: 1.575e-01, Train Accuracy: 0.938\n",
      "Epoch: 2, Step: 3000, Train Loss: 6.574e-02, Train Accuracy: 1.000\n",
      "Epoch: 2, Step: 3100, Train Loss: 1.226e-01, Train Accuracy: 0.938\n",
      "Epoch: 2, Step: 3200, Train Loss: 1.626e-01, Train Accuracy: 1.000\n",
      "Epoch: 2, Step: 3300, Train Loss: 4.143e-01, Train Accuracy: 0.812\n",
      "Epoch: 2, Step: 3400, Train Loss: 1.423e-01, Train Accuracy: 0.938\n",
      "Epoch: 2, Step: 3500, Train Loss: 2.873e-01, Train Accuracy: 0.875\n",
      "Epoch: 2, Step: 3600, Train Loss: 3.058e-01, Train Accuracy: 0.875\n",
      "Epoch: 2, Step: 3700, Train Loss: 2.157e-01, Train Accuracy: 0.938\n",
      "Epoch: 2, Step: 3800, Train Loss: 1.065e-01, Train Accuracy: 0.938\n",
      "Epoch: 2, Step: 3900, Train Loss: 1.786e-01, Train Accuracy: 0.938\n",
      "Epoch: 2, Step: 4000, Train Loss: 6.093e-01, Train Accuracy: 0.812\n",
      "Epoch: 2, Step: 4100, Train Loss: 7.935e-02, Train Accuracy: 1.000\n",
      "Epoch: 2, Step: 4200, Train Loss: 3.260e-01, Train Accuracy: 0.875\n",
      "Epoch: 2, Step: 4300, Train Loss: 2.381e-01, Train Accuracy: 0.938\n",
      "Epoch: 2, Step: 4400, Train Loss: 3.611e-01, Train Accuracy: 0.875\n",
      "Epoch: 2, Step: 4500, Train Loss: 1.388e-01, Train Accuracy: 0.938\n",
      "Epoch: 2, Step: 4600, Train Loss: 1.127e-01, Train Accuracy: 1.000\n",
      "Epoch: 2, Step: 4700, Train Loss: 1.926e-01, Train Accuracy: 0.938\n",
      "Epoch: 2, Step: 4800, Train Loss: 2.337e-01, Train Accuracy: 0.938\n",
      "Epoch: 2, Step: 4900, Train Loss: 2.536e-01, Train Accuracy: 0.812\n",
      "Epoch: 2, Step: 5000, Train Loss: 1.739e-01, Train Accuracy: 0.938\n",
      "Epoch: 2, Step: 5100, Train Loss: 2.585e-01, Train Accuracy: 0.938\n",
      "Epoch: 2, Step: 5200, Train Loss: 2.844e-01, Train Accuracy: 0.875\n",
      "Epoch: 2, Step: 5300, Train Loss: 2.420e-01, Train Accuracy: 0.875\n",
      "Epoch: 2, Step: 5400, Train Loss: 2.370e-01, Train Accuracy: 0.875\n",
      "epoch: 2\t train_loss: 2.178e-01\t train_accuracy:0.918\t val_loss: 2.287e-01\t val_accuracy:0.907\n",
      "Epoch: 3, Step: 5500, Train Loss: 2.242e-01, Train Accuracy: 0.938\n",
      "Epoch: 3, Step: 5600, Train Loss: 9.141e-02, Train Accuracy: 1.000\n",
      "Epoch: 3, Step: 5700, Train Loss: 6.614e-02, Train Accuracy: 1.000\n",
      "Epoch: 3, Step: 5800, Train Loss: 5.327e-01, Train Accuracy: 0.812\n",
      "Epoch: 3, Step: 5900, Train Loss: 1.525e-01, Train Accuracy: 0.938\n",
      "Epoch: 3, Step: 6000, Train Loss: 2.643e-02, Train Accuracy: 1.000\n",
      "Epoch: 3, Step: 6100, Train Loss: 9.416e-02, Train Accuracy: 0.938\n",
      "Epoch: 3, Step: 6200, Train Loss: 1.570e-01, Train Accuracy: 0.938\n",
      "Epoch: 3, Step: 6300, Train Loss: 2.219e-01, Train Accuracy: 0.938\n",
      "Epoch: 3, Step: 6400, Train Loss: 1.512e-01, Train Accuracy: 0.938\n",
      "Epoch: 3, Step: 6500, Train Loss: 5.878e-02, Train Accuracy: 1.000\n",
      "Epoch: 3, Step: 6600, Train Loss: 3.369e-01, Train Accuracy: 0.812\n",
      "Epoch: 3, Step: 6700, Train Loss: 2.329e-01, Train Accuracy: 0.875\n",
      "Epoch: 3, Step: 6800, Train Loss: 2.915e-01, Train Accuracy: 0.938\n",
      "Epoch: 3, Step: 6900, Train Loss: 2.752e-01, Train Accuracy: 0.875\n",
      "Epoch: 3, Step: 7000, Train Loss: 1.261e-01, Train Accuracy: 0.938\n",
      "Epoch: 3, Step: 7100, Train Loss: 1.302e-01, Train Accuracy: 0.938\n",
      "Epoch: 3, Step: 7200, Train Loss: 8.910e-02, Train Accuracy: 1.000\n",
      "Epoch: 3, Step: 7300, Train Loss: 7.437e-02, Train Accuracy: 0.938\n",
      "Epoch: 3, Step: 7400, Train Loss: 3.417e-01, Train Accuracy: 0.875\n",
      "Epoch: 3, Step: 7500, Train Loss: 1.761e-01, Train Accuracy: 0.875\n",
      "Epoch: 3, Step: 7600, Train Loss: 2.669e-01, Train Accuracy: 0.875\n",
      "Epoch: 3, Step: 7700, Train Loss: 1.840e-01, Train Accuracy: 0.938\n",
      "Epoch: 3, Step: 7800, Train Loss: 1.013e-01, Train Accuracy: 1.000\n",
      "Epoch: 3, Step: 7900, Train Loss: 1.081e-01, Train Accuracy: 0.938\n",
      "Epoch: 3, Step: 8000, Train Loss: 2.906e-01, Train Accuracy: 0.875\n",
      "Epoch: 3, Step: 8100, Train Loss: 1.353e-01, Train Accuracy: 0.938\n",
      "Epoch: 3, Step: 8200, Train Loss: 1.206e-01, Train Accuracy: 1.000\n",
      "epoch: 3\t train_loss: 2.050e-01\t train_accuracy:0.923\t val_loss: 2.312e-01\t val_accuracy:0.909\n",
      "Epoch: 4, Step: 8300, Train Loss: 4.005e-01, Train Accuracy: 0.938\n",
      "Epoch: 4, Step: 8400, Train Loss: 1.895e-01, Train Accuracy: 0.938\n",
      "Epoch: 4, Step: 8500, Train Loss: 1.018e-01, Train Accuracy: 1.000\n",
      "Epoch: 4, Step: 8600, Train Loss: 3.053e-01, Train Accuracy: 0.938\n",
      "Epoch: 4, Step: 8700, Train Loss: 1.765e-01, Train Accuracy: 0.938\n",
      "Epoch: 4, Step: 8800, Train Loss: 2.448e-01, Train Accuracy: 0.938\n",
      "Epoch: 4, Step: 8900, Train Loss: 1.924e-01, Train Accuracy: 0.938\n",
      "Epoch: 4, Step: 9000, Train Loss: 1.337e-01, Train Accuracy: 1.000\n",
      "Epoch: 4, Step: 9100, Train Loss: 1.423e-02, Train Accuracy: 1.000\n",
      "Epoch: 4, Step: 9200, Train Loss: 6.867e-02, Train Accuracy: 1.000\n",
      "Epoch: 4, Step: 9300, Train Loss: 2.744e-01, Train Accuracy: 0.875\n",
      "Epoch: 4, Step: 9400, Train Loss: 2.204e-01, Train Accuracy: 0.875\n",
      "Epoch: 4, Step: 9500, Train Loss: 4.733e-01, Train Accuracy: 0.750\n",
      "Epoch: 4, Step: 9600, Train Loss: 6.377e-02, Train Accuracy: 1.000\n",
      "Epoch: 4, Step: 9700, Train Loss: 3.238e-01, Train Accuracy: 0.875\n",
      "Epoch: 4, Step: 9800, Train Loss: 7.713e-02, Train Accuracy: 1.000\n",
      "Epoch: 4, Step: 9900, Train Loss: 2.321e-02, Train Accuracy: 1.000\n",
      "Epoch: 4, Step: 10000, Train Loss: 1.324e-01, Train Accuracy: 0.938\n",
      "Epoch: 4, Step: 10100, Train Loss: 2.766e-01, Train Accuracy: 0.812\n",
      "Epoch: 4, Step: 10200, Train Loss: 6.753e-02, Train Accuracy: 1.000\n",
      "Epoch: 4, Step: 10300, Train Loss: 2.288e-01, Train Accuracy: 0.938\n",
      "Epoch: 4, Step: 10400, Train Loss: 3.657e-01, Train Accuracy: 0.938\n",
      "Epoch: 4, Step: 10500, Train Loss: 2.846e-01, Train Accuracy: 0.875\n",
      "Epoch: 4, Step: 10600, Train Loss: 2.541e-01, Train Accuracy: 0.875\n",
      "Epoch: 4, Step: 10700, Train Loss: 2.975e-01, Train Accuracy: 0.812\n",
      "Epoch: 4, Step: 10800, Train Loss: 1.403e-01, Train Accuracy: 1.000\n",
      "Epoch: 4, Step: 10900, Train Loss: 2.560e-01, Train Accuracy: 0.875\n",
      "epoch: 4\t train_loss: 1.935e-01\t train_accuracy:0.926\t val_loss: 2.159e-01\t val_accuracy:0.914\n",
      "Epoch: 5, Step: 11000, Train Loss: 5.178e-01, Train Accuracy: 0.812\n",
      "Epoch: 5, Step: 11100, Train Loss: 3.641e-02, Train Accuracy: 1.000\n",
      "Epoch: 5, Step: 11200, Train Loss: 2.230e-01, Train Accuracy: 0.812\n",
      "Epoch: 5, Step: 11300, Train Loss: 2.240e-01, Train Accuracy: 0.938\n",
      "Epoch: 5, Step: 11400, Train Loss: 7.325e-02, Train Accuracy: 0.938\n",
      "Epoch: 5, Step: 11500, Train Loss: 2.934e-01, Train Accuracy: 0.938\n",
      "Epoch: 5, Step: 11600, Train Loss: 4.092e-01, Train Accuracy: 0.875\n",
      "Epoch: 5, Step: 11700, Train Loss: 2.180e-01, Train Accuracy: 0.875\n",
      "Epoch: 5, Step: 11800, Train Loss: 6.473e-02, Train Accuracy: 1.000\n",
      "Epoch: 5, Step: 11900, Train Loss: 4.620e-02, Train Accuracy: 1.000\n",
      "Epoch: 5, Step: 12000, Train Loss: 2.227e-01, Train Accuracy: 0.875\n",
      "Epoch: 5, Step: 12100, Train Loss: 2.308e-01, Train Accuracy: 0.875\n",
      "Epoch: 5, Step: 12200, Train Loss: 8.125e-02, Train Accuracy: 1.000\n",
      "Epoch: 5, Step: 12300, Train Loss: 2.087e-01, Train Accuracy: 0.875\n",
      "Epoch: 5, Step: 12400, Train Loss: 1.314e-01, Train Accuracy: 0.938\n",
      "Epoch: 5, Step: 12500, Train Loss: 6.251e-02, Train Accuracy: 1.000\n",
      "Epoch: 5, Step: 12600, Train Loss: 3.416e-01, Train Accuracy: 0.812\n",
      "Epoch: 5, Step: 12700, Train Loss: 1.637e-01, Train Accuracy: 0.875\n",
      "Epoch: 5, Step: 12800, Train Loss: 1.144e-01, Train Accuracy: 1.000\n",
      "Epoch: 5, Step: 12900, Train Loss: 2.014e-01, Train Accuracy: 0.938\n",
      "Epoch: 5, Step: 13000, Train Loss: 3.688e-01, Train Accuracy: 0.812\n",
      "Epoch: 5, Step: 13100, Train Loss: 3.585e-02, Train Accuracy: 1.000\n",
      "Epoch: 5, Step: 13200, Train Loss: 4.690e-01, Train Accuracy: 0.875\n",
      "Epoch: 5, Step: 13300, Train Loss: 7.494e-02, Train Accuracy: 1.000\n",
      "Epoch: 5, Step: 13400, Train Loss: 1.575e-01, Train Accuracy: 0.938\n",
      "Epoch: 5, Step: 13500, Train Loss: 2.032e-01, Train Accuracy: 0.875\n",
      "Epoch: 5, Step: 13600, Train Loss: 6.915e-02, Train Accuracy: 1.000\n",
      "epoch: 5\t train_loss: 1.822e-01\t train_accuracy:0.929\t val_loss: 2.365e-01\t val_accuracy:0.908\n"
     ]
    },
    {
     "data": {
      "text/html": [],
      "text/plain": [
       "<IPython.core.display.HTML object>"
      ]
     },
     "metadata": {},
     "output_type": "display_data"
    },
    {
     "data": {
      "text/html": [
       "<br>    <style><br>        .wandb-row {<br>            display: flex;<br>            flex-direction: row;<br>            flex-wrap: wrap;<br>            justify-content: flex-start;<br>            width: 100%;<br>        }<br>        .wandb-col {<br>            display: flex;<br>            flex-direction: column;<br>            flex-basis: 100%;<br>            flex: 1;<br>            padding: 10px;<br>        }<br>    </style><br><div class=\"wandb-row\"><div class=\"wandb-col\"><h3>Run history:</h3><br/><table class=\"wandb\"><tr><td>epoch</td><td>▁▁▁▁▁▁▁▁▁▁▃▃▃▃▃▃▃▃▃▃▅▅▅▅▅▆▆▆▆▆▆▆▆▆▆█████</td></tr><tr><td>final_val_accuracy</td><td>▁</td></tr><tr><td>final_val_loss</td><td>▁</td></tr><tr><td>global_step</td><td>▁▁▁▂▂▂▃▃▃▃▃▃▄▄▄▄▄▄▅▅▅▅▅▅▆▆▆▆▆▇▇▇▇▇▇▇████</td></tr><tr><td>train_accuracy</td><td>▁▄▆▇█</td></tr><tr><td>train_accuracy_step</td><td>▆▆▃█▆▆██▁▆▆▃▆▆▆█▆▃▆▆▃█▃█▆▆█▃█▁▁█▃█▆█▆▁▃█</td></tr><tr><td>train_loss</td><td>█▅▃▂▁</td></tr><tr><td>train_loss_step</td><td>█▅▃▃▃▂▅▃▄▆▃▄▄▅▄█▃▅▂▅▅▂▆▁▂▇▂▆▄▅█▂▆▄▂▄▂▄▂▃</td></tr><tr><td>val_accuracy</td><td>▄▁▂█▂</td></tr><tr><td>val_loss</td><td>█▅▅▁▇</td></tr></table><br/></div><div class=\"wandb-col\"><h3>Run summary:</h3><br/><table class=\"wandb\"><tr><td>epoch</td><td>5</td></tr><tr><td>final_val_accuracy</td><td>0.90827</td></tr><tr><td>final_val_loss</td><td>0.23648</td></tr><tr><td>global_step</td><td>13600</td></tr><tr><td>train_accuracy</td><td>0.92857</td></tr><tr><td>train_accuracy_step</td><td>1</td></tr><tr><td>train_loss</td><td>0.1822</td></tr><tr><td>train_loss_step</td><td>0.06915</td></tr><tr><td>val_accuracy</td><td>0.90827</td></tr><tr><td>val_loss</td><td>0.23648</td></tr></table><br/></div></div>"
      ],
      "text/plain": [
       "<IPython.core.display.HTML object>"
      ]
     },
     "metadata": {},
     "output_type": "display_data"
    },
    {
     "data": {
      "text/html": [
       " View run <strong style=\"color:#cdcd00\">glowing-violet-22</strong> at: <a href='https://wandb.ai/mariamsu-carnegie-mellon-university/clickbait-detection-task2/runs/aeo65m9z' target=\"_blank\">https://wandb.ai/mariamsu-carnegie-mellon-university/clickbait-detection-task2/runs/aeo65m9z</a><br> View project at: <a href='https://wandb.ai/mariamsu-carnegie-mellon-university/clickbait-detection-task2' target=\"_blank\">https://wandb.ai/mariamsu-carnegie-mellon-university/clickbait-detection-task2</a><br>Synced 5 W&B file(s), 0 media file(s), 0 artifact file(s) and 0 other file(s)"
      ],
      "text/plain": [
       "<IPython.core.display.HTML object>"
      ]
     },
     "metadata": {},
     "output_type": "display_data"
    },
    {
     "data": {
      "text/html": [
       "Find logs at: <code>./wandb/run-20250325_183233-aeo65m9z/logs</code>"
      ],
      "text/plain": [
       "<IPython.core.display.HTML object>"
      ]
     },
     "metadata": {},
     "output_type": "display_data"
    },
    {
     "name": "stderr",
     "output_type": "stream",
     "text": [
      "\u001b[34m\u001b[1mwandb\u001b[0m: \u001b[33mWARNING\u001b[0m If you're specifying your api key in code, ensure this code is not shared publicly.\n",
      "\u001b[34m\u001b[1mwandb\u001b[0m: \u001b[33mWARNING\u001b[0m Consider setting the WANDB_API_KEY environment variable, or running `wandb login` from the command line.\n",
      "\u001b[34m\u001b[1mwandb\u001b[0m: Appending key for api.wandb.ai to your netrc file: /root/.netrc\n"
     ]
    },
    {
     "name": "stdout",
     "output_type": "stream",
     "text": [
      "\n",
      "Running experiment 3/6: Config 3\n"
     ]
    },
    {
     "data": {
      "text/html": [
       "Tracking run with wandb version 0.19.1"
      ],
      "text/plain": [
       "<IPython.core.display.HTML object>"
      ]
     },
     "metadata": {},
     "output_type": "display_data"
    },
    {
     "data": {
      "text/html": [
       "Run data is saved locally in <code>/kaggle/working/wandb/run-20250325_185217-8g3465cp</code>"
      ],
      "text/plain": [
       "<IPython.core.display.HTML object>"
      ]
     },
     "metadata": {},
     "output_type": "display_data"
    },
    {
     "data": {
      "text/html": [
       "Syncing run <strong><a href='https://wandb.ai/mariamsu-carnegie-mellon-university/clickbait-detection-task2/runs/8g3465cp' target=\"_blank\">neat-thunder-23</a></strong> to <a href='https://wandb.ai/mariamsu-carnegie-mellon-university/clickbait-detection-task2' target=\"_blank\">Weights & Biases</a> (<a href='https://wandb.me/developer-guide' target=\"_blank\">docs</a>)<br>"
      ],
      "text/plain": [
       "<IPython.core.display.HTML object>"
      ]
     },
     "metadata": {},
     "output_type": "display_data"
    },
    {
     "data": {
      "text/html": [
       " View project at <a href='https://wandb.ai/mariamsu-carnegie-mellon-university/clickbait-detection-task2' target=\"_blank\">https://wandb.ai/mariamsu-carnegie-mellon-university/clickbait-detection-task2</a>"
      ],
      "text/plain": [
       "<IPython.core.display.HTML object>"
      ]
     },
     "metadata": {},
     "output_type": "display_data"
    },
    {
     "data": {
      "text/html": [
       " View run at <a href='https://wandb.ai/mariamsu-carnegie-mellon-university/clickbait-detection-task2/runs/8g3465cp' target=\"_blank\">https://wandb.ai/mariamsu-carnegie-mellon-university/clickbait-detection-task2/runs/8g3465cp</a>"
      ],
      "text/plain": [
       "<IPython.core.display.HTML object>"
      ]
     },
     "metadata": {},
     "output_type": "display_data"
    },
    {
     "name": "stdout",
     "output_type": "stream",
     "text": [
      "Epoch: 1, Step: 100, Train Loss: 7.049e-01, Train Accuracy: 0.469\n",
      "Epoch: 1, Step: 200, Train Loss: 4.139e-01, Train Accuracy: 0.906\n",
      "Epoch: 1, Step: 300, Train Loss: 4.832e-01, Train Accuracy: 0.875\n",
      "Epoch: 1, Step: 400, Train Loss: 3.730e-01, Train Accuracy: 0.906\n",
      "Epoch: 1, Step: 500, Train Loss: 3.548e-01, Train Accuracy: 0.781\n",
      "Epoch: 1, Step: 600, Train Loss: 2.887e-01, Train Accuracy: 0.875\n",
      "Epoch: 1, Step: 700, Train Loss: 2.835e-01, Train Accuracy: 0.906\n",
      "Epoch: 1, Step: 800, Train Loss: 2.769e-01, Train Accuracy: 0.875\n",
      "Epoch: 1, Step: 900, Train Loss: 3.454e-01, Train Accuracy: 0.875\n",
      "Epoch: 1, Step: 1000, Train Loss: 3.618e-01, Train Accuracy: 0.812\n",
      "Epoch: 1, Step: 1100, Train Loss: 3.907e-01, Train Accuracy: 0.781\n",
      "Epoch: 1, Step: 1200, Train Loss: 2.479e-01, Train Accuracy: 0.906\n",
      "Epoch: 1, Step: 1300, Train Loss: 1.870e-01, Train Accuracy: 0.969\n",
      "epoch: 1\t train_loss: 3.891e-01\t train_accuracy:0.837\t val_loss: 3.152e-01\t val_accuracy:0.872\n",
      "Epoch: 2, Step: 1400, Train Loss: 2.837e-01, Train Accuracy: 0.938\n",
      "Epoch: 2, Step: 1500, Train Loss: 2.356e-01, Train Accuracy: 0.938\n",
      "Epoch: 2, Step: 1600, Train Loss: 4.183e-01, Train Accuracy: 0.812\n",
      "Epoch: 2, Step: 1700, Train Loss: 2.499e-01, Train Accuracy: 0.938\n",
      "Epoch: 2, Step: 1800, Train Loss: 3.800e-01, Train Accuracy: 0.812\n",
      "Epoch: 2, Step: 1900, Train Loss: 1.977e-01, Train Accuracy: 0.969\n",
      "Epoch: 2, Step: 2000, Train Loss: 1.741e-01, Train Accuracy: 0.969\n",
      "Epoch: 2, Step: 2100, Train Loss: 2.284e-01, Train Accuracy: 0.906\n",
      "Epoch: 2, Step: 2200, Train Loss: 2.422e-01, Train Accuracy: 0.875\n",
      "Epoch: 2, Step: 2300, Train Loss: 2.165e-01, Train Accuracy: 0.938\n",
      "Epoch: 2, Step: 2400, Train Loss: 1.963e-01, Train Accuracy: 0.906\n",
      "Epoch: 2, Step: 2500, Train Loss: 2.747e-01, Train Accuracy: 0.875\n",
      "Epoch: 2, Step: 2600, Train Loss: 2.384e-01, Train Accuracy: 0.906\n",
      "Epoch: 2, Step: 2700, Train Loss: 2.270e-01, Train Accuracy: 0.906\n",
      "epoch: 2\t train_loss: 3.028e-01\t train_accuracy:0.883\t val_loss: 3.026e-01\t val_accuracy:0.872\n",
      "Epoch: 3, Step: 2800, Train Loss: 3.586e-01, Train Accuracy: 0.875\n",
      "Epoch: 3, Step: 2900, Train Loss: 2.759e-01, Train Accuracy: 0.875\n",
      "Epoch: 3, Step: 3000, Train Loss: 2.358e-01, Train Accuracy: 0.938\n",
      "Epoch: 3, Step: 3100, Train Loss: 1.786e-01, Train Accuracy: 0.938\n",
      "Epoch: 3, Step: 3200, Train Loss: 2.136e-01, Train Accuracy: 0.938\n",
      "Epoch: 3, Step: 3300, Train Loss: 2.975e-01, Train Accuracy: 0.875\n",
      "Epoch: 3, Step: 3400, Train Loss: 1.749e-01, Train Accuracy: 0.938\n",
      "Epoch: 3, Step: 3500, Train Loss: 3.391e-01, Train Accuracy: 0.875\n",
      "Epoch: 3, Step: 3600, Train Loss: 3.126e-01, Train Accuracy: 0.906\n",
      "Epoch: 3, Step: 3700, Train Loss: 2.885e-01, Train Accuracy: 0.875\n",
      "Epoch: 3, Step: 3800, Train Loss: 2.948e-01, Train Accuracy: 0.844\n",
      "Epoch: 3, Step: 3900, Train Loss: 2.200e-01, Train Accuracy: 0.906\n",
      "Epoch: 3, Step: 4000, Train Loss: 3.605e-01, Train Accuracy: 0.875\n",
      "Epoch: 3, Step: 4100, Train Loss: 2.999e-01, Train Accuracy: 0.875\n",
      "epoch: 3\t train_loss: 2.867e-01\t train_accuracy:0.889\t val_loss: 2.813e-01\t val_accuracy:0.889\n",
      "Epoch: 4, Step: 4200, Train Loss: 2.284e-01, Train Accuracy: 0.875\n",
      "Epoch: 4, Step: 4300, Train Loss: 2.898e-01, Train Accuracy: 0.875\n",
      "Epoch: 4, Step: 4400, Train Loss: 2.395e-01, Train Accuracy: 0.938\n",
      "Epoch: 4, Step: 4500, Train Loss: 2.992e-01, Train Accuracy: 0.844\n",
      "Epoch: 4, Step: 4600, Train Loss: 1.695e-01, Train Accuracy: 0.969\n",
      "Epoch: 4, Step: 4700, Train Loss: 3.707e-01, Train Accuracy: 0.875\n",
      "Epoch: 4, Step: 4800, Train Loss: 1.375e-01, Train Accuracy: 0.969\n",
      "Epoch: 4, Step: 4900, Train Loss: 1.988e-01, Train Accuracy: 0.938\n",
      "Epoch: 4, Step: 5000, Train Loss: 1.520e-01, Train Accuracy: 0.969\n",
      "Epoch: 4, Step: 5100, Train Loss: 2.363e-01, Train Accuracy: 0.938\n",
      "Epoch: 4, Step: 5200, Train Loss: 1.730e-01, Train Accuracy: 0.938\n",
      "Epoch: 4, Step: 5300, Train Loss: 3.361e-01, Train Accuracy: 0.875\n",
      "Epoch: 4, Step: 5400, Train Loss: 3.199e-01, Train Accuracy: 0.844\n",
      "epoch: 4\t train_loss: 2.751e-01\t train_accuracy:0.894\t val_loss: 2.774e-01\t val_accuracy:0.887\n",
      "Epoch: 5, Step: 5500, Train Loss: 3.953e-01, Train Accuracy: 0.844\n",
      "Epoch: 5, Step: 5600, Train Loss: 2.606e-01, Train Accuracy: 0.875\n",
      "Epoch: 5, Step: 5700, Train Loss: 1.602e-01, Train Accuracy: 0.906\n",
      "Epoch: 5, Step: 5800, Train Loss: 3.982e-01, Train Accuracy: 0.812\n",
      "Epoch: 5, Step: 5900, Train Loss: 4.112e-01, Train Accuracy: 0.812\n",
      "Epoch: 5, Step: 6000, Train Loss: 2.117e-01, Train Accuracy: 0.938\n",
      "Epoch: 5, Step: 6100, Train Loss: 2.288e-01, Train Accuracy: 0.938\n",
      "Epoch: 5, Step: 6200, Train Loss: 1.459e-01, Train Accuracy: 0.969\n",
      "Epoch: 5, Step: 6300, Train Loss: 6.232e-01, Train Accuracy: 0.750\n",
      "Epoch: 5, Step: 6400, Train Loss: 3.426e-01, Train Accuracy: 0.844\n",
      "Epoch: 5, Step: 6500, Train Loss: 2.807e-01, Train Accuracy: 0.875\n",
      "Epoch: 5, Step: 6600, Train Loss: 2.402e-01, Train Accuracy: 0.969\n",
      "Epoch: 5, Step: 6700, Train Loss: 2.094e-01, Train Accuracy: 0.906\n",
      "Epoch: 5, Step: 6800, Train Loss: 2.806e-01, Train Accuracy: 0.906\n",
      "epoch: 5\t train_loss: 2.670e-01\t train_accuracy:0.896\t val_loss: 2.676e-01\t val_accuracy:0.889\n"
     ]
    },
    {
     "data": {
      "text/html": [],
      "text/plain": [
       "<IPython.core.display.HTML object>"
      ]
     },
     "metadata": {},
     "output_type": "display_data"
    },
    {
     "data": {
      "text/html": [
       "<br>    <style><br>        .wandb-row {<br>            display: flex;<br>            flex-direction: row;<br>            flex-wrap: wrap;<br>            justify-content: flex-start;<br>            width: 100%;<br>        }<br>        .wandb-col {<br>            display: flex;<br>            flex-direction: column;<br>            flex-basis: 100%;<br>            flex: 1;<br>            padding: 10px;<br>        }<br>    </style><br><div class=\"wandb-row\"><div class=\"wandb-col\"><h3>Run history:</h3><br/><table class=\"wandb\"><tr><td>epoch</td><td>▁▁▁▁▁▁▁▃▃▃▃▃▃▃▃▅▅▅▅▅▅▅▅▅▆▆▆▆▆▆▆▆████████</td></tr><tr><td>final_val_accuracy</td><td>▁</td></tr><tr><td>final_val_loss</td><td>▁</td></tr><tr><td>global_step</td><td>▁▁▁▁▂▂▂▂▂▃▃▃▃▄▄▄▄▄▄▅▅▅▅▅▅▆▆▆▆▇▇▇▇▇▇▇████</td></tr><tr><td>train_accuracy</td><td>▁▆▇██</td></tr><tr><td>train_accuracy_step</td><td>▁▇▇▇▇▇███▆██▇▇█▇▇▇▇█▇▇▇▆▇▆█▇██▇▆▇▇▆█▅▆▇▇</td></tr><tr><td>train_loss</td><td>█▃▂▁▁</td></tr><tr><td>train_loss_step</td><td>█▅▄▄▃▂▂▄▂▄▁▂▂▂▂▂▄▂▂▃▃▄▂▃▂▁▄▁▂▂▃▄▃▁▄▂▁▃▂▃</td></tr><tr><td>val_accuracy</td><td>▁▁█▇█</td></tr><tr><td>val_loss</td><td>█▆▃▂▁</td></tr></table><br/></div><div class=\"wandb-col\"><h3>Run summary:</h3><br/><table class=\"wandb\"><tr><td>epoch</td><td>5</td></tr><tr><td>final_val_accuracy</td><td>0.88943</td></tr><tr><td>final_val_loss</td><td>0.26758</td></tr><tr><td>global_step</td><td>6800</td></tr><tr><td>train_accuracy</td><td>0.89628</td></tr><tr><td>train_accuracy_step</td><td>0.90625</td></tr><tr><td>train_loss</td><td>0.267</td></tr><tr><td>train_loss_step</td><td>0.28062</td></tr><tr><td>val_accuracy</td><td>0.88943</td></tr><tr><td>val_loss</td><td>0.26758</td></tr></table><br/></div></div>"
      ],
      "text/plain": [
       "<IPython.core.display.HTML object>"
      ]
     },
     "metadata": {},
     "output_type": "display_data"
    },
    {
     "data": {
      "text/html": [
       " View run <strong style=\"color:#cdcd00\">neat-thunder-23</strong> at: <a href='https://wandb.ai/mariamsu-carnegie-mellon-university/clickbait-detection-task2/runs/8g3465cp' target=\"_blank\">https://wandb.ai/mariamsu-carnegie-mellon-university/clickbait-detection-task2/runs/8g3465cp</a><br> View project at: <a href='https://wandb.ai/mariamsu-carnegie-mellon-university/clickbait-detection-task2' target=\"_blank\">https://wandb.ai/mariamsu-carnegie-mellon-university/clickbait-detection-task2</a><br>Synced 5 W&B file(s), 0 media file(s), 0 artifact file(s) and 0 other file(s)"
      ],
      "text/plain": [
       "<IPython.core.display.HTML object>"
      ]
     },
     "metadata": {},
     "output_type": "display_data"
    },
    {
     "data": {
      "text/html": [
       "Find logs at: <code>./wandb/run-20250325_185217-8g3465cp/logs</code>"
      ],
      "text/plain": [
       "<IPython.core.display.HTML object>"
      ]
     },
     "metadata": {},
     "output_type": "display_data"
    },
    {
     "name": "stderr",
     "output_type": "stream",
     "text": [
      "\u001b[34m\u001b[1mwandb\u001b[0m: \u001b[33mWARNING\u001b[0m If you're specifying your api key in code, ensure this code is not shared publicly.\n",
      "\u001b[34m\u001b[1mwandb\u001b[0m: \u001b[33mWARNING\u001b[0m Consider setting the WANDB_API_KEY environment variable, or running `wandb login` from the command line.\n",
      "\u001b[34m\u001b[1mwandb\u001b[0m: Appending key for api.wandb.ai to your netrc file: /root/.netrc\n"
     ]
    },
    {
     "name": "stdout",
     "output_type": "stream",
     "text": [
      "\n",
      "Running experiment 4/6: Config 4\n"
     ]
    },
    {
     "data": {
      "text/html": [
       "Tracking run with wandb version 0.19.1"
      ],
      "text/plain": [
       "<IPython.core.display.HTML object>"
      ]
     },
     "metadata": {},
     "output_type": "display_data"
    },
    {
     "data": {
      "text/html": [
       "Run data is saved locally in <code>/kaggle/working/wandb/run-20250325_190928-2lkcslq8</code>"
      ],
      "text/plain": [
       "<IPython.core.display.HTML object>"
      ]
     },
     "metadata": {},
     "output_type": "display_data"
    },
    {
     "data": {
      "text/html": [
       "Syncing run <strong><a href='https://wandb.ai/mariamsu-carnegie-mellon-university/clickbait-detection-task2/runs/2lkcslq8' target=\"_blank\">noble-grass-24</a></strong> to <a href='https://wandb.ai/mariamsu-carnegie-mellon-university/clickbait-detection-task2' target=\"_blank\">Weights & Biases</a> (<a href='https://wandb.me/developer-guide' target=\"_blank\">docs</a>)<br>"
      ],
      "text/plain": [
       "<IPython.core.display.HTML object>"
      ]
     },
     "metadata": {},
     "output_type": "display_data"
    },
    {
     "data": {
      "text/html": [
       " View project at <a href='https://wandb.ai/mariamsu-carnegie-mellon-university/clickbait-detection-task2' target=\"_blank\">https://wandb.ai/mariamsu-carnegie-mellon-university/clickbait-detection-task2</a>"
      ],
      "text/plain": [
       "<IPython.core.display.HTML object>"
      ]
     },
     "metadata": {},
     "output_type": "display_data"
    },
    {
     "data": {
      "text/html": [
       " View run at <a href='https://wandb.ai/mariamsu-carnegie-mellon-university/clickbait-detection-task2/runs/2lkcslq8' target=\"_blank\">https://wandb.ai/mariamsu-carnegie-mellon-university/clickbait-detection-task2/runs/2lkcslq8</a>"
      ],
      "text/plain": [
       "<IPython.core.display.HTML object>"
      ]
     },
     "metadata": {},
     "output_type": "display_data"
    },
    {
     "name": "stdout",
     "output_type": "stream",
     "text": [
      "Epoch: 1, Step: 100, Train Loss: 3.084e-01, Train Accuracy: 0.898\n",
      "Epoch: 1, Step: 200, Train Loss: 3.420e-01, Train Accuracy: 0.859\n",
      "Epoch: 1, Step: 300, Train Loss: 2.110e-01, Train Accuracy: 0.930\n",
      "epoch: 1\t train_loss: 3.123e-01\t train_accuracy:0.875\t val_loss: 2.602e-01\t val_accuracy:0.898\n",
      "Epoch: 2, Step: 400, Train Loss: 3.537e-01, Train Accuracy: 0.883\n",
      "Epoch: 2, Step: 500, Train Loss: 2.079e-01, Train Accuracy: 0.938\n",
      "Epoch: 2, Step: 600, Train Loss: 2.732e-01, Train Accuracy: 0.891\n",
      "epoch: 2\t train_loss: 2.644e-01\t train_accuracy:0.898\t val_loss: 2.566e-01\t val_accuracy:0.896\n",
      "Epoch: 3, Step: 700, Train Loss: 2.822e-01, Train Accuracy: 0.875\n",
      "Epoch: 3, Step: 800, Train Loss: 2.406e-01, Train Accuracy: 0.906\n",
      "Epoch: 3, Step: 900, Train Loss: 2.138e-01, Train Accuracy: 0.938\n",
      "Epoch: 3, Step: 1000, Train Loss: 1.652e-01, Train Accuracy: 0.945\n",
      "epoch: 3\t train_loss: 2.555e-01\t train_accuracy:0.901\t val_loss: 2.453e-01\t val_accuracy:0.906\n",
      "Epoch: 4, Step: 1100, Train Loss: 2.984e-01, Train Accuracy: 0.898\n",
      "Epoch: 4, Step: 1200, Train Loss: 2.462e-01, Train Accuracy: 0.898\n",
      "Epoch: 4, Step: 1300, Train Loss: 2.934e-01, Train Accuracy: 0.875\n",
      "epoch: 4\t train_loss: 2.510e-01\t train_accuracy:0.903\t val_loss: 2.415e-01\t val_accuracy:0.907\n",
      "Epoch: 5, Step: 1400, Train Loss: 2.203e-01, Train Accuracy: 0.914\n",
      "Epoch: 5, Step: 1500, Train Loss: 2.496e-01, Train Accuracy: 0.898\n",
      "Epoch: 5, Step: 1600, Train Loss: 2.361e-01, Train Accuracy: 0.914\n",
      "Epoch: 5, Step: 1700, Train Loss: 2.377e-01, Train Accuracy: 0.930\n",
      "epoch: 5\t train_loss: 2.465e-01\t train_accuracy:0.904\t val_loss: 2.435e-01\t val_accuracy:0.905\n"
     ]
    },
    {
     "data": {
      "text/html": [],
      "text/plain": [
       "<IPython.core.display.HTML object>"
      ]
     },
     "metadata": {},
     "output_type": "display_data"
    },
    {
     "data": {
      "text/html": [
       "<br>    <style><br>        .wandb-row {<br>            display: flex;<br>            flex-direction: row;<br>            flex-wrap: wrap;<br>            justify-content: flex-start;<br>            width: 100%;<br>        }<br>        .wandb-col {<br>            display: flex;<br>            flex-direction: column;<br>            flex-basis: 100%;<br>            flex: 1;<br>            padding: 10px;<br>        }<br>    </style><br><div class=\"wandb-row\"><div class=\"wandb-col\"><h3>Run history:</h3><br/><table class=\"wandb\"><tr><td>epoch</td><td>▁▁▁▁▃▃▃▃▅▅▅▅▅▆▆▆▆█████</td></tr><tr><td>final_val_accuracy</td><td>▁</td></tr><tr><td>final_val_loss</td><td>▁</td></tr><tr><td>global_step</td><td>▁▁▂▂▃▃▄▄▅▅▅▆▆▇▇██</td></tr><tr><td>train_accuracy</td><td>▁▇▇██</td></tr><tr><td>train_accuracy_step</td><td>▄▁▇▃▇▄▂▅▇█▄▄▂▅▄▅▇</td></tr><tr><td>train_loss</td><td>█▃▂▁▁</td></tr><tr><td>train_loss_step</td><td>▆█▃█▃▅▅▄▃▁▆▄▆▃▄▄▄</td></tr><tr><td>val_accuracy</td><td>▂▁▇█▆</td></tr><tr><td>val_loss</td><td>█▇▂▁▂</td></tr></table><br/></div><div class=\"wandb-col\"><h3>Run summary:</h3><br/><table class=\"wandb\"><tr><td>epoch</td><td>5</td></tr><tr><td>final_val_accuracy</td><td>0.90472</td></tr><tr><td>final_val_loss</td><td>0.24354</td></tr><tr><td>global_step</td><td>1700</td></tr><tr><td>train_accuracy</td><td>0.90432</td></tr><tr><td>train_accuracy_step</td><td>0.92969</td></tr><tr><td>train_loss</td><td>0.24654</td></tr><tr><td>train_loss_step</td><td>0.23768</td></tr><tr><td>val_accuracy</td><td>0.90472</td></tr><tr><td>val_loss</td><td>0.24354</td></tr></table><br/></div></div>"
      ],
      "text/plain": [
       "<IPython.core.display.HTML object>"
      ]
     },
     "metadata": {},
     "output_type": "display_data"
    },
    {
     "data": {
      "text/html": [
       " View run <strong style=\"color:#cdcd00\">noble-grass-24</strong> at: <a href='https://wandb.ai/mariamsu-carnegie-mellon-university/clickbait-detection-task2/runs/2lkcslq8' target=\"_blank\">https://wandb.ai/mariamsu-carnegie-mellon-university/clickbait-detection-task2/runs/2lkcslq8</a><br> View project at: <a href='https://wandb.ai/mariamsu-carnegie-mellon-university/clickbait-detection-task2' target=\"_blank\">https://wandb.ai/mariamsu-carnegie-mellon-university/clickbait-detection-task2</a><br>Synced 5 W&B file(s), 0 media file(s), 0 artifact file(s) and 0 other file(s)"
      ],
      "text/plain": [
       "<IPython.core.display.HTML object>"
      ]
     },
     "metadata": {},
     "output_type": "display_data"
    },
    {
     "data": {
      "text/html": [
       "Find logs at: <code>./wandb/run-20250325_190928-2lkcslq8/logs</code>"
      ],
      "text/plain": [
       "<IPython.core.display.HTML object>"
      ]
     },
     "metadata": {},
     "output_type": "display_data"
    },
    {
     "name": "stderr",
     "output_type": "stream",
     "text": [
      "\u001b[34m\u001b[1mwandb\u001b[0m: \u001b[33mWARNING\u001b[0m If you're specifying your api key in code, ensure this code is not shared publicly.\n",
      "\u001b[34m\u001b[1mwandb\u001b[0m: \u001b[33mWARNING\u001b[0m Consider setting the WANDB_API_KEY environment variable, or running `wandb login` from the command line.\n",
      "\u001b[34m\u001b[1mwandb\u001b[0m: Appending key for api.wandb.ai to your netrc file: /root/.netrc\n"
     ]
    },
    {
     "name": "stdout",
     "output_type": "stream",
     "text": [
      "\n",
      "Running experiment 5/6: Config 5\n"
     ]
    },
    {
     "data": {
      "text/html": [
       "Tracking run with wandb version 0.19.1"
      ],
      "text/plain": [
       "<IPython.core.display.HTML object>"
      ]
     },
     "metadata": {},
     "output_type": "display_data"
    },
    {
     "data": {
      "text/html": [
       "Run data is saved locally in <code>/kaggle/working/wandb/run-20250325_194116-t9fn2kow</code>"
      ],
      "text/plain": [
       "<IPython.core.display.HTML object>"
      ]
     },
     "metadata": {},
     "output_type": "display_data"
    },
    {
     "data": {
      "text/html": [
       "Syncing run <strong><a href='https://wandb.ai/mariamsu-carnegie-mellon-university/clickbait-detection-task2/runs/t9fn2kow' target=\"_blank\">desert-glade-25</a></strong> to <a href='https://wandb.ai/mariamsu-carnegie-mellon-university/clickbait-detection-task2' target=\"_blank\">Weights & Biases</a> (<a href='https://wandb.me/developer-guide' target=\"_blank\">docs</a>)<br>"
      ],
      "text/plain": [
       "<IPython.core.display.HTML object>"
      ]
     },
     "metadata": {},
     "output_type": "display_data"
    },
    {
     "data": {
      "text/html": [
       " View project at <a href='https://wandb.ai/mariamsu-carnegie-mellon-university/clickbait-detection-task2' target=\"_blank\">https://wandb.ai/mariamsu-carnegie-mellon-university/clickbait-detection-task2</a>"
      ],
      "text/plain": [
       "<IPython.core.display.HTML object>"
      ]
     },
     "metadata": {},
     "output_type": "display_data"
    },
    {
     "data": {
      "text/html": [
       " View run at <a href='https://wandb.ai/mariamsu-carnegie-mellon-university/clickbait-detection-task2/runs/t9fn2kow' target=\"_blank\">https://wandb.ai/mariamsu-carnegie-mellon-university/clickbait-detection-task2/runs/t9fn2kow</a>"
      ],
      "text/plain": [
       "<IPython.core.display.HTML object>"
      ]
     },
     "metadata": {},
     "output_type": "display_data"
    },
    {
     "name": "stdout",
     "output_type": "stream",
     "text": [
      "Epoch: 1, Step: 100, Train Loss: 4.817e-01, Train Accuracy: 0.812\n",
      "Epoch: 1, Step: 200, Train Loss: 3.799e-01, Train Accuracy: 0.828\n",
      "Epoch: 1, Step: 300, Train Loss: 3.112e-01, Train Accuracy: 0.891\n",
      "Epoch: 1, Step: 400, Train Loss: 1.875e-01, Train Accuracy: 0.953\n",
      "Epoch: 1, Step: 500, Train Loss: 2.163e-01, Train Accuracy: 0.938\n",
      "Epoch: 1, Step: 600, Train Loss: 3.074e-01, Train Accuracy: 0.906\n",
      "epoch: 1\t train_loss: 3.396e-01\t train_accuracy:0.863\t val_loss: 2.820e-01\t val_accuracy:0.883\n",
      "Epoch: 2, Step: 700, Train Loss: 3.181e-01, Train Accuracy: 0.844\n",
      "Epoch: 2, Step: 800, Train Loss: 3.654e-01, Train Accuracy: 0.875\n",
      "Epoch: 2, Step: 900, Train Loss: 3.766e-01, Train Accuracy: 0.844\n",
      "Epoch: 2, Step: 1000, Train Loss: 3.602e-01, Train Accuracy: 0.906\n",
      "Epoch: 2, Step: 1100, Train Loss: 1.983e-01, Train Accuracy: 0.906\n",
      "Epoch: 2, Step: 1200, Train Loss: 2.563e-01, Train Accuracy: 0.906\n",
      "Epoch: 2, Step: 1300, Train Loss: 3.797e-01, Train Accuracy: 0.844\n",
      "epoch: 2\t train_loss: 2.752e-01\t train_accuracy:0.893\t val_loss: 2.645e-01\t val_accuracy:0.896\n",
      "Epoch: 3, Step: 1400, Train Loss: 1.745e-01, Train Accuracy: 0.922\n",
      "Epoch: 3, Step: 1500, Train Loss: 2.838e-01, Train Accuracy: 0.891\n",
      "Epoch: 3, Step: 1600, Train Loss: 2.404e-01, Train Accuracy: 0.875\n",
      "Epoch: 3, Step: 1700, Train Loss: 2.431e-01, Train Accuracy: 0.906\n",
      "Epoch: 3, Step: 1800, Train Loss: 2.531e-01, Train Accuracy: 0.906\n",
      "Epoch: 3, Step: 1900, Train Loss: 3.015e-01, Train Accuracy: 0.859\n",
      "Epoch: 3, Step: 2000, Train Loss: 2.594e-01, Train Accuracy: 0.922\n",
      "epoch: 3\t train_loss: 2.590e-01\t train_accuracy:0.900\t val_loss: 2.633e-01\t val_accuracy:0.901\n",
      "Epoch: 4, Step: 2100, Train Loss: 2.836e-01, Train Accuracy: 0.875\n",
      "Epoch: 4, Step: 2200, Train Loss: 1.697e-01, Train Accuracy: 0.922\n",
      "Epoch: 4, Step: 2300, Train Loss: 3.380e-01, Train Accuracy: 0.844\n",
      "Epoch: 4, Step: 2400, Train Loss: 2.931e-01, Train Accuracy: 0.875\n",
      "Epoch: 4, Step: 2500, Train Loss: 2.055e-01, Train Accuracy: 0.875\n",
      "Epoch: 4, Step: 2600, Train Loss: 2.880e-01, Train Accuracy: 0.859\n",
      "Epoch: 4, Step: 2700, Train Loss: 3.325e-01, Train Accuracy: 0.875\n",
      "epoch: 4\t train_loss: 2.509e-01\t train_accuracy:0.904\t val_loss: 2.470e-01\t val_accuracy:0.903\n",
      "Epoch: 5, Step: 2800, Train Loss: 3.112e-01, Train Accuracy: 0.875\n",
      "Epoch: 5, Step: 2900, Train Loss: 1.214e-01, Train Accuracy: 0.969\n",
      "Epoch: 5, Step: 3000, Train Loss: 1.047e-01, Train Accuracy: 0.969\n",
      "Epoch: 5, Step: 3100, Train Loss: 1.967e-01, Train Accuracy: 0.922\n",
      "Epoch: 5, Step: 3200, Train Loss: 2.200e-01, Train Accuracy: 0.891\n",
      "Epoch: 5, Step: 3300, Train Loss: 2.575e-01, Train Accuracy: 0.891\n",
      "Epoch: 5, Step: 3400, Train Loss: 3.245e-01, Train Accuracy: 0.875\n",
      "epoch: 5\t train_loss: 2.450e-01\t train_accuracy:0.905\t val_loss: 2.553e-01\t val_accuracy:0.900\n"
     ]
    },
    {
     "data": {
      "text/html": [],
      "text/plain": [
       "<IPython.core.display.HTML object>"
      ]
     },
     "metadata": {},
     "output_type": "display_data"
    },
    {
     "data": {
      "text/html": [
       "<br>    <style><br>        .wandb-row {<br>            display: flex;<br>            flex-direction: row;<br>            flex-wrap: wrap;<br>            justify-content: flex-start;<br>            width: 100%;<br>        }<br>        .wandb-col {<br>            display: flex;<br>            flex-direction: column;<br>            flex-basis: 100%;<br>            flex: 1;<br>            padding: 10px;<br>        }<br>    </style><br><div class=\"wandb-row\"><div class=\"wandb-col\"><h3>Run history:</h3><br/><table class=\"wandb\"><tr><td>epoch</td><td>▁▁▁▁▁▁▁▃▃▃▃▃▃▃▃▅▅▅▅▅▅▅▅▆▆▆▆▆▆▆▆████████</td></tr><tr><td>final_val_accuracy</td><td>▁</td></tr><tr><td>final_val_loss</td><td>▁</td></tr><tr><td>global_step</td><td>▁▁▁▂▂▂▂▂▃▃▃▃▄▄▄▄▄▅▅▅▅▅▆▆▆▆▇▇▇▇▇███</td></tr><tr><td>train_accuracy</td><td>▁▆▇██</td></tr><tr><td>train_accuracy_step</td><td>▁▂▅▇▇▅▂▄▂▅▅▅▂▆▅▄▅▅▃▆▄▆▂▄▄▃▄▄██▆▅▅▄</td></tr><tr><td>train_loss</td><td>█▃▂▁▁</td></tr><tr><td>train_loss_step</td><td>█▆▅▃▃▅▅▆▆▆▃▄▆▂▄▄▄▄▅▄▄▂▅▄▃▄▅▅▁▁▃▃▄▅</td></tr><tr><td>val_accuracy</td><td>▁▆▇█▇</td></tr><tr><td>val_loss</td><td>█▅▄▁▃</td></tr></table><br/></div><div class=\"wandb-col\"><h3>Run summary:</h3><br/><table class=\"wandb\"><tr><td>epoch</td><td>5</td></tr><tr><td>final_val_accuracy</td><td>0.89988</td></tr><tr><td>final_val_loss</td><td>0.25529</td></tr><tr><td>global_step</td><td>3400</td></tr><tr><td>train_accuracy</td><td>0.9053</td></tr><tr><td>train_accuracy_step</td><td>0.875</td></tr><tr><td>train_loss</td><td>0.24497</td></tr><tr><td>train_loss_step</td><td>0.32453</td></tr><tr><td>val_accuracy</td><td>0.89988</td></tr><tr><td>val_loss</td><td>0.25529</td></tr></table><br/></div></div>"
      ],
      "text/plain": [
       "<IPython.core.display.HTML object>"
      ]
     },
     "metadata": {},
     "output_type": "display_data"
    },
    {
     "data": {
      "text/html": [
       " View run <strong style=\"color:#cdcd00\">desert-glade-25</strong> at: <a href='https://wandb.ai/mariamsu-carnegie-mellon-university/clickbait-detection-task2/runs/t9fn2kow' target=\"_blank\">https://wandb.ai/mariamsu-carnegie-mellon-university/clickbait-detection-task2/runs/t9fn2kow</a><br> View project at: <a href='https://wandb.ai/mariamsu-carnegie-mellon-university/clickbait-detection-task2' target=\"_blank\">https://wandb.ai/mariamsu-carnegie-mellon-university/clickbait-detection-task2</a><br>Synced 5 W&B file(s), 0 media file(s), 0 artifact file(s) and 0 other file(s)"
      ],
      "text/plain": [
       "<IPython.core.display.HTML object>"
      ]
     },
     "metadata": {},
     "output_type": "display_data"
    },
    {
     "data": {
      "text/html": [
       "Find logs at: <code>./wandb/run-20250325_194116-t9fn2kow/logs</code>"
      ],
      "text/plain": [
       "<IPython.core.display.HTML object>"
      ]
     },
     "metadata": {},
     "output_type": "display_data"
    },
    {
     "name": "stderr",
     "output_type": "stream",
     "text": [
      "\u001b[34m\u001b[1mwandb\u001b[0m: \u001b[33mWARNING\u001b[0m If you're specifying your api key in code, ensure this code is not shared publicly.\n",
      "\u001b[34m\u001b[1mwandb\u001b[0m: \u001b[33mWARNING\u001b[0m Consider setting the WANDB_API_KEY environment variable, or running `wandb login` from the command line.\n",
      "\u001b[34m\u001b[1mwandb\u001b[0m: Appending key for api.wandb.ai to your netrc file: /root/.netrc\n"
     ]
    },
    {
     "name": "stdout",
     "output_type": "stream",
     "text": [
      "\n",
      "Running experiment 6/6: Config 6\n"
     ]
    },
    {
     "data": {
      "text/html": [
       "Tracking run with wandb version 0.19.1"
      ],
      "text/plain": [
       "<IPython.core.display.HTML object>"
      ]
     },
     "metadata": {},
     "output_type": "display_data"
    },
    {
     "data": {
      "text/html": [
       "Run data is saved locally in <code>/kaggle/working/wandb/run-20250325_200317-k5hjb143</code>"
      ],
      "text/plain": [
       "<IPython.core.display.HTML object>"
      ]
     },
     "metadata": {},
     "output_type": "display_data"
    },
    {
     "data": {
      "text/html": [
       "Syncing run <strong><a href='https://wandb.ai/mariamsu-carnegie-mellon-university/clickbait-detection-task2/runs/k5hjb143' target=\"_blank\">noble-armadillo-26</a></strong> to <a href='https://wandb.ai/mariamsu-carnegie-mellon-university/clickbait-detection-task2' target=\"_blank\">Weights & Biases</a> (<a href='https://wandb.me/developer-guide' target=\"_blank\">docs</a>)<br>"
      ],
      "text/plain": [
       "<IPython.core.display.HTML object>"
      ]
     },
     "metadata": {},
     "output_type": "display_data"
    },
    {
     "data": {
      "text/html": [
       " View project at <a href='https://wandb.ai/mariamsu-carnegie-mellon-university/clickbait-detection-task2' target=\"_blank\">https://wandb.ai/mariamsu-carnegie-mellon-university/clickbait-detection-task2</a>"
      ],
      "text/plain": [
       "<IPython.core.display.HTML object>"
      ]
     },
     "metadata": {},
     "output_type": "display_data"
    },
    {
     "data": {
      "text/html": [
       " View run at <a href='https://wandb.ai/mariamsu-carnegie-mellon-university/clickbait-detection-task2/runs/k5hjb143' target=\"_blank\">https://wandb.ai/mariamsu-carnegie-mellon-university/clickbait-detection-task2/runs/k5hjb143</a>"
      ],
      "text/plain": [
       "<IPython.core.display.HTML object>"
      ]
     },
     "metadata": {},
     "output_type": "display_data"
    },
    {
     "name": "stdout",
     "output_type": "stream",
     "text": [
      "Unfroze the last 5 layers out of 22 total layers.\n",
      "Epoch: 1, Step: 100, Train Loss: 1.910e-01, Train Accuracy: 0.938\n",
      "Epoch: 1, Step: 200, Train Loss: 3.633e-01, Train Accuracy: 0.875\n",
      "Epoch: 1, Step: 300, Train Loss: 2.174e-01, Train Accuracy: 0.938\n",
      "Epoch: 1, Step: 400, Train Loss: 2.679e-01, Train Accuracy: 0.906\n",
      "Epoch: 1, Step: 500, Train Loss: 2.001e-01, Train Accuracy: 0.969\n",
      "Epoch: 1, Step: 600, Train Loss: 7.827e-02, Train Accuracy: 1.000\n",
      "Epoch: 1, Step: 700, Train Loss: 1.167e-01, Train Accuracy: 1.000\n",
      "Epoch: 1, Step: 800, Train Loss: 2.795e-01, Train Accuracy: 0.875\n",
      "Epoch: 1, Step: 900, Train Loss: 2.278e-01, Train Accuracy: 0.938\n",
      "Epoch: 1, Step: 1000, Train Loss: 1.819e-01, Train Accuracy: 0.938\n",
      "Epoch: 1, Step: 1100, Train Loss: 2.109e-01, Train Accuracy: 0.906\n",
      "Epoch: 1, Step: 1200, Train Loss: 1.507e-01, Train Accuracy: 0.938\n",
      "Epoch: 1, Step: 1300, Train Loss: 2.233e-01, Train Accuracy: 0.938\n",
      "epoch: 1\t train_loss: 2.475e-01\t train_accuracy:0.908\t val_loss: 2.402e-01\t val_accuracy:0.906\n",
      "Epoch: 2, Step: 1400, Train Loss: 1.974e-01, Train Accuracy: 0.938\n",
      "Epoch: 2, Step: 1500, Train Loss: 2.755e-01, Train Accuracy: 0.938\n",
      "Epoch: 2, Step: 2500, Train Loss: 2.182e-01, Train Accuracy: 0.938\n",
      "Epoch: 2, Step: 2600, Train Loss: 1.536e-01, Train Accuracy: 0.969\n",
      "Epoch: 2, Step: 2700, Train Loss: 1.597e-01, Train Accuracy: 0.969\n",
      "epoch: 2\t train_loss: 2.185e-01\t train_accuracy:0.918\t val_loss: 2.300e-01\t val_accuracy:0.908\n",
      "Epoch: 3, Step: 2800, Train Loss: 2.604e-01, Train Accuracy: 0.906\n",
      "Epoch: 3, Step: 2900, Train Loss: 1.745e-01, Train Accuracy: 0.875\n",
      "Epoch: 3, Step: 3000, Train Loss: 1.444e-01, Train Accuracy: 0.938\n",
      "Epoch: 3, Step: 3100, Train Loss: 2.327e-01, Train Accuracy: 0.906\n",
      "Epoch: 3, Step: 3200, Train Loss: 1.372e-01, Train Accuracy: 1.000\n",
      "Epoch: 3, Step: 3300, Train Loss: 1.827e-01, Train Accuracy: 0.938\n",
      "Epoch: 3, Step: 3400, Train Loss: 3.787e-01, Train Accuracy: 0.906\n",
      "Epoch: 3, Step: 3500, Train Loss: 1.573e-01, Train Accuracy: 0.938\n",
      "Epoch: 3, Step: 3600, Train Loss: 1.327e-01, Train Accuracy: 0.938\n",
      "Epoch: 3, Step: 3700, Train Loss: 2.838e-01, Train Accuracy: 0.875\n",
      "Epoch: 3, Step: 3800, Train Loss: 2.873e-01, Train Accuracy: 0.906\n",
      "Epoch: 3, Step: 3900, Train Loss: 1.179e-01, Train Accuracy: 0.969\n",
      "Epoch: 3, Step: 4000, Train Loss: 3.141e-01, Train Accuracy: 0.812\n",
      "Epoch: 3, Step: 4100, Train Loss: 1.635e-01, Train Accuracy: 0.969\n",
      "epoch: 3\t train_loss: 2.040e-01\t train_accuracy:0.923\t val_loss: 2.401e-01\t val_accuracy:0.906\n",
      "Epoch: 4, Step: 4200, Train Loss: 1.250e-01, Train Accuracy: 0.969\n",
      "Epoch: 4, Step: 4300, Train Loss: 1.131e-01, Train Accuracy: 0.969\n",
      "Epoch: 4, Step: 4400, Train Loss: 2.492e-01, Train Accuracy: 0.906\n",
      "Epoch: 4, Step: 4500, Train Loss: 1.444e-01, Train Accuracy: 0.938\n",
      "Epoch: 4, Step: 4600, Train Loss: 3.731e-01, Train Accuracy: 0.875\n",
      "Epoch: 4, Step: 4700, Train Loss: 1.967e-01, Train Accuracy: 0.938\n",
      "Epoch: 4, Step: 4800, Train Loss: 3.132e-01, Train Accuracy: 0.844\n",
      "Epoch: 4, Step: 4900, Train Loss: 1.495e-01, Train Accuracy: 0.969\n",
      "Epoch: 4, Step: 5000, Train Loss: 1.707e-01, Train Accuracy: 0.906\n",
      "Epoch: 4, Step: 5100, Train Loss: 4.159e-02, Train Accuracy: 1.000\n",
      "Epoch: 4, Step: 5200, Train Loss: 1.661e-01, Train Accuracy: 0.906\n",
      "Epoch: 4, Step: 5300, Train Loss: 1.999e-01, Train Accuracy: 0.938\n",
      "Epoch: 4, Step: 5400, Train Loss: 8.609e-02, Train Accuracy: 1.000\n",
      "epoch: 4\t train_loss: 1.943e-01\t train_accuracy:0.926\t val_loss: 2.329e-01\t val_accuracy:0.907\n",
      "Epoch: 5, Step: 5500, Train Loss: 1.546e-01, Train Accuracy: 0.938\n",
      "Epoch: 5, Step: 5600, Train Loss: 1.529e-01, Train Accuracy: 0.938\n",
      "Epoch: 5, Step: 5700, Train Loss: 1.702e-01, Train Accuracy: 0.938\n",
      "Epoch: 5, Step: 5800, Train Loss: 2.151e-01, Train Accuracy: 0.875\n",
      "Epoch: 5, Step: 5900, Train Loss: 2.288e-01, Train Accuracy: 0.938\n",
      "Epoch: 5, Step: 6000, Train Loss: 1.387e-01, Train Accuracy: 1.000\n",
      "Epoch: 5, Step: 6100, Train Loss: 1.643e-01, Train Accuracy: 0.938\n",
      "Epoch: 5, Step: 6200, Train Loss: 1.682e-01, Train Accuracy: 0.938\n",
      "Epoch: 5, Step: 6300, Train Loss: 3.755e-01, Train Accuracy: 0.906\n",
      "Epoch: 5, Step: 6400, Train Loss: 1.256e-01, Train Accuracy: 0.969\n",
      "Epoch: 5, Step: 6500, Train Loss: 1.701e-01, Train Accuracy: 0.938\n",
      "Epoch: 5, Step: 6600, Train Loss: 6.167e-02, Train Accuracy: 0.969\n",
      "Epoch: 5, Step: 6700, Train Loss: 1.584e-01, Train Accuracy: 0.969\n",
      "Epoch: 5, Step: 6800, Train Loss: 1.746e-01, Train Accuracy: 0.875\n",
      "epoch: 5\t train_loss: 1.842e-01\t train_accuracy:0.929\t val_loss: 2.373e-01\t val_accuracy:0.908\n"
     ]
    },
    {
     "data": {
      "text/html": [],
      "text/plain": [
       "<IPython.core.display.HTML object>"
      ]
     },
     "metadata": {},
     "output_type": "display_data"
    },
    {
     "data": {
      "text/html": [
       "<br>    <style><br>        .wandb-row {<br>            display: flex;<br>            flex-direction: row;<br>            flex-wrap: wrap;<br>            justify-content: flex-start;<br>            width: 100%;<br>        }<br>        .wandb-col {<br>            display: flex;<br>            flex-direction: column;<br>            flex-basis: 100%;<br>            flex: 1;<br>            padding: 10px;<br>        }<br>    </style><br><div class=\"wandb-row\"><div class=\"wandb-col\"><h3>Run history:</h3><br/><table class=\"wandb\"><tr><td>epoch</td><td>▁▁▁▁▁▃▃▃▃▃▃▃▃▅▅▅▅▅▅▅▅▅▅▆▆▆▆▆▆▆▆█████████</td></tr><tr><td>final_val_accuracy</td><td>▁</td></tr><tr><td>final_val_loss</td><td>▁</td></tr><tr><td>global_step</td><td>▁▁▁▁▂▂▂▂▂▃▃▃▃▃▃▄▄▄▄▄▄▅▅▅▅▅▆▆▆▆▇▇▇▇▇▇████</td></tr><tr><td>train_accuracy</td><td>▁▄▆▇█</td></tr><tr><td>train_accuracy_step</td><td>▆▃▆▇█▃▆▆▅▆▁▆▆▅▁▂▇▇▃▆▅▆▃▅▇▇▆▆▂█▆█▆▃▆▆▅▇▇▃</td></tr><tr><td>train_loss</td><td>█▅▃▂▁</td></tr><tr><td>train_loss_step</td><td>▃▃▂▅▄▄▃▆▄▄▇█▄▃▃▂▄▂▃▆▂▅▂▅▂▆▃▅▃▃▃▁▃▃▄▃▃▃▁▃</td></tr><tr><td>val_accuracy</td><td>▂█▁▃█</td></tr><tr><td>val_loss</td><td>█▁█▃▆</td></tr></table><br/></div><div class=\"wandb-col\"><h3>Run summary:</h3><br/><table class=\"wandb\"><tr><td>epoch</td><td>5</td></tr><tr><td>final_val_accuracy</td><td>0.90845</td></tr><tr><td>final_val_loss</td><td>0.23733</td></tr><tr><td>global_step</td><td>6800</td></tr><tr><td>train_accuracy</td><td>0.92879</td></tr><tr><td>train_accuracy_step</td><td>0.875</td></tr><tr><td>train_loss</td><td>0.18423</td></tr><tr><td>train_loss_step</td><td>0.17457</td></tr><tr><td>val_accuracy</td><td>0.90845</td></tr><tr><td>val_loss</td><td>0.23733</td></tr></table><br/></div></div>"
      ],
      "text/plain": [
       "<IPython.core.display.HTML object>"
      ]
     },
     "metadata": {},
     "output_type": "display_data"
    },
    {
     "data": {
      "text/html": [
       " View run <strong style=\"color:#cdcd00\">noble-armadillo-26</strong> at: <a href='https://wandb.ai/mariamsu-carnegie-mellon-university/clickbait-detection-task2/runs/k5hjb143' target=\"_blank\">https://wandb.ai/mariamsu-carnegie-mellon-university/clickbait-detection-task2/runs/k5hjb143</a><br> View project at: <a href='https://wandb.ai/mariamsu-carnegie-mellon-university/clickbait-detection-task2' target=\"_blank\">https://wandb.ai/mariamsu-carnegie-mellon-university/clickbait-detection-task2</a><br>Synced 5 W&B file(s), 0 media file(s), 0 artifact file(s) and 0 other file(s)"
      ],
      "text/plain": [
       "<IPython.core.display.HTML object>"
      ]
     },
     "metadata": {},
     "output_type": "display_data"
    },
    {
     "data": {
      "text/html": [
       "Find logs at: <code>./wandb/run-20250325_200317-k5hjb143/logs</code>"
      ],
      "text/plain": [
       "<IPython.core.display.HTML object>"
      ]
     },
     "metadata": {},
     "output_type": "display_data"
    },
    {
     "name": "stdout",
     "output_type": "stream",
     "text": [
      "\n",
      "Hyperparameter Tuning Results:\n",
      "------------------------------------------------------------------------------------------------------------------------\n",
      "Config     Hidden Size  Layers   Batch Size   Learning Rate  Weight Decay   Optimizer  Val Accuracy   \n",
      "------------------------------------------------------------------------------------------------------------------------\n",
      "Baseline   128          1        32           0.001          0.0001         Adam       0.8958\n",
      "Config 2   512          3        16           0.0005         0.0001         Adam       0.9083\n",
      "Config 3   256          2        32           2e-05          0.0001         AdamW      0.8894\n",
      "Config 4   128          1        128          0.002          0.0001         Adam       0.9047\n",
      "Config 5   256          2        64           0.0001         0.0001         AdamW      0.8999\n",
      "Config 6   384          2        32           0.0008         0.0001         Adam       0.9085\n",
      "------------------------------------------------------------------------------------------------------------------------\n",
      "Best configuration: Config 6 with validation accuracy: 0.9085\n"
     ]
    }
   ],
   "source": [
    "# Run Task 2: Hyperparameter Tuning\n",
    "# Run all hyperparameter experiments\n",
    "best_model_name = 'answerdotai/ModernBERT-base'\n",
    "tuning_results, best_tuned_model, best_config_idx = run_hyperparameter_tuning(best_model_name, best_tokenizer)\n"
   ]
  },
  {
   "cell_type": "markdown",
   "metadata": {
    "id": "BRhNy0grQ6wb"
   },
   "source": [
    "##  Final Evaluation and Error Analysis\n",
    "\n",
    "\n",
    "1. Train the best model configuration from Task 2 on the combined training and validation data\n",
    "2. Evaluate this final model on the test set\n",
    "3. Generate predictions for the provided held-out test set\n",
    "4. Perform detailed error analysis to understand the model's strengths and weaknesses"
   ]
  },
  {
   "cell_type": "code",
   "execution_count": null,
   "metadata": {
    "execution": {
     "iopub.execute_input": "2025-03-25T20:33:00.938553Z",
     "iopub.status.busy": "2025-03-25T20:33:00.938203Z",
     "iopub.status.idle": "2025-03-25T20:33:00.942960Z",
     "shell.execute_reply": "2025-03-25T20:33:00.941991Z",
     "shell.execute_reply.started": "2025-03-25T20:33:00.938521Z"
    },
    "id": "96RB8U3rQ7gW",
    "trusted": true
   },
   "outputs": [],
   "source": [
    "\n",
    "# Replace parameters with those from  best configuration \n",
    "best_config = {\n",
    "    \"hidden_size\":384 ,   \n",
    "    \"num_layers\": 2,       \n",
    "    \"batch_size\": 32,      \n",
    "    \"optimizer\": \"Adam\",   \n",
    "    \"learning_rate\": 8e-4, \n",
    "    \"weight_decay\": 1e-4,\n",
    "    \"freeze_base\": False,    \n",
    "    \"num_epochs\": 1\n",
    "}"
   ]
  },
  {
   "cell_type": "code",
   "execution_count": 26,
   "metadata": {
    "colab": {
     "base_uri": "https://localhost:8080/"
    },
    "execution": {
     "iopub.execute_input": "2025-03-25T20:33:04.741668Z",
     "iopub.status.busy": "2025-03-25T20:33:04.741318Z",
     "iopub.status.idle": "2025-03-25T20:33:05.034969Z",
     "shell.execute_reply": "2025-03-25T20:33:05.034244Z",
     "shell.execute_reply.started": "2025-03-25T20:33:04.741615Z"
    },
    "id": "3ObMzv9rQ975",
    "outputId": "6817a0b3-5399-4488-d7b8-b06ced1f1a0c",
    "trusted": true
   },
   "outputs": [
    {
     "name": "stdout",
     "output_type": "stream",
     "text": [
      "\n",
      "Training final model with best configuration...\n",
      "Unfroze the last 5 layers out of 22 total layers.\n"
     ]
    }
   ],
   "source": [
    "print(\"\\nTraining final model with best configuration...\")\n",
    "final_model = get_model(\n",
    "    model_name=best_model_name,\n",
    "    num_classes=2,\n",
    "    freeze_base=best_config[\"freeze_base\"],\n",
    "    hidden_size=best_config[\"hidden_size\"],\n",
    "    num_layers=best_config[\"num_layers\"]\n",
    ")"
   ]
  },
  {
   "cell_type": "code",
   "execution_count": 27,
   "metadata": {
    "colab": {
     "base_uri": "https://localhost:8080/"
    },
    "execution": {
     "iopub.execute_input": "2025-03-25T20:33:10.531700Z",
     "iopub.status.busy": "2025-03-25T20:33:10.531393Z",
     "iopub.status.idle": "2025-03-25T20:37:55.140281Z",
     "shell.execute_reply": "2025-03-25T20:37:55.139380Z",
     "shell.execute_reply.started": "2025-03-25T20:33:10.531675Z"
    },
    "id": "8oC0yztqQ_Iw",
    "outputId": "dca22c0e-4f5d-4eef-d138-489357c462b9",
    "trusted": true
   },
   "outputs": [
    {
     "name": "stdout",
     "output_type": "stream",
     "text": [
      "Epoch: 1, Step: 100, Train Loss: 2.865e-01, Train Accuracy: 0.875\n",
      "Epoch: 1, Step: 200, Train Loss: 3.345e-01, Train Accuracy: 0.906\n",
      "Epoch: 1, Step: 300, Train Loss: 3.551e-01, Train Accuracy: 0.875\n",
      "Epoch: 1, Step: 400, Train Loss: 1.288e-01, Train Accuracy: 0.969\n",
      "Epoch: 1, Step: 500, Train Loss: 2.033e-01, Train Accuracy: 0.938\n",
      "Epoch: 1, Step: 600, Train Loss: 1.679e-01, Train Accuracy: 0.938\n",
      "Epoch: 1, Step: 700, Train Loss: 2.392e-01, Train Accuracy: 0.906\n",
      "Epoch: 1, Step: 800, Train Loss: 2.109e-01, Train Accuracy: 0.875\n",
      "Epoch: 1, Step: 900, Train Loss: 2.334e-01, Train Accuracy: 0.906\n",
      "Epoch: 1, Step: 1000, Train Loss: 2.780e-01, Train Accuracy: 0.906\n",
      "Epoch: 1, Step: 1100, Train Loss: 1.648e-01, Train Accuracy: 0.938\n",
      "Epoch: 1, Step: 1200, Train Loss: 2.269e-01, Train Accuracy: 0.938\n",
      "Epoch: 1, Step: 1300, Train Loss: 1.634e-01, Train Accuracy: 0.938\n",
      "epoch: 1\t train_loss: 2.508e-01\t train_accuracy:0.906\t val_loss: 2.308e-01\t val_accuracy:0.905\n"
     ]
    }
   ],
   "source": [
    "final_model, _ = train(\n",
    "    model=final_model,\n",
    "    train_dataset=dataset['train'],\n",
    "    val_dataset=dataset['validation'],\n",
    "    num_epochs=best_config[\"num_epochs\"],\n",
    "    batch_size=best_config[\"batch_size\"],\n",
    "    optimizer_cls=best_config[\"optimizer\"],\n",
    "    lr=best_config[\"learning_rate\"],\n",
    "    weight_decay=best_config[\"weight_decay\"],\n",
    "    device=device,\n",
    "    tokenizer=best_tokenizer,\n",
    "    use_wandb=False\n",
    ")"
   ]
  },
  {
   "cell_type": "code",
   "execution_count": 28,
   "metadata": {
    "colab": {
     "base_uri": "https://localhost:8080/"
    },
    "execution": {
     "iopub.execute_input": "2025-03-25T20:37:55.141814Z",
     "iopub.status.busy": "2025-03-25T20:37:55.141486Z",
     "iopub.status.idle": "2025-03-25T20:38:35.035323Z",
     "shell.execute_reply": "2025-03-25T20:38:35.034536Z",
     "shell.execute_reply.started": "2025-03-25T20:37:55.141789Z"
    },
    "id": "VACMNhsIRApU",
    "outputId": "587c4009-4f06-4442-9a8b-bfadee130141",
    "trusted": true
   },
   "outputs": [
    {
     "name": "stdout",
     "output_type": "stream",
     "text": [
      "\n",
      "Evaluating final model on test set...\n",
      "Test Accuracy: 0.9120\n",
      "Test Loss: 0.2250\n"
     ]
    }
   ],
   "source": [
    "print(\"\\nEvaluating final model on test set...\")\n",
    "test_loss, test_acc, test_preds, test_labels, test_logits = evaluate(\n",
    "    final_model,\n",
    "    dataset['test'],\n",
    "    batch_size=32,\n",
    "    device=device,\n",
    "    tokenizer=best_tokenizer\n",
    ")\n",
    "\n",
    "print(f\"Test Accuracy: {test_acc:.4f}\")\n",
    "print(f\"Test Loss: {test_loss:.4f}\")\n"
   ]
  },
  {
   "cell_type": "code",
   "execution_count": 30,
   "metadata": {
    "colab": {
     "base_uri": "https://localhost:8080/"
    },
    "execution": {
     "iopub.execute_input": "2025-03-25T20:40:44.777726Z",
     "iopub.status.busy": "2025-03-25T20:40:44.777386Z",
     "iopub.status.idle": "2025-03-25T20:41:04.270992Z",
     "shell.execute_reply": "2025-03-25T20:41:04.270120Z",
     "shell.execute_reply.started": "2025-03-25T20:40:44.777700Z"
    },
    "id": "p-nIRJ8eRBx6",
    "outputId": "3e38f307-1b67-41cd-9d40-81dbb331d860",
    "trusted": true
   },
   "outputs": [
    {
     "name": "stdout",
     "output_type": "stream",
     "text": [
      "\n",
      "Found test file: /kaggle/input/second-test-data-dist/second-test-data-DIST.json\n",
      "Generating predictions for the held-out test set...\n",
      "Loaded 882 examples from /kaggle/input/second-test-data-dist/second-test-data-DIST.json\n",
      "Predictions saved to test-results.txt\n",
      "SUCCESS: Created test-results.txt with 882 predictions\n",
      "Sample predictions (first 5): ['0', '1', '1', '1', '1']\n"
     ]
    }
   ],
   "source": [
    "# Generate predictions for the held-out test set (test-DIST.json)\n",
    "test_file_path = '/kaggle/input/second-test-data-dist/second-test-data-DIST.json'\n",
    "if os.path.exists(test_file_path):\n",
    "    print(f\"\\nFound test file: {test_file_path}\")\n",
    "    print(\"Generating predictions for the held-out test set...\")\n",
    "\n",
    "    predict_on_test_set(\n",
    "        model=final_model,\n",
    "        tokenizer=best_tokenizer,\n",
    "        test_file_path=test_file_path,\n",
    "        output_file_path='test-results.txt',\n",
    "        device=device\n",
    "    )\n",
    "\n",
    "    # Verify the test-results.txt file was created successfully\n",
    "    if os.path.exists('test-results.txt'):\n",
    "        with open('test-results.txt', 'r') as f:\n",
    "            predictions = f.read().strip().split('\\n')\n",
    "        print(f\"SUCCESS: Created test-results.txt with {len(predictions)} predictions\")\n",
    "        print(f\"Sample predictions (first 5): {predictions[:5] if len(predictions) >= 5 else predictions}\")\n",
    "    else:\n",
    "        print(\"ERROR: Failed to create test-results.txt. Please check for errors.\")\n",
    "else:\n",
    "    print(f\"\\nERROR: Test file {test_file_path} not found!\")\n",
    "    print(\"You need this file for your submission. Please make sure it's in your working directory.\")\n",
    "    print(\"If you're working in Colab, upload the test-DIST.json file to your session.\")\n"
   ]
  },
  {
   "cell_type": "markdown",
   "metadata": {
    "id": "JY_DXgS3hGLy"
   },
   "source": [
    "## Error Analysis\n"
   ]
  },
  {
   "cell_type": "code",
   "execution_count": null,
   "metadata": {
    "execution": {
     "iopub.execute_input": "2025-03-25T20:41:50.783483Z",
     "iopub.status.busy": "2025-03-25T20:41:50.783177Z",
     "iopub.status.idle": "2025-03-25T20:41:50.787175Z",
     "shell.execute_reply": "2025-03-25T20:41:50.786273Z",
     "shell.execute_reply.started": "2025-03-25T20:41:50.783459Z"
    },
    "id": "GdC2QVXhhIR1",
    "trusted": true
   },
   "outputs": [],
   "source": [
    "#  Look at individual examples in the valid split of the dataset"
   ]
  },
  {
   "cell_type": "code",
   "execution_count": 51,
   "metadata": {
    "execution": {
     "iopub.execute_input": "2025-03-25T21:38:52.396190Z",
     "iopub.status.busy": "2025-03-25T21:38:52.395870Z",
     "iopub.status.idle": "2025-03-25T21:38:52.405536Z",
     "shell.execute_reply": "2025-03-25T21:38:52.404571Z",
     "shell.execute_reply.started": "2025-03-25T21:38:52.396167Z"
    },
    "trusted": true
   },
   "outputs": [],
   "source": [
    "def analyze_validation_examples(model, validation_dataset, device, tokenizer):\n",
    "    \"\"\"\n",
    "    Analyze the model's performance on the validation set,\n",
    "    focusing on misclassified examples and error patterns.\n",
    "    \"\"\"\n",
    "    print(\"Starting error analysis...\")\n",
    "    \n",
    "    #validation examples to work with\n",
    "    val_texts = [data['text'] for data in validation_dataset]\n",
    "    val_labels = [data['label'] for data in validation_dataset]\n",
    "\n",
    "    model.eval()\n",
    "\n",
    "    predictions = []\n",
    "    confidences = []\n",
    "    probabilities = []\n",
    "    \n",
    "    # making predictions on validation set in batches\n",
    "    batch_size = 32\n",
    "    for i in range(0, len(val_texts), batch_size):\n",
    "        batch_texts = val_texts[i:min(i+batch_size, len(val_texts))]\n",
    "        inputs = tokenizer(batch_texts, padding=True, truncation=True, return_tensors=\"pt\")\n",
    "        inputs = {k: v.to(device) for k, v in inputs.items()}\n",
    "        \n",
    "        #  predictions\n",
    "        with torch.no_grad():\n",
    "            outputs = model(**inputs)\n",
    "            probs = torch.nn.functional.softmax(outputs, dim=1)\n",
    "            preds = torch.argmax(probs, dim=1)\n",
    "            conf_values, _ = torch.max(probs, dim=1)\n",
    "        \n",
    "        # results\n",
    "        predictions.extend(preds.cpu().numpy())\n",
    "        confidences.extend(conf_values.cpu().numpy())\n",
    "        probabilities.extend(probs.cpu().numpy())\n",
    "    \n",
    "    # results df\n",
    "    results_df = pd.DataFrame({\n",
    "        \"text\": val_texts,\n",
    "        \"true_label\": val_labels,\n",
    "        \"pred_label\": predictions,\n",
    "        \"confidence\": confidences,\n",
    "        \"prob_class_0\": [p[0] for p in probabilities],\n",
    "        \"prob_class_1\": [p[1] for p in probabilities]\n",
    "    })\n",
    "    # label predictions\n",
    "    results_df[\"correct\"] = results_df[\"true_label\"] == results_df[\"pred_label\"]\n",
    "\n",
    "    # Calculate metrics\n",
    "    accuracy = results_df[\"correct\"].mean()\n",
    "    misclassified = results_df[~results_df[\"correct\"]]\n",
    "    false_positives = misclassified[misclassified[\"pred_label\"] == 1]  # Non-clickbait predicted as clickbait\n",
    "    false_negatives = misclassified[misclassified[\"pred_label\"] == 0]  # Clickbait predicted as non-clickbait\n",
    "    \n",
    "    # Print metrics\n",
    "    print(f\"\\nValidation Metrics:\")\n",
    "    print(f\"Total examples: {len(results_df)}\")\n",
    "    print(f\"Accuracy: {accuracy:.4f}\")\n",
    "    print(f\"Total misclassified: {len(misclassified)} ({len(misclassified)/len(results_df):.4f})\")\n",
    "    print(f\"False positives (Non-clickbait → Clickbait): {len(false_positives)}\")\n",
    "    print(f\"False negatives (Clickbait → Non-clickbait): {len(false_negatives)}\")\n",
    "    \n",
    "    # Confusion matrix\n",
    "    cm = confusion_matrix(results_df[\"true_label\"], results_df[\"pred_label\"])\n",
    "    print(\"\\nConfusion Matrix:\")\n",
    "    print(cm)\n",
    "    \n",
    "    # Classification report\n",
    "    print(\"\\nClassification Report:\")\n",
    "    print(classification_report(results_df[\"true_label\"], results_df[\"pred_label\"]))\n",
    "    \n",
    "    return results_df, misclassified, false_positives, false_negatives"
   ]
  },
  {
   "cell_type": "code",
   "execution_count": 52,
   "metadata": {
    "execution": {
     "iopub.execute_input": "2025-03-25T21:38:53.615084Z",
     "iopub.status.busy": "2025-03-25T21:38:53.614818Z",
     "iopub.status.idle": "2025-03-25T21:39:03.475951Z",
     "shell.execute_reply": "2025-03-25T21:39:03.474959Z",
     "shell.execute_reply.started": "2025-03-25T21:38:53.615064Z"
    },
    "trusted": true
   },
   "outputs": [
    {
     "name": "stdout",
     "output_type": "stream",
     "text": [
      "Starting error analysis...\n",
      "\n",
      "Validation Metrics:\n",
      "Total examples: 2191\n",
      "Accuracy: 0.9014\n",
      "Total misclassified: 216 (0.0986)\n",
      "False positives (Non-clickbait → Clickbait): 71\n",
      "False negatives (Clickbait → Non-clickbait): 145\n",
      "\n",
      "Confusion Matrix:\n",
      "[[1307   71]\n",
      " [ 145  668]]\n",
      "\n",
      "Classification Report:\n",
      "              precision    recall  f1-score   support\n",
      "\n",
      "           0       0.90      0.95      0.92      1378\n",
      "           1       0.90      0.82      0.86       813\n",
      "\n",
      "    accuracy                           0.90      2191\n",
      "   macro avg       0.90      0.89      0.89      2191\n",
      "weighted avg       0.90      0.90      0.90      2191\n",
      "\n"
     ]
    }
   ],
   "source": [
    "results_df, misclassified, false_positives, false_negatives = analyze_validation_examples(\n",
    "    model = best_model, \n",
    "    validation_dataset = dataset['validation'], \n",
    "    device=device, \n",
    "    tokenizer=best_tokenizer)"
   ]
  },
  {
   "cell_type": "code",
   "execution_count": 76,
   "metadata": {
    "execution": {
     "iopub.execute_input": "2025-03-25T22:06:14.109711Z",
     "iopub.status.busy": "2025-03-25T22:06:14.109245Z",
     "iopub.status.idle": "2025-03-25T22:06:14.121606Z",
     "shell.execute_reply": "2025-03-25T22:06:14.120642Z",
     "shell.execute_reply.started": "2025-03-25T22:06:14.109667Z"
    },
    "trusted": true
   },
   "outputs": [],
   "source": [
    "def analyze_error_patterns(results_df, misclassified, false_positives, false_negatives):\n",
    "    \"\"\"\n",
    "    Analyze patterns in misclassified examples\n",
    "    \"\"\"\n",
    "    print(\"\\n\" + \"=\"*50)\n",
    "    print(\"Error Pattern Analysis\")\n",
    "    print(\"=\"*50)\n",
    "    \n",
    "    # text length\n",
    "    results_df[\"char_length\"] = results_df[\"text\"].apply(len)\n",
    "    results_df[\"word_count\"] = results_df[\"text\"].apply(lambda x: len(x.split()))\n",
    "    \n",
    "    #  text length vs errors\n",
    "    print(\"\\nText Length Analysis:\")\n",
    "    correct_word_count = results_df[results_df[\"correct\"]][\"word_count\"].mean()\n",
    "    incorrect_word_count = results_df[~results_df[\"correct\"]][\"word_count\"].mean()\n",
    "    print(f\"Average word count for correct predictions: {correct_word_count:.2f}\")\n",
    "    print(f\"Average word count for incorrect predictions: {incorrect_word_count:.2f}\")\n",
    "    \n",
    "   \n",
    "    # confidence vs errors\n",
    "    print(\"\\nConfidence Analysis:\")\n",
    "    correct_conf = results_df[results_df[\"correct\"]][\"confidence\"].mean()\n",
    "    incorrect_conf = results_df[~results_df[\"correct\"]][\"confidence\"].mean()\n",
    "    print(f\"Average confidence (correct predictions): {correct_conf:.4f}\")\n",
    "    print(f\"Average confidence (incorrect predictions): {incorrect_conf:.4f}\")\n",
    "    \n",
    "    #  high-confidence errors\n",
    "    high_conf_threshold = 0.9\n",
    "    high_conf_errors = misclassified[misclassified[\"confidence\"] >= high_conf_threshold]\n",
    "    # High confidence false positives (non-clickbait predicted as clickbait)\n",
    "    high_conf_fp = high_conf_errors[high_conf_errors[\"pred_label\"] == 1].sort_values(\"confidence\", ascending=False)\n",
    "    \n",
    "    print(f\"\\nHigh Confidence False Positives (Non-clickbait as Clickbait, confidence ≥ {high_conf_threshold}):\")\n",
    "    if len(high_conf_fp) > 0:\n",
    "        for i, row in enumerate(high_conf_fp.head(5).itertuples(), 1):\n",
    "            print(f\"{i}. \\\"{row.text}\\\"\")\n",
    "            print(f\"   Confidence: {row.confidence:.4f}\")\n",
    "    \n",
    "    # High confidence false negatives (clickbait predicted as non-clickbait)\n",
    "    high_conf_fn = high_conf_errors[high_conf_errors[\"pred_label\"] == 0].sort_values(\"confidence\", ascending=False)\n",
    "    \n",
    "    print(f\"\\nHigh Confidence False Negatives (Clickbait as Non-clickbait, confidence ≥ {high_conf_threshold}):\")\n",
    "    if len(high_conf_fn) > 0:\n",
    "        for i, row in enumerate(high_conf_fn.head(5).itertuples(), 1):\n",
    "            print(f\"{i}. \\\"{row.text}\\\"\")\n",
    "            print(f\"   Confidence: {row.confidence:.4f}\")\n",
    "\n",
    "    def extract_words(texts):\n",
    "        words = []\n",
    "        for text in texts:\n",
    "            tokens = re.findall(r'\\b\\w+\\b', text.lower())\n",
    "            words.extend([token for token in tokens if len(token) > 2])  # Filter for very short words\n",
    "        return Counter(words)\n",
    "    \n",
    "    fp_words = extract_words(false_positives[\"text\"])\n",
    "    fn_words = extract_words(false_negatives[\"text\"])\n",
    "    \n",
    "    # common errors\n",
    "    print(\"\\nMost common words in False Positives (Non-clickbait as Clickbait):\")\n",
    "    for word, count in fp_words.most_common(10):\n",
    "        print(f\"  '{word}': {count}\")\n",
    "    \n",
    "    print(\"\\nMost common words in False Negatives (Clickbait as Non-clickbait):\")\n",
    "    for word, count in fn_words.most_common(10):\n",
    "        print(f\"  '{word}': {count}\")\n",
    "\n",
    "        \n",
    "     # word Analysis\n",
    "    results_df[\"first_word\"] = results_df[\"text\"].apply(lambda x: x.split()[0].lower() if len(x.split()) > 0 else \"\")\n",
    "    \n",
    "    # error rates for common starting words\n",
    "    starting_words = Counter(results_df[\"first_word\"])\n",
    "    common_starters = [word for word, count in starting_words.items() if count >= 10]\n",
    "    \n",
    "    starter_error_rates = {}\n",
    "    for word in common_starters:\n",
    "        word_examples = results_df[results_df[\"first_word\"] == word]\n",
    "        error_rate = 1 - word_examples[\"correct\"].mean()\n",
    "        starter_error_rates[word] = (error_rate, len(word_examples))\n",
    "    \n",
    "    # starting words with high error rates\n",
    "    print(\"\\nStarting words with highest error rates:\")\n",
    "    sorted_starters = sorted(starter_error_rates.items(), key=lambda x: x[1][0], reverse=True)\n",
    "    for word, (error_rate, count) in sorted_starters[:5]:\n",
    "        print(f\"  '{word}': {error_rate:.4f} error rate (from {count} examples)\")    \n",
    "    return starter_error_rates"
   ]
  },
  {
   "cell_type": "code",
   "execution_count": 77,
   "metadata": {
    "execution": {
     "iopub.execute_input": "2025-03-25T22:06:14.892963Z",
     "iopub.status.busy": "2025-03-25T22:06:14.892710Z",
     "iopub.status.idle": "2025-03-25T22:06:14.945894Z",
     "shell.execute_reply": "2025-03-25T22:06:14.945129Z",
     "shell.execute_reply.started": "2025-03-25T22:06:14.892942Z"
    },
    "trusted": true
   },
   "outputs": [
    {
     "name": "stdout",
     "output_type": "stream",
     "text": [
      "\n",
      "==================================================\n",
      "Error Pattern Analysis\n",
      "==================================================\n",
      "\n",
      "Text Length Analysis:\n",
      "Average word count for correct predictions: 10.01\n",
      "Average word count for incorrect predictions: 11.24\n",
      "\n",
      "Confidence Analysis:\n",
      "Average confidence (correct predictions): 0.9293\n",
      "Average confidence (incorrect predictions): 0.7798\n",
      "\n",
      "High Confidence False Positives (Non-clickbait as Clickbait, confidence ≥ 0.9):\n",
      "1. \"5 Andra Day Songs You Should Know\"\n",
      "   Confidence: 0.9995\n",
      "2. \"7 Dinners Under $10 You Should Make This Week\"\n",
      "   Confidence: 0.9959\n",
      "3. \"How Bethpage Black Was Mastered (For a Day) By a Club Pro\"\n",
      "   Confidence: 0.9956\n",
      "4. \"How To Beat The DEATH GAME In Funhouse\"\n",
      "   Confidence: 0.9942\n",
      "5. \"Watch This Guy Dynamite A Christmas Tree Just In Time For The Holidays\"\n",
      "   Confidence: 0.9931\n",
      "\n",
      "High Confidence False Negatives (Clickbait as Non-clickbait, confidence ≥ 0.9):\n",
      "1. \"Francois Hollande Will Not Seek Re-Election as French President\"\n",
      "   Confidence: 0.9896\n",
      "2. \"Germany hunts possible accomplices of Berlin suspect, arrests in Tunisia\"\n",
      "   Confidence: 0.9887\n",
      "3. \"California City Passes Unanimous Resolution to Impeach Trump\"\n",
      "   Confidence: 0.9848\n",
      "4. \"England call up Somerset’s Craig Overton as cover for Chris Jordan\"\n",
      "   Confidence: 0.9735\n",
      "5. \"Iraq 'witch hunt' lawyer Phil Shiner could avoid paying debts\"\n",
      "   Confidence: 0.9716\n",
      "\n",
      "Most common words in False Positives (Non-clickbait as Clickbait):\n",
      "  'the': 32\n",
      "  'for': 14\n",
      "  'you': 11\n",
      "  'this': 10\n",
      "  'how': 8\n",
      "  'and': 7\n",
      "  'are': 6\n",
      "  'out': 6\n",
      "  'trump': 5\n",
      "  'just': 5\n",
      "\n",
      "Most common words in False Negatives (Clickbait as Non-clickbait):\n",
      "  'the': 63\n",
      "  'and': 29\n",
      "  'how': 14\n",
      "  'you': 14\n",
      "  'trump': 13\n",
      "  'are': 12\n",
      "  'for': 12\n",
      "  'with': 11\n",
      "  'this': 10\n",
      "  'what': 8\n",
      "\n",
      "Starting words with highest error rates:\n",
      "  'donald': 0.2727 error rate (from 11 examples)\n",
      "  'how': 0.2667 error rate (from 45 examples)\n",
      "  'the': 0.2609 error rate (from 69 examples)\n",
      "  'this': 0.2090 error rate (from 67 examples)\n",
      "  'here's': 0.1579 error rate (from 19 examples)\n"
     ]
    }
   ],
   "source": [
    "starter_error_rates = analyze_error_patterns(results_df, misclassified, false_positives, false_negatives)"
   ]
  }
 ],
 "metadata": {
  "accelerator": "GPU",
  "colab": {
   "gpuType": "T4",
   "provenance": []
  },
  "kaggle": {
   "accelerator": "nvidiaTeslaT4",
   "dataSources": [
    {
     "datasetId": 6965541,
     "sourceId": 11162700,
     "sourceType": "datasetVersion"
    }
   ],
   "dockerImageVersionId": 30919,
   "isGpuEnabled": true,
   "isInternetEnabled": true,
   "language": "python",
   "sourceType": "notebook"
  },
  "kernelspec": {
   "display_name": "Python 3",
   "language": "python",
   "name": "python3"
  },
  "language_info": {
   "codemirror_mode": {
    "name": "ipython",
    "version": 3
   },
   "file_extension": ".py",
   "mimetype": "text/x-python",
   "name": "python",
   "nbconvert_exporter": "python",
   "pygments_lexer": "ipython3",
   "version": "3.10.12"
  },
  "widgets": {
   "application/vnd.jupyter.widget-state+json": {
    "008672ac6a9d4e78afab80bf44b2442f": {
     "model_module": "@jupyter-widgets/base",
     "model_module_version": "1.2.0",
     "model_name": "LayoutModel",
     "state": {
      "_model_module": "@jupyter-widgets/base",
      "_model_module_version": "1.2.0",
      "_model_name": "LayoutModel",
      "_view_count": null,
      "_view_module": "@jupyter-widgets/base",
      "_view_module_version": "1.2.0",
      "_view_name": "LayoutView",
      "align_content": null,
      "align_items": null,
      "align_self": null,
      "border": null,
      "bottom": null,
      "display": null,
      "flex": null,
      "flex_flow": null,
      "grid_area": null,
      "grid_auto_columns": null,
      "grid_auto_flow": null,
      "grid_auto_rows": null,
      "grid_column": null,
      "grid_gap": null,
      "grid_row": null,
      "grid_template_areas": null,
      "grid_template_columns": null,
      "grid_template_rows": null,
      "height": null,
      "justify_content": null,
      "justify_items": null,
      "left": null,
      "margin": null,
      "max_height": null,
      "max_width": null,
      "min_height": null,
      "min_width": null,
      "object_fit": null,
      "object_position": null,
      "order": null,
      "overflow": null,
      "overflow_x": null,
      "overflow_y": null,
      "padding": null,
      "right": null,
      "top": null,
      "visibility": null,
      "width": null
     }
    },
    "00f08fe241674ed48ca28e5d00689b35": {
     "model_module": "@jupyter-widgets/controls",
     "model_module_version": "1.5.0",
     "model_name": "HTMLModel",
     "state": {
      "_dom_classes": [],
      "_model_module": "@jupyter-widgets/controls",
      "_model_module_version": "1.5.0",
      "_model_name": "HTMLModel",
      "_view_count": null,
      "_view_module": "@jupyter-widgets/controls",
      "_view_module_version": "1.5.0",
      "_view_name": "HTMLView",
      "description": "",
      "description_tooltip": null,
      "layout": "IPY_MODEL_ca08723129f24f669014da1fe0257385",
      "placeholder": "​",
      "style": "IPY_MODEL_71652e187dea48f49f8007ea7ce37b35",
      "value": "tokenizer_config.json: 100%"
     }
    },
    "017e7bba46da457d860080999de49695": {
     "model_module": "@jupyter-widgets/base",
     "model_module_version": "1.2.0",
     "model_name": "LayoutModel",
     "state": {
      "_model_module": "@jupyter-widgets/base",
      "_model_module_version": "1.2.0",
      "_model_name": "LayoutModel",
      "_view_count": null,
      "_view_module": "@jupyter-widgets/base",
      "_view_module_version": "1.2.0",
      "_view_name": "LayoutView",
      "align_content": null,
      "align_items": null,
      "align_self": null,
      "border": null,
      "bottom": null,
      "display": null,
      "flex": null,
      "flex_flow": null,
      "grid_area": null,
      "grid_auto_columns": null,
      "grid_auto_flow": null,
      "grid_auto_rows": null,
      "grid_column": null,
      "grid_gap": null,
      "grid_row": null,
      "grid_template_areas": null,
      "grid_template_columns": null,
      "grid_template_rows": null,
      "height": null,
      "justify_content": null,
      "justify_items": null,
      "left": null,
      "margin": null,
      "max_height": null,
      "max_width": null,
      "min_height": null,
      "min_width": null,
      "object_fit": null,
      "object_position": null,
      "order": null,
      "overflow": null,
      "overflow_x": null,
      "overflow_y": null,
      "padding": null,
      "right": null,
      "top": null,
      "visibility": null,
      "width": null
     }
    },
    "02ce2e218d844ece840d9b3208987c68": {
     "model_module": "@jupyter-widgets/controls",
     "model_module_version": "1.5.0",
     "model_name": "ProgressStyleModel",
     "state": {
      "_model_module": "@jupyter-widgets/controls",
      "_model_module_version": "1.5.0",
      "_model_name": "ProgressStyleModel",
      "_view_count": null,
      "_view_module": "@jupyter-widgets/base",
      "_view_module_version": "1.2.0",
      "_view_name": "StyleView",
      "bar_color": null,
      "description_width": ""
     }
    },
    "037162f41603447b9550b9b1b96e3a65": {
     "model_module": "@jupyter-widgets/base",
     "model_module_version": "1.2.0",
     "model_name": "LayoutModel",
     "state": {
      "_model_module": "@jupyter-widgets/base",
      "_model_module_version": "1.2.0",
      "_model_name": "LayoutModel",
      "_view_count": null,
      "_view_module": "@jupyter-widgets/base",
      "_view_module_version": "1.2.0",
      "_view_name": "LayoutView",
      "align_content": null,
      "align_items": null,
      "align_self": null,
      "border": null,
      "bottom": null,
      "display": null,
      "flex": null,
      "flex_flow": null,
      "grid_area": null,
      "grid_auto_columns": null,
      "grid_auto_flow": null,
      "grid_auto_rows": null,
      "grid_column": null,
      "grid_gap": null,
      "grid_row": null,
      "grid_template_areas": null,
      "grid_template_columns": null,
      "grid_template_rows": null,
      "height": null,
      "justify_content": null,
      "justify_items": null,
      "left": null,
      "margin": null,
      "max_height": null,
      "max_width": null,
      "min_height": null,
      "min_width": null,
      "object_fit": null,
      "object_position": null,
      "order": null,
      "overflow": null,
      "overflow_x": null,
      "overflow_y": null,
      "padding": null,
      "right": null,
      "top": null,
      "visibility": null,
      "width": null
     }
    },
    "0600275b4f064c25a26c89b1a4b913f2": {
     "model_module": "@jupyter-widgets/controls",
     "model_module_version": "1.5.0",
     "model_name": "FloatProgressModel",
     "state": {
      "_dom_classes": [],
      "_model_module": "@jupyter-widgets/controls",
      "_model_module_version": "1.5.0",
      "_model_name": "FloatProgressModel",
      "_view_count": null,
      "_view_module": "@jupyter-widgets/controls",
      "_view_module_version": "1.5.0",
      "_view_name": "ProgressView",
      "bar_style": "success",
      "description": "",
      "description_tooltip": null,
      "layout": "IPY_MODEL_c24490c70ef44daa93150a1c631425c6",
      "max": 48,
      "min": 0,
      "orientation": "horizontal",
      "style": "IPY_MODEL_382a095f96534a02a61051d4dce5a215",
      "value": 48
     }
    },
    "06a9246f0d8e484b91930febf012f524": {
     "model_module": "@jupyter-widgets/controls",
     "model_module_version": "1.5.0",
     "model_name": "ProgressStyleModel",
     "state": {
      "_model_module": "@jupyter-widgets/controls",
      "_model_module_version": "1.5.0",
      "_model_name": "ProgressStyleModel",
      "_view_count": null,
      "_view_module": "@jupyter-widgets/base",
      "_view_module_version": "1.2.0",
      "_view_name": "StyleView",
      "bar_color": null,
      "description_width": ""
     }
    },
    "099b9f61f624424b90c1a64a0d8a4d9c": {
     "model_module": "@jupyter-widgets/controls",
     "model_module_version": "1.5.0",
     "model_name": "HBoxModel",
     "state": {
      "_dom_classes": [],
      "_model_module": "@jupyter-widgets/controls",
      "_model_module_version": "1.5.0",
      "_model_name": "HBoxModel",
      "_view_count": null,
      "_view_module": "@jupyter-widgets/controls",
      "_view_module_version": "1.5.0",
      "_view_name": "HBoxView",
      "box_style": "",
      "children": [
       "IPY_MODEL_00f08fe241674ed48ca28e5d00689b35",
       "IPY_MODEL_c7c4cd29497c4794a342b6ac8032436a",
       "IPY_MODEL_96612e5fef6a4d3eb00fc62b9d1b78b5"
      ],
      "layout": "IPY_MODEL_d163029990fe4b89a60356d97e1b4355"
     }
    },
    "0abc54c65ca449c19a59943727f851d0": {
     "model_module": "@jupyter-widgets/controls",
     "model_module_version": "1.5.0",
     "model_name": "DescriptionStyleModel",
     "state": {
      "_model_module": "@jupyter-widgets/controls",
      "_model_module_version": "1.5.0",
      "_model_name": "DescriptionStyleModel",
      "_view_count": null,
      "_view_module": "@jupyter-widgets/base",
      "_view_module_version": "1.2.0",
      "_view_name": "StyleView",
      "description_width": ""
     }
    },
    "0c2fea2ddea04acb897c601e620f0e11": {
     "model_module": "@jupyter-widgets/controls",
     "model_module_version": "1.5.0",
     "model_name": "HTMLModel",
     "state": {
      "_dom_classes": [],
      "_model_module": "@jupyter-widgets/controls",
      "_model_module_version": "1.5.0",
      "_model_name": "HTMLModel",
      "_view_count": null,
      "_view_module": "@jupyter-widgets/controls",
      "_view_module_version": "1.5.0",
      "_view_name": "HTMLView",
      "description": "",
      "description_tooltip": null,
      "layout": "IPY_MODEL_3ad6be26f8bd4a71adaae956c4fd973e",
      "placeholder": "​",
      "style": "IPY_MODEL_0fd4465292014a1da30d8f1f09c06513",
      "value": "special_tokens_map.json: 100%"
     }
    },
    "0eb655d2910b4f52b9ddc4e91e9bedc5": {
     "model_module": "@jupyter-widgets/controls",
     "model_module_version": "1.5.0",
     "model_name": "HTMLModel",
     "state": {
      "_dom_classes": [],
      "_model_module": "@jupyter-widgets/controls",
      "_model_module_version": "1.5.0",
      "_model_name": "HTMLModel",
      "_view_count": null,
      "_view_module": "@jupyter-widgets/controls",
      "_view_module_version": "1.5.0",
      "_view_name": "HTMLView",
      "description": "",
      "description_tooltip": null,
      "layout": "IPY_MODEL_f1da9c6395a3433bae47427ded3e7f46",
      "placeholder": "​",
      "style": "IPY_MODEL_5146e2db496b4748af249da3da2d34f5",
      "value": "vocab.txt: 100%"
     }
    },
    "0fd4465292014a1da30d8f1f09c06513": {
     "model_module": "@jupyter-widgets/controls",
     "model_module_version": "1.5.0",
     "model_name": "DescriptionStyleModel",
     "state": {
      "_model_module": "@jupyter-widgets/controls",
      "_model_module_version": "1.5.0",
      "_model_name": "DescriptionStyleModel",
      "_view_count": null,
      "_view_module": "@jupyter-widgets/base",
      "_view_module_version": "1.2.0",
      "_view_name": "StyleView",
      "description_width": ""
     }
    },
    "114dabdc0f454d588c761bcb510cd755": {
     "model_module": "@jupyter-widgets/controls",
     "model_module_version": "1.5.0",
     "model_name": "HTMLModel",
     "state": {
      "_dom_classes": [],
      "_model_module": "@jupyter-widgets/controls",
      "_model_module_version": "1.5.0",
      "_model_name": "HTMLModel",
      "_view_count": null,
      "_view_module": "@jupyter-widgets/controls",
      "_view_module_version": "1.5.0",
      "_view_name": "HTMLView",
      "description": "",
      "description_tooltip": null,
      "layout": "IPY_MODEL_2414f5afd8904da18d777e293fea4a72",
      "placeholder": "​",
      "style": "IPY_MODEL_387ba33895fc4342a310f203927a13fd",
      "value": " 43802/0 [00:01&lt;00:00, 31441.39 examples/s]"
     }
    },
    "133e3c746b664f9b81753e3a62758034": {
     "model_module": "@jupyter-widgets/controls",
     "model_module_version": "1.5.0",
     "model_name": "FloatProgressModel",
     "state": {
      "_dom_classes": [],
      "_model_module": "@jupyter-widgets/controls",
      "_model_module_version": "1.5.0",
      "_model_name": "FloatProgressModel",
      "_view_count": null,
      "_view_module": "@jupyter-widgets/controls",
      "_view_module_version": "1.5.0",
      "_view_name": "ProgressView",
      "bar_style": "success",
      "description": "",
      "description_tooltip": null,
      "layout": "IPY_MODEL_ab64944607bc4243a4133f9a3f55ae98",
      "max": 3700421,
      "min": 0,
      "orientation": "horizontal",
      "style": "IPY_MODEL_c4e1b9767b624bd1816e9dbe156ed4ab",
      "value": 3700421
     }
    },
    "17d6bd6d71f44a3ba3fcf99c066400cc": {
     "model_module": "@jupyter-widgets/controls",
     "model_module_version": "1.5.0",
     "model_name": "HBoxModel",
     "state": {
      "_dom_classes": [],
      "_model_module": "@jupyter-widgets/controls",
      "_model_module_version": "1.5.0",
      "_model_name": "HBoxModel",
      "_view_count": null,
      "_view_module": "@jupyter-widgets/controls",
      "_view_module_version": "1.5.0",
      "_view_name": "HBoxView",
      "box_style": "",
      "children": [
       "IPY_MODEL_36cd41a2a04a49039ee5600f2f482513",
       "IPY_MODEL_cf6ec8c453e24672827600dac6587394",
       "IPY_MODEL_526be292e3b045048652d238c928e8b5"
      ],
      "layout": "IPY_MODEL_bd30b3dea8bf46ca9fc8c903e0eab588"
     }
    },
    "1bd0babf00f5463ebb00cf74b45cc06f": {
     "model_module": "@jupyter-widgets/controls",
     "model_module_version": "1.5.0",
     "model_name": "HBoxModel",
     "state": {
      "_dom_classes": [],
      "_model_module": "@jupyter-widgets/controls",
      "_model_module_version": "1.5.0",
      "_model_name": "HBoxModel",
      "_view_count": null,
      "_view_module": "@jupyter-widgets/controls",
      "_view_module_version": "1.5.0",
      "_view_name": "HBoxView",
      "box_style": "",
      "children": [
       "IPY_MODEL_cfb452ae6d9b471a9abc0d7cf3485665",
       "IPY_MODEL_72dd50ca0d36459684c1bb72ceffd6c7",
       "IPY_MODEL_55a948f6569b45238711d88b5cce963e"
      ],
      "layout": "IPY_MODEL_e81dbfb2bb3b4fb0907543940e402303"
     }
    },
    "1e299faae87147bbaa24c5e81acbcf7e": {
     "model_module": "@jupyter-widgets/controls",
     "model_module_version": "1.5.0",
     "model_name": "DescriptionStyleModel",
     "state": {
      "_model_module": "@jupyter-widgets/controls",
      "_model_module_version": "1.5.0",
      "_model_name": "DescriptionStyleModel",
      "_view_count": null,
      "_view_module": "@jupyter-widgets/base",
      "_view_module_version": "1.2.0",
      "_view_name": "StyleView",
      "description_width": ""
     }
    },
    "1ef603e7aee74242ad090627535bc753": {
     "model_module": "@jupyter-widgets/controls",
     "model_module_version": "1.5.0",
     "model_name": "ProgressStyleModel",
     "state": {
      "_model_module": "@jupyter-widgets/controls",
      "_model_module_version": "1.5.0",
      "_model_name": "ProgressStyleModel",
      "_view_count": null,
      "_view_module": "@jupyter-widgets/base",
      "_view_module_version": "1.2.0",
      "_view_name": "StyleView",
      "bar_color": null,
      "description_width": ""
     }
    },
    "1f5a13e2ab3e4be6bb162b39690f17ff": {
     "model_module": "@jupyter-widgets/base",
     "model_module_version": "1.2.0",
     "model_name": "LayoutModel",
     "state": {
      "_model_module": "@jupyter-widgets/base",
      "_model_module_version": "1.2.0",
      "_model_name": "LayoutModel",
      "_view_count": null,
      "_view_module": "@jupyter-widgets/base",
      "_view_module_version": "1.2.0",
      "_view_name": "LayoutView",
      "align_content": null,
      "align_items": null,
      "align_self": null,
      "border": null,
      "bottom": null,
      "display": null,
      "flex": null,
      "flex_flow": null,
      "grid_area": null,
      "grid_auto_columns": null,
      "grid_auto_flow": null,
      "grid_auto_rows": null,
      "grid_column": null,
      "grid_gap": null,
      "grid_row": null,
      "grid_template_areas": null,
      "grid_template_columns": null,
      "grid_template_rows": null,
      "height": null,
      "justify_content": null,
      "justify_items": null,
      "left": null,
      "margin": null,
      "max_height": null,
      "max_width": null,
      "min_height": null,
      "min_width": null,
      "object_fit": null,
      "object_position": null,
      "order": null,
      "overflow": null,
      "overflow_x": null,
      "overflow_y": null,
      "padding": null,
      "right": null,
      "top": null,
      "visibility": null,
      "width": null
     }
    },
    "20fa2d6111214d0b8383aa5f812775bc": {
     "model_module": "@jupyter-widgets/base",
     "model_module_version": "1.2.0",
     "model_name": "LayoutModel",
     "state": {
      "_model_module": "@jupyter-widgets/base",
      "_model_module_version": "1.2.0",
      "_model_name": "LayoutModel",
      "_view_count": null,
      "_view_module": "@jupyter-widgets/base",
      "_view_module_version": "1.2.0",
      "_view_name": "LayoutView",
      "align_content": null,
      "align_items": null,
      "align_self": null,
      "border": null,
      "bottom": null,
      "display": null,
      "flex": null,
      "flex_flow": null,
      "grid_area": null,
      "grid_auto_columns": null,
      "grid_auto_flow": null,
      "grid_auto_rows": null,
      "grid_column": null,
      "grid_gap": null,
      "grid_row": null,
      "grid_template_areas": null,
      "grid_template_columns": null,
      "grid_template_rows": null,
      "height": null,
      "justify_content": null,
      "justify_items": null,
      "left": null,
      "margin": null,
      "max_height": null,
      "max_width": null,
      "min_height": null,
      "min_width": null,
      "object_fit": null,
      "object_position": null,
      "order": null,
      "overflow": null,
      "overflow_x": null,
      "overflow_y": null,
      "padding": null,
      "right": null,
      "top": null,
      "visibility": null,
      "width": null
     }
    },
    "21f3bf3b1f0f4f7ba7b91e89c56446b9": {
     "model_module": "@jupyter-widgets/controls",
     "model_module_version": "1.5.0",
     "model_name": "DescriptionStyleModel",
     "state": {
      "_model_module": "@jupyter-widgets/controls",
      "_model_module_version": "1.5.0",
      "_model_name": "DescriptionStyleModel",
      "_view_count": null,
      "_view_module": "@jupyter-widgets/base",
      "_view_module_version": "1.2.0",
      "_view_name": "StyleView",
      "description_width": ""
     }
    },
    "2306eb629027425eb7b053227b4aaebb": {
     "model_module": "@jupyter-widgets/controls",
     "model_module_version": "1.5.0",
     "model_name": "DescriptionStyleModel",
     "state": {
      "_model_module": "@jupyter-widgets/controls",
      "_model_module_version": "1.5.0",
      "_model_name": "DescriptionStyleModel",
      "_view_count": null,
      "_view_module": "@jupyter-widgets/base",
      "_view_module_version": "1.2.0",
      "_view_name": "StyleView",
      "description_width": ""
     }
    },
    "23c07f6db3ea4f4bb2ea44d18799e2f4": {
     "model_module": "@jupyter-widgets/controls",
     "model_module_version": "1.5.0",
     "model_name": "HBoxModel",
     "state": {
      "_dom_classes": [],
      "_model_module": "@jupyter-widgets/controls",
      "_model_module_version": "1.5.0",
      "_model_name": "HBoxModel",
      "_view_count": null,
      "_view_module": "@jupyter-widgets/controls",
      "_view_module_version": "1.5.0",
      "_view_name": "HBoxView",
      "box_style": "",
      "children": [
       "IPY_MODEL_2516bb608316429f90c0739abd43dbec",
       "IPY_MODEL_61746c2c66414231ab924ba0ecead398",
       "IPY_MODEL_4ef0524bd8384cffabf484c3d9f073f3"
      ],
      "layout": "IPY_MODEL_52bd2752fdca48aa93aa9cc635a3bcd3"
     }
    },
    "2414f5afd8904da18d777e293fea4a72": {
     "model_module": "@jupyter-widgets/base",
     "model_module_version": "1.2.0",
     "model_name": "LayoutModel",
     "state": {
      "_model_module": "@jupyter-widgets/base",
      "_model_module_version": "1.2.0",
      "_model_name": "LayoutModel",
      "_view_count": null,
      "_view_module": "@jupyter-widgets/base",
      "_view_module_version": "1.2.0",
      "_view_name": "LayoutView",
      "align_content": null,
      "align_items": null,
      "align_self": null,
      "border": null,
      "bottom": null,
      "display": null,
      "flex": null,
      "flex_flow": null,
      "grid_area": null,
      "grid_auto_columns": null,
      "grid_auto_flow": null,
      "grid_auto_rows": null,
      "grid_column": null,
      "grid_gap": null,
      "grid_row": null,
      "grid_template_areas": null,
      "grid_template_columns": null,
      "grid_template_rows": null,
      "height": null,
      "justify_content": null,
      "justify_items": null,
      "left": null,
      "margin": null,
      "max_height": null,
      "max_width": null,
      "min_height": null,
      "min_width": null,
      "object_fit": null,
      "object_position": null,
      "order": null,
      "overflow": null,
      "overflow_x": null,
      "overflow_y": null,
      "padding": null,
      "right": null,
      "top": null,
      "visibility": null,
      "width": null
     }
    },
    "2516bb608316429f90c0739abd43dbec": {
     "model_module": "@jupyter-widgets/controls",
     "model_module_version": "1.5.0",
     "model_name": "HTMLModel",
     "state": {
      "_dom_classes": [],
      "_model_module": "@jupyter-widgets/controls",
      "_model_module_version": "1.5.0",
      "_model_name": "HTMLModel",
      "_view_count": null,
      "_view_module": "@jupyter-widgets/controls",
      "_view_module_version": "1.5.0",
      "_view_name": "HTMLView",
      "description": "",
      "description_tooltip": null,
      "layout": "IPY_MODEL_89b2bca3190a4d4195f7d6d8d0592f05",
      "placeholder": "​",
      "style": "IPY_MODEL_636247feb56a4ae9aa84b1f8fe482210",
      "value": "Generating validation split: "
     }
    },
    "26f8304fa8d046d3b0f2463fd618c895": {
     "model_module": "@jupyter-widgets/controls",
     "model_module_version": "1.5.0",
     "model_name": "FloatProgressModel",
     "state": {
      "_dom_classes": [],
      "_model_module": "@jupyter-widgets/controls",
      "_model_module_version": "1.5.0",
      "_model_name": "FloatProgressModel",
      "_view_count": null,
      "_view_module": "@jupyter-widgets/controls",
      "_view_module_version": "1.5.0",
      "_view_name": "ProgressView",
      "bar_style": "success",
      "description": "",
      "description_tooltip": null,
      "layout": "IPY_MODEL_80c1b1b5f75b4f819c82ade6fe73806b",
      "max": 1,
      "min": 0,
      "orientation": "horizontal",
      "style": "IPY_MODEL_f37364d906094d9baf9b4f29e3655896",
      "value": 1
     }
    },
    "28774e7344674fe3a0af31c17bd948b2": {
     "model_module": "@jupyter-widgets/base",
     "model_module_version": "1.2.0",
     "model_name": "LayoutModel",
     "state": {
      "_model_module": "@jupyter-widgets/base",
      "_model_module_version": "1.2.0",
      "_model_name": "LayoutModel",
      "_view_count": null,
      "_view_module": "@jupyter-widgets/base",
      "_view_module_version": "1.2.0",
      "_view_name": "LayoutView",
      "align_content": null,
      "align_items": null,
      "align_self": null,
      "border": null,
      "bottom": null,
      "display": null,
      "flex": null,
      "flex_flow": null,
      "grid_area": null,
      "grid_auto_columns": null,
      "grid_auto_flow": null,
      "grid_auto_rows": null,
      "grid_column": null,
      "grid_gap": null,
      "grid_row": null,
      "grid_template_areas": null,
      "grid_template_columns": null,
      "grid_template_rows": null,
      "height": null,
      "justify_content": null,
      "justify_items": null,
      "left": null,
      "margin": null,
      "max_height": null,
      "max_width": null,
      "min_height": null,
      "min_width": null,
      "object_fit": null,
      "object_position": null,
      "order": null,
      "overflow": null,
      "overflow_x": null,
      "overflow_y": null,
      "padding": null,
      "right": null,
      "top": null,
      "visibility": null,
      "width": null
     }
    },
    "2b32037eb3084c9890b9c3000ef0c0ba": {
     "model_module": "@jupyter-widgets/controls",
     "model_module_version": "1.5.0",
     "model_name": "ProgressStyleModel",
     "state": {
      "_model_module": "@jupyter-widgets/controls",
      "_model_module_version": "1.5.0",
      "_model_name": "ProgressStyleModel",
      "_view_count": null,
      "_view_module": "@jupyter-widgets/base",
      "_view_module_version": "1.2.0",
      "_view_name": "StyleView",
      "bar_color": null,
      "description_width": ""
     }
    },
    "2d1c7807355443449d7cf79fbdcc0277": {
     "model_module": "@jupyter-widgets/base",
     "model_module_version": "1.2.0",
     "model_name": "LayoutModel",
     "state": {
      "_model_module": "@jupyter-widgets/base",
      "_model_module_version": "1.2.0",
      "_model_name": "LayoutModel",
      "_view_count": null,
      "_view_module": "@jupyter-widgets/base",
      "_view_module_version": "1.2.0",
      "_view_name": "LayoutView",
      "align_content": null,
      "align_items": null,
      "align_self": null,
      "border": null,
      "bottom": null,
      "display": null,
      "flex": null,
      "flex_flow": null,
      "grid_area": null,
      "grid_auto_columns": null,
      "grid_auto_flow": null,
      "grid_auto_rows": null,
      "grid_column": null,
      "grid_gap": null,
      "grid_row": null,
      "grid_template_areas": null,
      "grid_template_columns": null,
      "grid_template_rows": null,
      "height": null,
      "justify_content": null,
      "justify_items": null,
      "left": null,
      "margin": null,
      "max_height": null,
      "max_width": null,
      "min_height": null,
      "min_width": null,
      "object_fit": null,
      "object_position": null,
      "order": null,
      "overflow": null,
      "overflow_x": null,
      "overflow_y": null,
      "padding": null,
      "right": null,
      "top": null,
      "visibility": null,
      "width": null
     }
    },
    "31e380856fc543989b76d8a31caa91e4": {
     "model_module": "@jupyter-widgets/base",
     "model_module_version": "1.2.0",
     "model_name": "LayoutModel",
     "state": {
      "_model_module": "@jupyter-widgets/base",
      "_model_module_version": "1.2.0",
      "_model_name": "LayoutModel",
      "_view_count": null,
      "_view_module": "@jupyter-widgets/base",
      "_view_module_version": "1.2.0",
      "_view_name": "LayoutView",
      "align_content": null,
      "align_items": null,
      "align_self": null,
      "border": null,
      "bottom": null,
      "display": null,
      "flex": null,
      "flex_flow": null,
      "grid_area": null,
      "grid_auto_columns": null,
      "grid_auto_flow": null,
      "grid_auto_rows": null,
      "grid_column": null,
      "grid_gap": null,
      "grid_row": null,
      "grid_template_areas": null,
      "grid_template_columns": null,
      "grid_template_rows": null,
      "height": null,
      "justify_content": null,
      "justify_items": null,
      "left": null,
      "margin": null,
      "max_height": null,
      "max_width": null,
      "min_height": null,
      "min_width": null,
      "object_fit": null,
      "object_position": null,
      "order": null,
      "overflow": null,
      "overflow_x": null,
      "overflow_y": null,
      "padding": null,
      "right": null,
      "top": null,
      "visibility": null,
      "width": null
     }
    },
    "357ed72e26ee4fecbe029925f6dc6679": {
     "model_module": "@jupyter-widgets/controls",
     "model_module_version": "1.5.0",
     "model_name": "HTMLModel",
     "state": {
      "_dom_classes": [],
      "_model_module": "@jupyter-widgets/controls",
      "_model_module_version": "1.5.0",
      "_model_name": "HTMLModel",
      "_view_count": null,
      "_view_module": "@jupyter-widgets/controls",
      "_view_module_version": "1.5.0",
      "_view_name": "HTMLView",
      "description": "",
      "description_tooltip": null,
      "layout": "IPY_MODEL_aa7ad2eb60564b9ebb1c6f227c2bed4d",
      "placeholder": "​",
      "style": "IPY_MODEL_601b495947e34751967d25ab1f0c32fc",
      "value": " 694/694 [00:00&lt;00:00, 27.5kB/s]"
     }
    },
    "36cd41a2a04a49039ee5600f2f482513": {
     "model_module": "@jupyter-widgets/controls",
     "model_module_version": "1.5.0",
     "model_name": "HTMLModel",
     "state": {
      "_dom_classes": [],
      "_model_module": "@jupyter-widgets/controls",
      "_model_module_version": "1.5.0",
      "_model_name": "HTMLModel",
      "_view_count": null,
      "_view_module": "@jupyter-widgets/controls",
      "_view_module_version": "1.5.0",
      "_view_name": "HTMLView",
      "description": "",
      "description_tooltip": null,
      "layout": "IPY_MODEL_8a3dc51a297e4ebcae50df737d365317",
      "placeholder": "​",
      "style": "IPY_MODEL_7ab28f3f76f642df92b709af0ce576dd",
      "value": "README.md: 100%"
     }
    },
    "3761298940d54f7ab18604b2bab1ae56": {
     "model_module": "@jupyter-widgets/controls",
     "model_module_version": "1.5.0",
     "model_name": "DescriptionStyleModel",
     "state": {
      "_model_module": "@jupyter-widgets/controls",
      "_model_module_version": "1.5.0",
      "_model_name": "DescriptionStyleModel",
      "_view_count": null,
      "_view_module": "@jupyter-widgets/base",
      "_view_module_version": "1.2.0",
      "_view_name": "StyleView",
      "description_width": ""
     }
    },
    "382a095f96534a02a61051d4dce5a215": {
     "model_module": "@jupyter-widgets/controls",
     "model_module_version": "1.5.0",
     "model_name": "ProgressStyleModel",
     "state": {
      "_model_module": "@jupyter-widgets/controls",
      "_model_module_version": "1.5.0",
      "_model_name": "ProgressStyleModel",
      "_view_count": null,
      "_view_module": "@jupyter-widgets/base",
      "_view_module_version": "1.2.0",
      "_view_name": "StyleView",
      "bar_color": null,
      "description_width": ""
     }
    },
    "387ba33895fc4342a310f203927a13fd": {
     "model_module": "@jupyter-widgets/controls",
     "model_module_version": "1.5.0",
     "model_name": "DescriptionStyleModel",
     "state": {
      "_model_module": "@jupyter-widgets/controls",
      "_model_module_version": "1.5.0",
      "_model_name": "DescriptionStyleModel",
      "_view_count": null,
      "_view_module": "@jupyter-widgets/base",
      "_view_module_version": "1.2.0",
      "_view_name": "StyleView",
      "description_width": ""
     }
    },
    "39c61765003241e0855e94e4621106f0": {
     "model_module": "@jupyter-widgets/controls",
     "model_module_version": "1.5.0",
     "model_name": "HTMLModel",
     "state": {
      "_dom_classes": [],
      "_model_module": "@jupyter-widgets/controls",
      "_model_module_version": "1.5.0",
      "_model_name": "HTMLModel",
      "_view_count": null,
      "_view_module": "@jupyter-widgets/controls",
      "_view_module_version": "1.5.0",
      "_view_name": "HTMLView",
      "description": "",
      "description_tooltip": null,
      "layout": "IPY_MODEL_8eda94d059b645aab921dee4ffbb0571",
      "placeholder": "​",
      "style": "IPY_MODEL_3761298940d54f7ab18604b2bab1ae56",
      "value": " 466k/466k [00:00&lt;00:00, 9.22MB/s]"
     }
    },
    "3ad6be26f8bd4a71adaae956c4fd973e": {
     "model_module": "@jupyter-widgets/base",
     "model_module_version": "1.2.0",
     "model_name": "LayoutModel",
     "state": {
      "_model_module": "@jupyter-widgets/base",
      "_model_module_version": "1.2.0",
      "_model_name": "LayoutModel",
      "_view_count": null,
      "_view_module": "@jupyter-widgets/base",
      "_view_module_version": "1.2.0",
      "_view_name": "LayoutView",
      "align_content": null,
      "align_items": null,
      "align_self": null,
      "border": null,
      "bottom": null,
      "display": null,
      "flex": null,
      "flex_flow": null,
      "grid_area": null,
      "grid_auto_columns": null,
      "grid_auto_flow": null,
      "grid_auto_rows": null,
      "grid_column": null,
      "grid_gap": null,
      "grid_row": null,
      "grid_template_areas": null,
      "grid_template_columns": null,
      "grid_template_rows": null,
      "height": null,
      "justify_content": null,
      "justify_items": null,
      "left": null,
      "margin": null,
      "max_height": null,
      "max_width": null,
      "min_height": null,
      "min_width": null,
      "object_fit": null,
      "object_position": null,
      "order": null,
      "overflow": null,
      "overflow_x": null,
      "overflow_y": null,
      "padding": null,
      "right": null,
      "top": null,
      "visibility": null,
      "width": null
     }
    },
    "3b172789a530421f8757fc1c571762a6": {
     "model_module": "@jupyter-widgets/controls",
     "model_module_version": "1.5.0",
     "model_name": "HTMLModel",
     "state": {
      "_dom_classes": [],
      "_model_module": "@jupyter-widgets/controls",
      "_model_module_version": "1.5.0",
      "_model_name": "HTMLModel",
      "_view_count": null,
      "_view_module": "@jupyter-widgets/controls",
      "_view_module_version": "1.5.0",
      "_view_name": "HTMLView",
      "description": "",
      "description_tooltip": null,
      "layout": "IPY_MODEL_017e7bba46da457d860080999de49695",
      "placeholder": "​",
      "style": "IPY_MODEL_21f3bf3b1f0f4f7ba7b91e89c56446b9",
      "value": "tokenizer_config.json: 100%"
     }
    },
    "406e005dd2814de583ab4061c3767932": {
     "model_module": "@jupyter-widgets/base",
     "model_module_version": "1.2.0",
     "model_name": "LayoutModel",
     "state": {
      "_model_module": "@jupyter-widgets/base",
      "_model_module_version": "1.2.0",
      "_model_name": "LayoutModel",
      "_view_count": null,
      "_view_module": "@jupyter-widgets/base",
      "_view_module_version": "1.2.0",
      "_view_name": "LayoutView",
      "align_content": null,
      "align_items": null,
      "align_self": null,
      "border": null,
      "bottom": null,
      "display": null,
      "flex": null,
      "flex_flow": null,
      "grid_area": null,
      "grid_auto_columns": null,
      "grid_auto_flow": null,
      "grid_auto_rows": null,
      "grid_column": null,
      "grid_gap": null,
      "grid_row": null,
      "grid_template_areas": null,
      "grid_template_columns": null,
      "grid_template_rows": null,
      "height": null,
      "justify_content": null,
      "justify_items": null,
      "left": null,
      "margin": null,
      "max_height": null,
      "max_width": null,
      "min_height": null,
      "min_width": null,
      "object_fit": null,
      "object_position": null,
      "order": null,
      "overflow": null,
      "overflow_x": null,
      "overflow_y": null,
      "padding": null,
      "right": null,
      "top": null,
      "visibility": null,
      "width": null
     }
    },
    "472add15db79411b9d91df2a4b4db37b": {
     "model_module": "@jupyter-widgets/base",
     "model_module_version": "1.2.0",
     "model_name": "LayoutModel",
     "state": {
      "_model_module": "@jupyter-widgets/base",
      "_model_module_version": "1.2.0",
      "_model_name": "LayoutModel",
      "_view_count": null,
      "_view_module": "@jupyter-widgets/base",
      "_view_module_version": "1.2.0",
      "_view_name": "LayoutView",
      "align_content": null,
      "align_items": null,
      "align_self": null,
      "border": null,
      "bottom": null,
      "display": null,
      "flex": null,
      "flex_flow": null,
      "grid_area": null,
      "grid_auto_columns": null,
      "grid_auto_flow": null,
      "grid_auto_rows": null,
      "grid_column": null,
      "grid_gap": null,
      "grid_row": null,
      "grid_template_areas": null,
      "grid_template_columns": null,
      "grid_template_rows": null,
      "height": null,
      "justify_content": null,
      "justify_items": null,
      "left": null,
      "margin": null,
      "max_height": null,
      "max_width": null,
      "min_height": null,
      "min_width": null,
      "object_fit": null,
      "object_position": null,
      "order": null,
      "overflow": null,
      "overflow_x": null,
      "overflow_y": null,
      "padding": null,
      "right": null,
      "top": null,
      "visibility": null,
      "width": null
     }
    },
    "4a4b24cf631746efbd9f5deba1ba0c0b": {
     "model_module": "@jupyter-widgets/base",
     "model_module_version": "1.2.0",
     "model_name": "LayoutModel",
     "state": {
      "_model_module": "@jupyter-widgets/base",
      "_model_module_version": "1.2.0",
      "_model_name": "LayoutModel",
      "_view_count": null,
      "_view_module": "@jupyter-widgets/base",
      "_view_module_version": "1.2.0",
      "_view_name": "LayoutView",
      "align_content": null,
      "align_items": null,
      "align_self": null,
      "border": null,
      "bottom": null,
      "display": null,
      "flex": null,
      "flex_flow": null,
      "grid_area": null,
      "grid_auto_columns": null,
      "grid_auto_flow": null,
      "grid_auto_rows": null,
      "grid_column": null,
      "grid_gap": null,
      "grid_row": null,
      "grid_template_areas": null,
      "grid_template_columns": null,
      "grid_template_rows": null,
      "height": null,
      "justify_content": null,
      "justify_items": null,
      "left": null,
      "margin": null,
      "max_height": null,
      "max_width": null,
      "min_height": null,
      "min_width": null,
      "object_fit": null,
      "object_position": null,
      "order": null,
      "overflow": null,
      "overflow_x": null,
      "overflow_y": null,
      "padding": null,
      "right": null,
      "top": null,
      "visibility": null,
      "width": null
     }
    },
    "4ef0524bd8384cffabf484c3d9f073f3": {
     "model_module": "@jupyter-widgets/controls",
     "model_module_version": "1.5.0",
     "model_name": "HTMLModel",
     "state": {
      "_dom_classes": [],
      "_model_module": "@jupyter-widgets/controls",
      "_model_module_version": "1.5.0",
      "_model_name": "HTMLModel",
      "_view_count": null,
      "_view_module": "@jupyter-widgets/controls",
      "_view_module_version": "1.5.0",
      "_view_name": "HTMLView",
      "description": "",
      "description_tooltip": null,
      "layout": "IPY_MODEL_907df3f433db4c5580712979125865fb",
      "placeholder": "​",
      "style": "IPY_MODEL_c0d7850d6ca94c259fce12d44a5500c8",
      "value": " 2191/0 [00:00&lt;00:00, 32132.56 examples/s]"
     }
    },
    "4ffe43597de64eeb9a3d620f20b81cc1": {
     "model_module": "@jupyter-widgets/controls",
     "model_module_version": "1.5.0",
     "model_name": "ProgressStyleModel",
     "state": {
      "_model_module": "@jupyter-widgets/controls",
      "_model_module_version": "1.5.0",
      "_model_name": "ProgressStyleModel",
      "_view_count": null,
      "_view_module": "@jupyter-widgets/base",
      "_view_module_version": "1.2.0",
      "_view_name": "StyleView",
      "bar_color": null,
      "description_width": ""
     }
    },
    "5146e2db496b4748af249da3da2d34f5": {
     "model_module": "@jupyter-widgets/controls",
     "model_module_version": "1.5.0",
     "model_name": "DescriptionStyleModel",
     "state": {
      "_model_module": "@jupyter-widgets/controls",
      "_model_module_version": "1.5.0",
      "_model_name": "DescriptionStyleModel",
      "_view_count": null,
      "_view_module": "@jupyter-widgets/base",
      "_view_module_version": "1.2.0",
      "_view_name": "StyleView",
      "description_width": ""
     }
    },
    "520d93f4494342549f777e52004982f2": {
     "model_module": "@jupyter-widgets/base",
     "model_module_version": "1.2.0",
     "model_name": "LayoutModel",
     "state": {
      "_model_module": "@jupyter-widgets/base",
      "_model_module_version": "1.2.0",
      "_model_name": "LayoutModel",
      "_view_count": null,
      "_view_module": "@jupyter-widgets/base",
      "_view_module_version": "1.2.0",
      "_view_name": "LayoutView",
      "align_content": null,
      "align_items": null,
      "align_self": null,
      "border": null,
      "bottom": null,
      "display": null,
      "flex": null,
      "flex_flow": null,
      "grid_area": null,
      "grid_auto_columns": null,
      "grid_auto_flow": null,
      "grid_auto_rows": null,
      "grid_column": null,
      "grid_gap": null,
      "grid_row": null,
      "grid_template_areas": null,
      "grid_template_columns": null,
      "grid_template_rows": null,
      "height": null,
      "justify_content": null,
      "justify_items": null,
      "left": null,
      "margin": null,
      "max_height": null,
      "max_width": null,
      "min_height": null,
      "min_width": null,
      "object_fit": null,
      "object_position": null,
      "order": null,
      "overflow": null,
      "overflow_x": null,
      "overflow_y": null,
      "padding": null,
      "right": null,
      "top": null,
      "visibility": null,
      "width": null
     }
    },
    "526be292e3b045048652d238c928e8b5": {
     "model_module": "@jupyter-widgets/controls",
     "model_module_version": "1.5.0",
     "model_name": "HTMLModel",
     "state": {
      "_dom_classes": [],
      "_model_module": "@jupyter-widgets/controls",
      "_model_module_version": "1.5.0",
      "_model_name": "HTMLModel",
      "_view_count": null,
      "_view_module": "@jupyter-widgets/controls",
      "_view_module_version": "1.5.0",
      "_view_name": "HTMLView",
      "description": "",
      "description_tooltip": null,
      "layout": "IPY_MODEL_bba835b9e7dd463e855b89f07da4aef3",
      "placeholder": "​",
      "style": "IPY_MODEL_0abc54c65ca449c19a59943727f851d0",
      "value": " 437/437 [00:00&lt;00:00, 18.5kB/s]"
     }
    },
    "52bd2752fdca48aa93aa9cc635a3bcd3": {
     "model_module": "@jupyter-widgets/base",
     "model_module_version": "1.2.0",
     "model_name": "LayoutModel",
     "state": {
      "_model_module": "@jupyter-widgets/base",
      "_model_module_version": "1.2.0",
      "_model_name": "LayoutModel",
      "_view_count": null,
      "_view_module": "@jupyter-widgets/base",
      "_view_module_version": "1.2.0",
      "_view_name": "LayoutView",
      "align_content": null,
      "align_items": null,
      "align_self": null,
      "border": null,
      "bottom": null,
      "display": null,
      "flex": null,
      "flex_flow": null,
      "grid_area": null,
      "grid_auto_columns": null,
      "grid_auto_flow": null,
      "grid_auto_rows": null,
      "grid_column": null,
      "grid_gap": null,
      "grid_row": null,
      "grid_template_areas": null,
      "grid_template_columns": null,
      "grid_template_rows": null,
      "height": null,
      "justify_content": null,
      "justify_items": null,
      "left": null,
      "margin": null,
      "max_height": null,
      "max_width": null,
      "min_height": null,
      "min_width": null,
      "object_fit": null,
      "object_position": null,
      "order": null,
      "overflow": null,
      "overflow_x": null,
      "overflow_y": null,
      "padding": null,
      "right": null,
      "top": null,
      "visibility": null,
      "width": null
     }
    },
    "52e3005f4e1a49b0b0cd5a3724f62651": {
     "model_module": "@jupyter-widgets/base",
     "model_module_version": "1.2.0",
     "model_name": "LayoutModel",
     "state": {
      "_model_module": "@jupyter-widgets/base",
      "_model_module_version": "1.2.0",
      "_model_name": "LayoutModel",
      "_view_count": null,
      "_view_module": "@jupyter-widgets/base",
      "_view_module_version": "1.2.0",
      "_view_name": "LayoutView",
      "align_content": null,
      "align_items": null,
      "align_self": null,
      "border": null,
      "bottom": null,
      "display": null,
      "flex": null,
      "flex_flow": null,
      "grid_area": null,
      "grid_auto_columns": null,
      "grid_auto_flow": null,
      "grid_auto_rows": null,
      "grid_column": null,
      "grid_gap": null,
      "grid_row": null,
      "grid_template_areas": null,
      "grid_template_columns": null,
      "grid_template_rows": null,
      "height": null,
      "justify_content": null,
      "justify_items": null,
      "left": null,
      "margin": null,
      "max_height": null,
      "max_width": null,
      "min_height": null,
      "min_width": null,
      "object_fit": null,
      "object_position": null,
      "order": null,
      "overflow": null,
      "overflow_x": null,
      "overflow_y": null,
      "padding": null,
      "right": null,
      "top": null,
      "visibility": null,
      "width": null
     }
    },
    "54b59bbbba774e09b78a831277390386": {
     "model_module": "@jupyter-widgets/controls",
     "model_module_version": "1.5.0",
     "model_name": "HBoxModel",
     "state": {
      "_dom_classes": [],
      "_model_module": "@jupyter-widgets/controls",
      "_model_module_version": "1.5.0",
      "_model_name": "HBoxModel",
      "_view_count": null,
      "_view_module": "@jupyter-widgets/controls",
      "_view_module_version": "1.5.0",
      "_view_name": "HBoxView",
      "box_style": "",
      "children": [
       "IPY_MODEL_cf9cc2fd64e04f3e95fe2fda4c15c049",
       "IPY_MODEL_adf7c3fb7460408e8d9fe274811e1d04",
       "IPY_MODEL_5a32801c36e34df791d09115b75bafef"
      ],
      "layout": "IPY_MODEL_c2ea561b22304965b37f618cd0f9cfc3"
     }
    },
    "55a948f6569b45238711d88b5cce963e": {
     "model_module": "@jupyter-widgets/controls",
     "model_module_version": "1.5.0",
     "model_name": "HTMLModel",
     "state": {
      "_dom_classes": [],
      "_model_module": "@jupyter-widgets/controls",
      "_model_module_version": "1.5.0",
      "_model_name": "HTMLModel",
      "_view_count": null,
      "_view_module": "@jupyter-widgets/controls",
      "_view_module_version": "1.5.0",
      "_view_name": "HTMLView",
      "description": "",
      "description_tooltip": null,
      "layout": "IPY_MODEL_987e21c9756f4d899fa265c8f0333912",
      "placeholder": "​",
      "style": "IPY_MODEL_cef2b21e8011497f8369717671a7be0e",
      "value": " 742k/742k [00:00&lt;00:00, 9.77MB/s]"
     }
    },
    "55cc28a62d474fab97d377ee2a7eeff3": {
     "model_module": "@jupyter-widgets/controls",
     "model_module_version": "1.5.0",
     "model_name": "ProgressStyleModel",
     "state": {
      "_model_module": "@jupyter-widgets/controls",
      "_model_module_version": "1.5.0",
      "_model_name": "ProgressStyleModel",
      "_view_count": null,
      "_view_module": "@jupyter-widgets/base",
      "_view_module_version": "1.2.0",
      "_view_name": "StyleView",
      "bar_color": null,
      "description_width": ""
     }
    },
    "576eb9eef2a34f54823480fd0edc87b9": {
     "model_module": "@jupyter-widgets/controls",
     "model_module_version": "1.5.0",
     "model_name": "DescriptionStyleModel",
     "state": {
      "_model_module": "@jupyter-widgets/controls",
      "_model_module_version": "1.5.0",
      "_model_name": "DescriptionStyleModel",
      "_view_count": null,
      "_view_module": "@jupyter-widgets/base",
      "_view_module_version": "1.2.0",
      "_view_name": "StyleView",
      "description_width": ""
     }
    },
    "583fefaf3cde47a0af6891a4c7a016f8": {
     "model_module": "@jupyter-widgets/controls",
     "model_module_version": "1.5.0",
     "model_name": "HBoxModel",
     "state": {
      "_dom_classes": [],
      "_model_module": "@jupyter-widgets/controls",
      "_model_module_version": "1.5.0",
      "_model_name": "HBoxModel",
      "_view_count": null,
      "_view_module": "@jupyter-widgets/controls",
      "_view_module_version": "1.5.0",
      "_view_name": "HBoxView",
      "box_style": "",
      "children": [
       "IPY_MODEL_c5ed3e63827340758be0fc35d05b87ed",
       "IPY_MODEL_ac606355d2874e9cacf5181e0757d8f5",
       "IPY_MODEL_114dabdc0f454d588c761bcb510cd755"
      ],
      "layout": "IPY_MODEL_f8a2f11211a249b9bb4d87c8b9b011a9"
     }
    },
    "58a1a9d4403743b7bf2405d502b4c6ab": {
     "model_module": "@jupyter-widgets/controls",
     "model_module_version": "1.5.0",
     "model_name": "DescriptionStyleModel",
     "state": {
      "_model_module": "@jupyter-widgets/controls",
      "_model_module_version": "1.5.0",
      "_model_name": "DescriptionStyleModel",
      "_view_count": null,
      "_view_module": "@jupyter-widgets/base",
      "_view_module_version": "1.2.0",
      "_view_name": "StyleView",
      "description_width": ""
     }
    },
    "5978808734124efd9c70d97dc771047d": {
     "model_module": "@jupyter-widgets/base",
     "model_module_version": "1.2.0",
     "model_name": "LayoutModel",
     "state": {
      "_model_module": "@jupyter-widgets/base",
      "_model_module_version": "1.2.0",
      "_model_name": "LayoutModel",
      "_view_count": null,
      "_view_module": "@jupyter-widgets/base",
      "_view_module_version": "1.2.0",
      "_view_name": "LayoutView",
      "align_content": null,
      "align_items": null,
      "align_self": null,
      "border": null,
      "bottom": null,
      "display": null,
      "flex": null,
      "flex_flow": null,
      "grid_area": null,
      "grid_auto_columns": null,
      "grid_auto_flow": null,
      "grid_auto_rows": null,
      "grid_column": null,
      "grid_gap": null,
      "grid_row": null,
      "grid_template_areas": null,
      "grid_template_columns": null,
      "grid_template_rows": null,
      "height": null,
      "justify_content": null,
      "justify_items": null,
      "left": null,
      "margin": null,
      "max_height": null,
      "max_width": null,
      "min_height": null,
      "min_width": null,
      "object_fit": null,
      "object_position": null,
      "order": null,
      "overflow": null,
      "overflow_x": null,
      "overflow_y": null,
      "padding": null,
      "right": null,
      "top": null,
      "visibility": null,
      "width": null
     }
    },
    "5a32801c36e34df791d09115b75bafef": {
     "model_module": "@jupyter-widgets/controls",
     "model_module_version": "1.5.0",
     "model_name": "HTMLModel",
     "state": {
      "_dom_classes": [],
      "_model_module": "@jupyter-widgets/controls",
      "_model_module_version": "1.5.0",
      "_model_name": "HTMLModel",
      "_view_count": null,
      "_view_module": "@jupyter-widgets/controls",
      "_view_module_version": "1.5.0",
      "_view_name": "HTMLView",
      "description": "",
      "description_tooltip": null,
      "layout": "IPY_MODEL_1f5a13e2ab3e4be6bb162b39690f17ff",
      "placeholder": "​",
      "style": "IPY_MODEL_dc15b51ad2c2468cb02a79f7a7c7522f",
      "value": " 2.13M/2.13M [00:00&lt;00:00, 24.9MB/s]"
     }
    },
    "601b495947e34751967d25ab1f0c32fc": {
     "model_module": "@jupyter-widgets/controls",
     "model_module_version": "1.5.0",
     "model_name": "DescriptionStyleModel",
     "state": {
      "_model_module": "@jupyter-widgets/controls",
      "_model_module_version": "1.5.0",
      "_model_name": "DescriptionStyleModel",
      "_view_count": null,
      "_view_module": "@jupyter-widgets/base",
      "_view_module_version": "1.2.0",
      "_view_name": "StyleView",
      "description_width": ""
     }
    },
    "60c55e8c2ae844068d9ff51735fcbc77": {
     "model_module": "@jupyter-widgets/base",
     "model_module_version": "1.2.0",
     "model_name": "LayoutModel",
     "state": {
      "_model_module": "@jupyter-widgets/base",
      "_model_module_version": "1.2.0",
      "_model_name": "LayoutModel",
      "_view_count": null,
      "_view_module": "@jupyter-widgets/base",
      "_view_module_version": "1.2.0",
      "_view_name": "LayoutView",
      "align_content": null,
      "align_items": null,
      "align_self": null,
      "border": null,
      "bottom": null,
      "display": null,
      "flex": null,
      "flex_flow": null,
      "grid_area": null,
      "grid_auto_columns": null,
      "grid_auto_flow": null,
      "grid_auto_rows": null,
      "grid_column": null,
      "grid_gap": null,
      "grid_row": null,
      "grid_template_areas": null,
      "grid_template_columns": null,
      "grid_template_rows": null,
      "height": null,
      "justify_content": null,
      "justify_items": null,
      "left": null,
      "margin": null,
      "max_height": null,
      "max_width": null,
      "min_height": null,
      "min_width": null,
      "object_fit": null,
      "object_position": null,
      "order": null,
      "overflow": null,
      "overflow_x": null,
      "overflow_y": null,
      "padding": null,
      "right": null,
      "top": null,
      "visibility": null,
      "width": null
     }
    },
    "61746c2c66414231ab924ba0ecead398": {
     "model_module": "@jupyter-widgets/controls",
     "model_module_version": "1.5.0",
     "model_name": "FloatProgressModel",
     "state": {
      "_dom_classes": [],
      "_model_module": "@jupyter-widgets/controls",
      "_model_module_version": "1.5.0",
      "_model_name": "FloatProgressModel",
      "_view_count": null,
      "_view_module": "@jupyter-widgets/controls",
      "_view_module_version": "1.5.0",
      "_view_name": "ProgressView",
      "bar_style": "success",
      "description": "",
      "description_tooltip": null,
      "layout": "IPY_MODEL_c274239822f5484890fe16980e113e95",
      "max": 1,
      "min": 0,
      "orientation": "horizontal",
      "style": "IPY_MODEL_55cc28a62d474fab97d377ee2a7eeff3",
      "value": 1
     }
    },
    "6218bb0901bb41f982f7559bb77fa6fc": {
     "model_module": "@jupyter-widgets/base",
     "model_module_version": "1.2.0",
     "model_name": "LayoutModel",
     "state": {
      "_model_module": "@jupyter-widgets/base",
      "_model_module_version": "1.2.0",
      "_model_name": "LayoutModel",
      "_view_count": null,
      "_view_module": "@jupyter-widgets/base",
      "_view_module_version": "1.2.0",
      "_view_name": "LayoutView",
      "align_content": null,
      "align_items": null,
      "align_self": null,
      "border": null,
      "bottom": null,
      "display": null,
      "flex": null,
      "flex_flow": null,
      "grid_area": null,
      "grid_auto_columns": null,
      "grid_auto_flow": null,
      "grid_auto_rows": null,
      "grid_column": null,
      "grid_gap": null,
      "grid_row": null,
      "grid_template_areas": null,
      "grid_template_columns": null,
      "grid_template_rows": null,
      "height": null,
      "justify_content": null,
      "justify_items": null,
      "left": null,
      "margin": null,
      "max_height": null,
      "max_width": null,
      "min_height": null,
      "min_width": null,
      "object_fit": null,
      "object_position": null,
      "order": null,
      "overflow": null,
      "overflow_x": null,
      "overflow_y": null,
      "padding": null,
      "right": null,
      "top": null,
      "visibility": null,
      "width": null
     }
    },
    "6254e6d8d84e4acbbb1b27bc1a4c2f5d": {
     "model_module": "@jupyter-widgets/controls",
     "model_module_version": "1.5.0",
     "model_name": "HTMLModel",
     "state": {
      "_dom_classes": [],
      "_model_module": "@jupyter-widgets/controls",
      "_model_module_version": "1.5.0",
      "_model_name": "HTMLModel",
      "_view_count": null,
      "_view_module": "@jupyter-widgets/controls",
      "_view_module_version": "1.5.0",
      "_view_name": "HTMLView",
      "description": "",
      "description_tooltip": null,
      "layout": "IPY_MODEL_008672ac6a9d4e78afab80bf44b2442f",
      "placeholder": "​",
      "style": "IPY_MODEL_c251e94aa7604b43a2689ad4ad006fd0",
      "value": " 48.0/48.0 [00:00&lt;00:00, 1.96kB/s]"
     }
    },
    "636247feb56a4ae9aa84b1f8fe482210": {
     "model_module": "@jupyter-widgets/controls",
     "model_module_version": "1.5.0",
     "model_name": "DescriptionStyleModel",
     "state": {
      "_model_module": "@jupyter-widgets/controls",
      "_model_module_version": "1.5.0",
      "_model_name": "DescriptionStyleModel",
      "_view_count": null,
      "_view_module": "@jupyter-widgets/base",
      "_view_module_version": "1.2.0",
      "_view_name": "StyleView",
      "description_width": ""
     }
    },
    "672427d9f84b484ba6b8c8e1043f2b68": {
     "model_module": "@jupyter-widgets/base",
     "model_module_version": "1.2.0",
     "model_name": "LayoutModel",
     "state": {
      "_model_module": "@jupyter-widgets/base",
      "_model_module_version": "1.2.0",
      "_model_name": "LayoutModel",
      "_view_count": null,
      "_view_module": "@jupyter-widgets/base",
      "_view_module_version": "1.2.0",
      "_view_name": "LayoutView",
      "align_content": null,
      "align_items": null,
      "align_self": null,
      "border": null,
      "bottom": null,
      "display": null,
      "flex": null,
      "flex_flow": null,
      "grid_area": null,
      "grid_auto_columns": null,
      "grid_auto_flow": null,
      "grid_auto_rows": null,
      "grid_column": null,
      "grid_gap": null,
      "grid_row": null,
      "grid_template_areas": null,
      "grid_template_columns": null,
      "grid_template_rows": null,
      "height": null,
      "justify_content": null,
      "justify_items": null,
      "left": null,
      "margin": null,
      "max_height": null,
      "max_width": null,
      "min_height": null,
      "min_width": null,
      "object_fit": null,
      "object_position": null,
      "order": null,
      "overflow": null,
      "overflow_x": null,
      "overflow_y": null,
      "padding": null,
      "right": null,
      "top": null,
      "visibility": null,
      "width": null
     }
    },
    "6af56aa1833c45008ceaba34e55b0787": {
     "model_module": "@jupyter-widgets/controls",
     "model_module_version": "1.5.0",
     "model_name": "ProgressStyleModel",
     "state": {
      "_model_module": "@jupyter-widgets/controls",
      "_model_module_version": "1.5.0",
      "_model_name": "ProgressStyleModel",
      "_view_count": null,
      "_view_module": "@jupyter-widgets/base",
      "_view_module_version": "1.2.0",
      "_view_name": "StyleView",
      "bar_color": null,
      "description_width": ""
     }
    },
    "6f74d3ddff394f3f96ca3939078513f9": {
     "model_module": "@jupyter-widgets/base",
     "model_module_version": "1.2.0",
     "model_name": "LayoutModel",
     "state": {
      "_model_module": "@jupyter-widgets/base",
      "_model_module_version": "1.2.0",
      "_model_name": "LayoutModel",
      "_view_count": null,
      "_view_module": "@jupyter-widgets/base",
      "_view_module_version": "1.2.0",
      "_view_name": "LayoutView",
      "align_content": null,
      "align_items": null,
      "align_self": null,
      "border": null,
      "bottom": null,
      "display": null,
      "flex": null,
      "flex_flow": null,
      "grid_area": null,
      "grid_auto_columns": null,
      "grid_auto_flow": null,
      "grid_auto_rows": null,
      "grid_column": null,
      "grid_gap": null,
      "grid_row": null,
      "grid_template_areas": null,
      "grid_template_columns": null,
      "grid_template_rows": null,
      "height": null,
      "justify_content": null,
      "justify_items": null,
      "left": null,
      "margin": null,
      "max_height": null,
      "max_width": null,
      "min_height": null,
      "min_width": null,
      "object_fit": null,
      "object_position": null,
      "order": null,
      "overflow": null,
      "overflow_x": null,
      "overflow_y": null,
      "padding": null,
      "right": null,
      "top": null,
      "visibility": null,
      "width": null
     }
    },
    "7056e3f7150c44ffb05ab7e6a5e46a10": {
     "model_module": "@jupyter-widgets/controls",
     "model_module_version": "1.5.0",
     "model_name": "HTMLModel",
     "state": {
      "_dom_classes": [],
      "_model_module": "@jupyter-widgets/controls",
      "_model_module_version": "1.5.0",
      "_model_name": "HTMLModel",
      "_view_count": null,
      "_view_module": "@jupyter-widgets/controls",
      "_view_module_version": "1.5.0",
      "_view_name": "HTMLView",
      "description": "",
      "description_tooltip": null,
      "layout": "IPY_MODEL_d245f2f17e8b496fab06d6341a9d97ff",
      "placeholder": "​",
      "style": "IPY_MODEL_2306eb629027425eb7b053227b4aaebb",
      "value": " 232k/232k [00:00&lt;00:00, 4.45MB/s]"
     }
    },
    "70f09d52a8974e80bb69ffb2ae3bb42a": {
     "model_module": "@jupyter-widgets/base",
     "model_module_version": "1.2.0",
     "model_name": "LayoutModel",
     "state": {
      "_model_module": "@jupyter-widgets/base",
      "_model_module_version": "1.2.0",
      "_model_name": "LayoutModel",
      "_view_count": null,
      "_view_module": "@jupyter-widgets/base",
      "_view_module_version": "1.2.0",
      "_view_name": "LayoutView",
      "align_content": null,
      "align_items": null,
      "align_self": null,
      "border": null,
      "bottom": null,
      "display": null,
      "flex": null,
      "flex_flow": null,
      "grid_area": null,
      "grid_auto_columns": null,
      "grid_auto_flow": null,
      "grid_auto_rows": null,
      "grid_column": null,
      "grid_gap": null,
      "grid_row": null,
      "grid_template_areas": null,
      "grid_template_columns": null,
      "grid_template_rows": null,
      "height": null,
      "justify_content": null,
      "justify_items": null,
      "left": null,
      "margin": null,
      "max_height": null,
      "max_width": null,
      "min_height": null,
      "min_width": null,
      "object_fit": null,
      "object_position": null,
      "order": null,
      "overflow": null,
      "overflow_x": null,
      "overflow_y": null,
      "padding": null,
      "right": null,
      "top": null,
      "visibility": null,
      "width": null
     }
    },
    "71652e187dea48f49f8007ea7ce37b35": {
     "model_module": "@jupyter-widgets/controls",
     "model_module_version": "1.5.0",
     "model_name": "DescriptionStyleModel",
     "state": {
      "_model_module": "@jupyter-widgets/controls",
      "_model_module_version": "1.5.0",
      "_model_name": "DescriptionStyleModel",
      "_view_count": null,
      "_view_module": "@jupyter-widgets/base",
      "_view_module_version": "1.2.0",
      "_view_name": "StyleView",
      "description_width": ""
     }
    },
    "71f68b322a9749e4b0c54031726e72d4": {
     "model_module": "@jupyter-widgets/base",
     "model_module_version": "1.2.0",
     "model_name": "LayoutModel",
     "state": {
      "_model_module": "@jupyter-widgets/base",
      "_model_module_version": "1.2.0",
      "_model_name": "LayoutModel",
      "_view_count": null,
      "_view_module": "@jupyter-widgets/base",
      "_view_module_version": "1.2.0",
      "_view_name": "LayoutView",
      "align_content": null,
      "align_items": null,
      "align_self": null,
      "border": null,
      "bottom": null,
      "display": null,
      "flex": null,
      "flex_flow": null,
      "grid_area": null,
      "grid_auto_columns": null,
      "grid_auto_flow": null,
      "grid_auto_rows": null,
      "grid_column": null,
      "grid_gap": null,
      "grid_row": null,
      "grid_template_areas": null,
      "grid_template_columns": null,
      "grid_template_rows": null,
      "height": null,
      "justify_content": null,
      "justify_items": null,
      "left": null,
      "margin": null,
      "max_height": null,
      "max_width": null,
      "min_height": null,
      "min_width": null,
      "object_fit": null,
      "object_position": null,
      "order": null,
      "overflow": null,
      "overflow_x": null,
      "overflow_y": null,
      "padding": null,
      "right": null,
      "top": null,
      "visibility": null,
      "width": null
     }
    },
    "72dd50ca0d36459684c1bb72ceffd6c7": {
     "model_module": "@jupyter-widgets/controls",
     "model_module_version": "1.5.0",
     "model_name": "FloatProgressModel",
     "state": {
      "_dom_classes": [],
      "_model_module": "@jupyter-widgets/controls",
      "_model_module_version": "1.5.0",
      "_model_name": "FloatProgressModel",
      "_view_count": null,
      "_view_module": "@jupyter-widgets/controls",
      "_view_module_version": "1.5.0",
      "_view_name": "ProgressView",
      "bar_style": "success",
      "description": "",
      "description_tooltip": null,
      "layout": "IPY_MODEL_f9cf829ef4a8424da21bae97ee3bb558",
      "max": 742353,
      "min": 0,
      "orientation": "horizontal",
      "style": "IPY_MODEL_06a9246f0d8e484b91930febf012f524",
      "value": 742353
     }
    },
    "7454fa8ca18f4812943ef97dc8955a23": {
     "model_module": "@jupyter-widgets/controls",
     "model_module_version": "1.5.0",
     "model_name": "HTMLModel",
     "state": {
      "_dom_classes": [],
      "_model_module": "@jupyter-widgets/controls",
      "_model_module_version": "1.5.0",
      "_model_name": "HTMLModel",
      "_view_count": null,
      "_view_module": "@jupyter-widgets/controls",
      "_view_module_version": "1.5.0",
      "_view_name": "HTMLView",
      "description": "",
      "description_tooltip": null,
      "layout": "IPY_MODEL_6218bb0901bb41f982f7559bb77fa6fc",
      "placeholder": "​",
      "style": "IPY_MODEL_a218699f74664d839843c94d7d1e0839",
      "value": "Generating test split: "
     }
    },
    "750a2ed805d84ad18ae95a8b60c0ce54": {
     "model_module": "@jupyter-widgets/controls",
     "model_module_version": "1.5.0",
     "model_name": "HTMLModel",
     "state": {
      "_dom_classes": [],
      "_model_module": "@jupyter-widgets/controls",
      "_model_module_version": "1.5.0",
      "_model_name": "HTMLModel",
      "_view_count": null,
      "_view_module": "@jupyter-widgets/controls",
      "_view_module_version": "1.5.0",
      "_view_name": "HTMLView",
      "description": "",
      "description_tooltip": null,
      "layout": "IPY_MODEL_520d93f4494342549f777e52004982f2",
      "placeholder": "​",
      "style": "IPY_MODEL_f87d781b3e9e4f02bc07c9d4164fae55",
      "value": " 184k/184k [00:00&lt;00:00, 5.47MB/s]"
     }
    },
    "75ac5d775ba04ef0821a00cfd0367d17": {
     "model_module": "@jupyter-widgets/controls",
     "model_module_version": "1.5.0",
     "model_name": "HBoxModel",
     "state": {
      "_dom_classes": [],
      "_model_module": "@jupyter-widgets/controls",
      "_model_module_version": "1.5.0",
      "_model_name": "HBoxModel",
      "_view_count": null,
      "_view_module": "@jupyter-widgets/controls",
      "_view_module_version": "1.5.0",
      "_view_name": "HBoxView",
      "box_style": "",
      "children": [
       "IPY_MODEL_0c2fea2ddea04acb897c601e620f0e11",
       "IPY_MODEL_ef7080d41b77414a87e8706b0718ffe1",
       "IPY_MODEL_357ed72e26ee4fecbe029925f6dc6679"
      ],
      "layout": "IPY_MODEL_8801bc3956af454d9a3b346374b87520"
     }
    },
    "76bb486e490949ab850e8ca0f008cc4d": {
     "model_module": "@jupyter-widgets/controls",
     "model_module_version": "1.5.0",
     "model_name": "HTMLModel",
     "state": {
      "_dom_classes": [],
      "_model_module": "@jupyter-widgets/controls",
      "_model_module_version": "1.5.0",
      "_model_name": "HTMLModel",
      "_view_count": null,
      "_view_module": "@jupyter-widgets/controls",
      "_view_module_version": "1.5.0",
      "_view_name": "HTMLView",
      "description": "",
      "description_tooltip": null,
      "layout": "IPY_MODEL_406e005dd2814de583ab4061c3767932",
      "placeholder": "​",
      "style": "IPY_MODEL_cdf496bc212442d78f7b6acb827c638f",
      "value": " 8760/0 [00:00&lt;00:00, 70433.59 examples/s]"
     }
    },
    "7851d74ad8b64a31b28e5db36c806372": {
     "model_module": "@jupyter-widgets/controls",
     "model_module_version": "1.5.0",
     "model_name": "FloatProgressModel",
     "state": {
      "_dom_classes": [],
      "_model_module": "@jupyter-widgets/controls",
      "_model_module_version": "1.5.0",
      "_model_name": "FloatProgressModel",
      "_view_count": null,
      "_view_module": "@jupyter-widgets/controls",
      "_view_module_version": "1.5.0",
      "_view_name": "ProgressView",
      "bar_style": "success",
      "description": "",
      "description_tooltip": null,
      "layout": "IPY_MODEL_672427d9f84b484ba6b8c8e1043f2b68",
      "max": 231508,
      "min": 0,
      "orientation": "horizontal",
      "style": "IPY_MODEL_2b32037eb3084c9890b9c3000ef0c0ba",
      "value": 231508
     }
    },
    "7ab28f3f76f642df92b709af0ce576dd": {
     "model_module": "@jupyter-widgets/controls",
     "model_module_version": "1.5.0",
     "model_name": "DescriptionStyleModel",
     "state": {
      "_model_module": "@jupyter-widgets/controls",
      "_model_module_version": "1.5.0",
      "_model_name": "DescriptionStyleModel",
      "_view_count": null,
      "_view_module": "@jupyter-widgets/base",
      "_view_module_version": "1.2.0",
      "_view_name": "StyleView",
      "description_width": ""
     }
    },
    "7cbe4300524646f38de607b883fe6788": {
     "model_module": "@jupyter-widgets/base",
     "model_module_version": "1.2.0",
     "model_name": "LayoutModel",
     "state": {
      "_model_module": "@jupyter-widgets/base",
      "_model_module_version": "1.2.0",
      "_model_name": "LayoutModel",
      "_view_count": null,
      "_view_module": "@jupyter-widgets/base",
      "_view_module_version": "1.2.0",
      "_view_name": "LayoutView",
      "align_content": null,
      "align_items": null,
      "align_self": null,
      "border": null,
      "bottom": null,
      "display": null,
      "flex": null,
      "flex_flow": null,
      "grid_area": null,
      "grid_auto_columns": null,
      "grid_auto_flow": null,
      "grid_auto_rows": null,
      "grid_column": null,
      "grid_gap": null,
      "grid_row": null,
      "grid_template_areas": null,
      "grid_template_columns": null,
      "grid_template_rows": null,
      "height": null,
      "justify_content": null,
      "justify_items": null,
      "left": null,
      "margin": null,
      "max_height": null,
      "max_width": null,
      "min_height": null,
      "min_width": null,
      "object_fit": null,
      "object_position": null,
      "order": null,
      "overflow": null,
      "overflow_x": null,
      "overflow_y": null,
      "padding": null,
      "right": null,
      "top": null,
      "visibility": null,
      "width": null
     }
    },
    "80c1b1b5f75b4f819c82ade6fe73806b": {
     "model_module": "@jupyter-widgets/base",
     "model_module_version": "1.2.0",
     "model_name": "LayoutModel",
     "state": {
      "_model_module": "@jupyter-widgets/base",
      "_model_module_version": "1.2.0",
      "_model_name": "LayoutModel",
      "_view_count": null,
      "_view_module": "@jupyter-widgets/base",
      "_view_module_version": "1.2.0",
      "_view_name": "LayoutView",
      "align_content": null,
      "align_items": null,
      "align_self": null,
      "border": null,
      "bottom": null,
      "display": null,
      "flex": null,
      "flex_flow": null,
      "grid_area": null,
      "grid_auto_columns": null,
      "grid_auto_flow": null,
      "grid_auto_rows": null,
      "grid_column": null,
      "grid_gap": null,
      "grid_row": null,
      "grid_template_areas": null,
      "grid_template_columns": null,
      "grid_template_rows": null,
      "height": null,
      "justify_content": null,
      "justify_items": null,
      "left": null,
      "margin": null,
      "max_height": null,
      "max_width": null,
      "min_height": null,
      "min_width": null,
      "object_fit": null,
      "object_position": null,
      "order": null,
      "overflow": null,
      "overflow_x": null,
      "overflow_y": null,
      "padding": null,
      "right": null,
      "top": null,
      "visibility": null,
      "width": "20px"
     }
    },
    "86357b7baa2b4e5f891ef9116905ae1f": {
     "model_module": "@jupyter-widgets/base",
     "model_module_version": "1.2.0",
     "model_name": "LayoutModel",
     "state": {
      "_model_module": "@jupyter-widgets/base",
      "_model_module_version": "1.2.0",
      "_model_name": "LayoutModel",
      "_view_count": null,
      "_view_module": "@jupyter-widgets/base",
      "_view_module_version": "1.2.0",
      "_view_name": "LayoutView",
      "align_content": null,
      "align_items": null,
      "align_self": null,
      "border": null,
      "bottom": null,
      "display": null,
      "flex": null,
      "flex_flow": null,
      "grid_area": null,
      "grid_auto_columns": null,
      "grid_auto_flow": null,
      "grid_auto_rows": null,
      "grid_column": null,
      "grid_gap": null,
      "grid_row": null,
      "grid_template_areas": null,
      "grid_template_columns": null,
      "grid_template_rows": null,
      "height": null,
      "justify_content": null,
      "justify_items": null,
      "left": null,
      "margin": null,
      "max_height": null,
      "max_width": null,
      "min_height": null,
      "min_width": null,
      "object_fit": null,
      "object_position": null,
      "order": null,
      "overflow": null,
      "overflow_x": null,
      "overflow_y": null,
      "padding": null,
      "right": null,
      "top": null,
      "visibility": null,
      "width": null
     }
    },
    "8801bc3956af454d9a3b346374b87520": {
     "model_module": "@jupyter-widgets/base",
     "model_module_version": "1.2.0",
     "model_name": "LayoutModel",
     "state": {
      "_model_module": "@jupyter-widgets/base",
      "_model_module_version": "1.2.0",
      "_model_name": "LayoutModel",
      "_view_count": null,
      "_view_module": "@jupyter-widgets/base",
      "_view_module_version": "1.2.0",
      "_view_name": "LayoutView",
      "align_content": null,
      "align_items": null,
      "align_self": null,
      "border": null,
      "bottom": null,
      "display": null,
      "flex": null,
      "flex_flow": null,
      "grid_area": null,
      "grid_auto_columns": null,
      "grid_auto_flow": null,
      "grid_auto_rows": null,
      "grid_column": null,
      "grid_gap": null,
      "grid_row": null,
      "grid_template_areas": null,
      "grid_template_columns": null,
      "grid_template_rows": null,
      "height": null,
      "justify_content": null,
      "justify_items": null,
      "left": null,
      "margin": null,
      "max_height": null,
      "max_width": null,
      "min_height": null,
      "min_width": null,
      "object_fit": null,
      "object_position": null,
      "order": null,
      "overflow": null,
      "overflow_x": null,
      "overflow_y": null,
      "padding": null,
      "right": null,
      "top": null,
      "visibility": null,
      "width": null
     }
    },
    "89b2bca3190a4d4195f7d6d8d0592f05": {
     "model_module": "@jupyter-widgets/base",
     "model_module_version": "1.2.0",
     "model_name": "LayoutModel",
     "state": {
      "_model_module": "@jupyter-widgets/base",
      "_model_module_version": "1.2.0",
      "_model_name": "LayoutModel",
      "_view_count": null,
      "_view_module": "@jupyter-widgets/base",
      "_view_module_version": "1.2.0",
      "_view_name": "LayoutView",
      "align_content": null,
      "align_items": null,
      "align_self": null,
      "border": null,
      "bottom": null,
      "display": null,
      "flex": null,
      "flex_flow": null,
      "grid_area": null,
      "grid_auto_columns": null,
      "grid_auto_flow": null,
      "grid_auto_rows": null,
      "grid_column": null,
      "grid_gap": null,
      "grid_row": null,
      "grid_template_areas": null,
      "grid_template_columns": null,
      "grid_template_rows": null,
      "height": null,
      "justify_content": null,
      "justify_items": null,
      "left": null,
      "margin": null,
      "max_height": null,
      "max_width": null,
      "min_height": null,
      "min_width": null,
      "object_fit": null,
      "object_position": null,
      "order": null,
      "overflow": null,
      "overflow_x": null,
      "overflow_y": null,
      "padding": null,
      "right": null,
      "top": null,
      "visibility": null,
      "width": null
     }
    },
    "89c31ee8ab4b47488575ff650700cdfa": {
     "model_module": "@jupyter-widgets/controls",
     "model_module_version": "1.5.0",
     "model_name": "HBoxModel",
     "state": {
      "_dom_classes": [],
      "_model_module": "@jupyter-widgets/controls",
      "_model_module_version": "1.5.0",
      "_model_name": "HBoxModel",
      "_view_count": null,
      "_view_module": "@jupyter-widgets/controls",
      "_view_module_version": "1.5.0",
      "_view_name": "HBoxView",
      "box_style": "",
      "children": [
       "IPY_MODEL_ba3ee99e9d2a441c9aa7a0fbfaebe844",
       "IPY_MODEL_133e3c746b664f9b81753e3a62758034",
       "IPY_MODEL_9968e81b93e24c60bdde60fc3f72f738"
      ],
      "layout": "IPY_MODEL_31e380856fc543989b76d8a31caa91e4"
     }
    },
    "8a3dc51a297e4ebcae50df737d365317": {
     "model_module": "@jupyter-widgets/base",
     "model_module_version": "1.2.0",
     "model_name": "LayoutModel",
     "state": {
      "_model_module": "@jupyter-widgets/base",
      "_model_module_version": "1.2.0",
      "_model_name": "LayoutModel",
      "_view_count": null,
      "_view_module": "@jupyter-widgets/base",
      "_view_module_version": "1.2.0",
      "_view_name": "LayoutView",
      "align_content": null,
      "align_items": null,
      "align_self": null,
      "border": null,
      "bottom": null,
      "display": null,
      "flex": null,
      "flex_flow": null,
      "grid_area": null,
      "grid_auto_columns": null,
      "grid_auto_flow": null,
      "grid_auto_rows": null,
      "grid_column": null,
      "grid_gap": null,
      "grid_row": null,
      "grid_template_areas": null,
      "grid_template_columns": null,
      "grid_template_rows": null,
      "height": null,
      "justify_content": null,
      "justify_items": null,
      "left": null,
      "margin": null,
      "max_height": null,
      "max_width": null,
      "min_height": null,
      "min_width": null,
      "object_fit": null,
      "object_position": null,
      "order": null,
      "overflow": null,
      "overflow_x": null,
      "overflow_y": null,
      "padding": null,
      "right": null,
      "top": null,
      "visibility": null,
      "width": null
     }
    },
    "8e0aaac368ae4632a8cd2dd7136f3b19": {
     "model_module": "@jupyter-widgets/controls",
     "model_module_version": "1.5.0",
     "model_name": "ProgressStyleModel",
     "state": {
      "_model_module": "@jupyter-widgets/controls",
      "_model_module_version": "1.5.0",
      "_model_name": "ProgressStyleModel",
      "_view_count": null,
      "_view_module": "@jupyter-widgets/base",
      "_view_module_version": "1.2.0",
      "_view_name": "StyleView",
      "bar_color": null,
      "description_width": ""
     }
    },
    "8eda94d059b645aab921dee4ffbb0571": {
     "model_module": "@jupyter-widgets/base",
     "model_module_version": "1.2.0",
     "model_name": "LayoutModel",
     "state": {
      "_model_module": "@jupyter-widgets/base",
      "_model_module_version": "1.2.0",
      "_model_name": "LayoutModel",
      "_view_count": null,
      "_view_module": "@jupyter-widgets/base",
      "_view_module_version": "1.2.0",
      "_view_name": "LayoutView",
      "align_content": null,
      "align_items": null,
      "align_self": null,
      "border": null,
      "bottom": null,
      "display": null,
      "flex": null,
      "flex_flow": null,
      "grid_area": null,
      "grid_auto_columns": null,
      "grid_auto_flow": null,
      "grid_auto_rows": null,
      "grid_column": null,
      "grid_gap": null,
      "grid_row": null,
      "grid_template_areas": null,
      "grid_template_columns": null,
      "grid_template_rows": null,
      "height": null,
      "justify_content": null,
      "justify_items": null,
      "left": null,
      "margin": null,
      "max_height": null,
      "max_width": null,
      "min_height": null,
      "min_width": null,
      "object_fit": null,
      "object_position": null,
      "order": null,
      "overflow": null,
      "overflow_x": null,
      "overflow_y": null,
      "padding": null,
      "right": null,
      "top": null,
      "visibility": null,
      "width": null
     }
    },
    "902231ab7300442987a1097a0e66c92a": {
     "model_module": "@jupyter-widgets/controls",
     "model_module_version": "1.5.0",
     "model_name": "DescriptionStyleModel",
     "state": {
      "_model_module": "@jupyter-widgets/controls",
      "_model_module_version": "1.5.0",
      "_model_name": "DescriptionStyleModel",
      "_view_count": null,
      "_view_module": "@jupyter-widgets/base",
      "_view_module_version": "1.2.0",
      "_view_name": "StyleView",
      "description_width": ""
     }
    },
    "907df3f433db4c5580712979125865fb": {
     "model_module": "@jupyter-widgets/base",
     "model_module_version": "1.2.0",
     "model_name": "LayoutModel",
     "state": {
      "_model_module": "@jupyter-widgets/base",
      "_model_module_version": "1.2.0",
      "_model_name": "LayoutModel",
      "_view_count": null,
      "_view_module": "@jupyter-widgets/base",
      "_view_module_version": "1.2.0",
      "_view_name": "LayoutView",
      "align_content": null,
      "align_items": null,
      "align_self": null,
      "border": null,
      "bottom": null,
      "display": null,
      "flex": null,
      "flex_flow": null,
      "grid_area": null,
      "grid_auto_columns": null,
      "grid_auto_flow": null,
      "grid_auto_rows": null,
      "grid_column": null,
      "grid_gap": null,
      "grid_row": null,
      "grid_template_areas": null,
      "grid_template_columns": null,
      "grid_template_rows": null,
      "height": null,
      "justify_content": null,
      "justify_items": null,
      "left": null,
      "margin": null,
      "max_height": null,
      "max_width": null,
      "min_height": null,
      "min_width": null,
      "object_fit": null,
      "object_position": null,
      "order": null,
      "overflow": null,
      "overflow_x": null,
      "overflow_y": null,
      "padding": null,
      "right": null,
      "top": null,
      "visibility": null,
      "width": null
     }
    },
    "9508345cfd324acaba04ac2c28321b33": {
     "model_module": "@jupyter-widgets/controls",
     "model_module_version": "1.5.0",
     "model_name": "HBoxModel",
     "state": {
      "_dom_classes": [],
      "_model_module": "@jupyter-widgets/controls",
      "_model_module_version": "1.5.0",
      "_model_name": "HBoxModel",
      "_view_count": null,
      "_view_module": "@jupyter-widgets/controls",
      "_view_module_version": "1.5.0",
      "_view_name": "HBoxView",
      "box_style": "",
      "children": [
       "IPY_MODEL_7454fa8ca18f4812943ef97dc8955a23",
       "IPY_MODEL_26f8304fa8d046d3b0f2463fd618c895",
       "IPY_MODEL_76bb486e490949ab850e8ca0f008cc4d"
      ],
      "layout": "IPY_MODEL_f0eff2c73b2a45f2b906c3b404f4be49"
     }
    },
    "96316b9e77ef4766934f03ba08ea7920": {
     "model_module": "@jupyter-widgets/controls",
     "model_module_version": "1.5.0",
     "model_name": "HTMLModel",
     "state": {
      "_dom_classes": [],
      "_model_module": "@jupyter-widgets/controls",
      "_model_module_version": "1.5.0",
      "_model_name": "HTMLModel",
      "_view_count": null,
      "_view_module": "@jupyter-widgets/controls",
      "_view_module_version": "1.5.0",
      "_view_name": "HTMLView",
      "description": "",
      "description_tooltip": null,
      "layout": "IPY_MODEL_f715afd01edf4accaedfadf9fff3ae0d",
      "placeholder": "​",
      "style": "IPY_MODEL_9d514de8880249aeb2dbdda6cd7063fc",
      "value": "config.json: 100%"
     }
    },
    "96612e5fef6a4d3eb00fc62b9d1b78b5": {
     "model_module": "@jupyter-widgets/controls",
     "model_module_version": "1.5.0",
     "model_name": "HTMLModel",
     "state": {
      "_dom_classes": [],
      "_model_module": "@jupyter-widgets/controls",
      "_model_module_version": "1.5.0",
      "_model_name": "HTMLModel",
      "_view_count": null,
      "_view_module": "@jupyter-widgets/controls",
      "_view_module_version": "1.5.0",
      "_view_name": "HTMLView",
      "description": "",
      "description_tooltip": null,
      "layout": "IPY_MODEL_2d1c7807355443449d7cf79fbdcc0277",
      "placeholder": "​",
      "style": "IPY_MODEL_1e299faae87147bbaa24c5e81acbcf7e",
      "value": " 20.8k/20.8k [00:00&lt;00:00, 627kB/s]"
     }
    },
    "987e21c9756f4d899fa265c8f0333912": {
     "model_module": "@jupyter-widgets/base",
     "model_module_version": "1.2.0",
     "model_name": "LayoutModel",
     "state": {
      "_model_module": "@jupyter-widgets/base",
      "_model_module_version": "1.2.0",
      "_model_name": "LayoutModel",
      "_view_count": null,
      "_view_module": "@jupyter-widgets/base",
      "_view_module_version": "1.2.0",
      "_view_name": "LayoutView",
      "align_content": null,
      "align_items": null,
      "align_self": null,
      "border": null,
      "bottom": null,
      "display": null,
      "flex": null,
      "flex_flow": null,
      "grid_area": null,
      "grid_auto_columns": null,
      "grid_auto_flow": null,
      "grid_auto_rows": null,
      "grid_column": null,
      "grid_gap": null,
      "grid_row": null,
      "grid_template_areas": null,
      "grid_template_columns": null,
      "grid_template_rows": null,
      "height": null,
      "justify_content": null,
      "justify_items": null,
      "left": null,
      "margin": null,
      "max_height": null,
      "max_width": null,
      "min_height": null,
      "min_width": null,
      "object_fit": null,
      "object_position": null,
      "order": null,
      "overflow": null,
      "overflow_x": null,
      "overflow_y": null,
      "padding": null,
      "right": null,
      "top": null,
      "visibility": null,
      "width": null
     }
    },
    "98b6029f30574237898eeda4b4f6c2e0": {
     "model_module": "@jupyter-widgets/controls",
     "model_module_version": "1.5.0",
     "model_name": "FloatProgressModel",
     "state": {
      "_dom_classes": [],
      "_model_module": "@jupyter-widgets/controls",
      "_model_module_version": "1.5.0",
      "_model_name": "FloatProgressModel",
      "_view_count": null,
      "_view_module": "@jupyter-widgets/controls",
      "_view_module_version": "1.5.0",
      "_view_name": "ProgressView",
      "bar_style": "success",
      "description": "",
      "description_tooltip": null,
      "layout": "IPY_MODEL_6f74d3ddff394f3f96ca3939078513f9",
      "max": 184079,
      "min": 0,
      "orientation": "horizontal",
      "style": "IPY_MODEL_f6335c70bea54e40930f0becae438466",
      "value": 184079
     }
    },
    "9968e81b93e24c60bdde60fc3f72f738": {
     "model_module": "@jupyter-widgets/controls",
     "model_module_version": "1.5.0",
     "model_name": "HTMLModel",
     "state": {
      "_dom_classes": [],
      "_model_module": "@jupyter-widgets/controls",
      "_model_module_version": "1.5.0",
      "_model_name": "HTMLModel",
      "_view_count": null,
      "_view_module": "@jupyter-widgets/controls",
      "_view_module_version": "1.5.0",
      "_view_name": "HTMLView",
      "description": "",
      "description_tooltip": null,
      "layout": "IPY_MODEL_cce3a0bd83f64b988df55db20e793429",
      "placeholder": "​",
      "style": "IPY_MODEL_f16f41226f2143f287244867428f13e1",
      "value": " 3.70M/3.70M [00:00&lt;00:00, 16.5MB/s]"
     }
    },
    "9d514de8880249aeb2dbdda6cd7063fc": {
     "model_module": "@jupyter-widgets/controls",
     "model_module_version": "1.5.0",
     "model_name": "DescriptionStyleModel",
     "state": {
      "_model_module": "@jupyter-widgets/controls",
      "_model_module_version": "1.5.0",
      "_model_name": "DescriptionStyleModel",
      "_view_count": null,
      "_view_module": "@jupyter-widgets/base",
      "_view_module_version": "1.2.0",
      "_view_name": "StyleView",
      "description_width": ""
     }
    },
    "a218699f74664d839843c94d7d1e0839": {
     "model_module": "@jupyter-widgets/controls",
     "model_module_version": "1.5.0",
     "model_name": "DescriptionStyleModel",
     "state": {
      "_model_module": "@jupyter-widgets/controls",
      "_model_module_version": "1.5.0",
      "_model_name": "DescriptionStyleModel",
      "_view_count": null,
      "_view_module": "@jupyter-widgets/base",
      "_view_module_version": "1.2.0",
      "_view_name": "StyleView",
      "description_width": ""
     }
    },
    "a2db9fab44a641ee8b9aa3d1d88c6ad2": {
     "model_module": "@jupyter-widgets/controls",
     "model_module_version": "1.5.0",
     "model_name": "HBoxModel",
     "state": {
      "_dom_classes": [],
      "_model_module": "@jupyter-widgets/controls",
      "_model_module_version": "1.5.0",
      "_model_name": "HBoxModel",
      "_view_count": null,
      "_view_module": "@jupyter-widgets/controls",
      "_view_module_version": "1.5.0",
      "_view_name": "HBoxView",
      "box_style": "",
      "children": [
       "IPY_MODEL_0eb655d2910b4f52b9ddc4e91e9bedc5",
       "IPY_MODEL_7851d74ad8b64a31b28e5db36c806372",
       "IPY_MODEL_7056e3f7150c44ffb05ab7e6a5e46a10"
      ],
      "layout": "IPY_MODEL_28774e7344674fe3a0af31c17bd948b2"
     }
    },
    "a8c17dcc1dc449f99a1bf458fc3ab049": {
     "model_module": "@jupyter-widgets/controls",
     "model_module_version": "1.5.0",
     "model_name": "FloatProgressModel",
     "state": {
      "_dom_classes": [],
      "_model_module": "@jupyter-widgets/controls",
      "_model_module_version": "1.5.0",
      "_model_name": "FloatProgressModel",
      "_view_count": null,
      "_view_module": "@jupyter-widgets/controls",
      "_view_module_version": "1.5.0",
      "_view_name": "ProgressView",
      "bar_style": "success",
      "description": "",
      "description_tooltip": null,
      "layout": "IPY_MODEL_d0cce743439540f7820d0f176b1051a2",
      "max": 466062,
      "min": 0,
      "orientation": "horizontal",
      "style": "IPY_MODEL_ce7fbdc08f604768b96e4e4855485aa2",
      "value": 466062
     }
    },
    "a96dfbeccaa74a4f84500ad21ea86049": {
     "model_module": "@jupyter-widgets/controls",
     "model_module_version": "1.5.0",
     "model_name": "HBoxModel",
     "state": {
      "_dom_classes": [],
      "_model_module": "@jupyter-widgets/controls",
      "_model_module_version": "1.5.0",
      "_model_name": "HBoxModel",
      "_view_count": null,
      "_view_module": "@jupyter-widgets/controls",
      "_view_module_version": "1.5.0",
      "_view_name": "HBoxView",
      "box_style": "",
      "children": [
       "IPY_MODEL_c1189f3bcb804383a2727f1f158ce2c9",
       "IPY_MODEL_98b6029f30574237898eeda4b4f6c2e0",
       "IPY_MODEL_750a2ed805d84ad18ae95a8b60c0ce54"
      ],
      "layout": "IPY_MODEL_70f09d52a8974e80bb69ffb2ae3bb42a"
     }
    },
    "aa7ad2eb60564b9ebb1c6f227c2bed4d": {
     "model_module": "@jupyter-widgets/base",
     "model_module_version": "1.2.0",
     "model_name": "LayoutModel",
     "state": {
      "_model_module": "@jupyter-widgets/base",
      "_model_module_version": "1.2.0",
      "_model_name": "LayoutModel",
      "_view_count": null,
      "_view_module": "@jupyter-widgets/base",
      "_view_module_version": "1.2.0",
      "_view_name": "LayoutView",
      "align_content": null,
      "align_items": null,
      "align_self": null,
      "border": null,
      "bottom": null,
      "display": null,
      "flex": null,
      "flex_flow": null,
      "grid_area": null,
      "grid_auto_columns": null,
      "grid_auto_flow": null,
      "grid_auto_rows": null,
      "grid_column": null,
      "grid_gap": null,
      "grid_row": null,
      "grid_template_areas": null,
      "grid_template_columns": null,
      "grid_template_rows": null,
      "height": null,
      "justify_content": null,
      "justify_items": null,
      "left": null,
      "margin": null,
      "max_height": null,
      "max_width": null,
      "min_height": null,
      "min_width": null,
      "object_fit": null,
      "object_position": null,
      "order": null,
      "overflow": null,
      "overflow_x": null,
      "overflow_y": null,
      "padding": null,
      "right": null,
      "top": null,
      "visibility": null,
      "width": null
     }
    },
    "ab64944607bc4243a4133f9a3f55ae98": {
     "model_module": "@jupyter-widgets/base",
     "model_module_version": "1.2.0",
     "model_name": "LayoutModel",
     "state": {
      "_model_module": "@jupyter-widgets/base",
      "_model_module_version": "1.2.0",
      "_model_name": "LayoutModel",
      "_view_count": null,
      "_view_module": "@jupyter-widgets/base",
      "_view_module_version": "1.2.0",
      "_view_name": "LayoutView",
      "align_content": null,
      "align_items": null,
      "align_self": null,
      "border": null,
      "bottom": null,
      "display": null,
      "flex": null,
      "flex_flow": null,
      "grid_area": null,
      "grid_auto_columns": null,
      "grid_auto_flow": null,
      "grid_auto_rows": null,
      "grid_column": null,
      "grid_gap": null,
      "grid_row": null,
      "grid_template_areas": null,
      "grid_template_columns": null,
      "grid_template_rows": null,
      "height": null,
      "justify_content": null,
      "justify_items": null,
      "left": null,
      "margin": null,
      "max_height": null,
      "max_width": null,
      "min_height": null,
      "min_width": null,
      "object_fit": null,
      "object_position": null,
      "order": null,
      "overflow": null,
      "overflow_x": null,
      "overflow_y": null,
      "padding": null,
      "right": null,
      "top": null,
      "visibility": null,
      "width": null
     }
    },
    "ac606355d2874e9cacf5181e0757d8f5": {
     "model_module": "@jupyter-widgets/controls",
     "model_module_version": "1.5.0",
     "model_name": "FloatProgressModel",
     "state": {
      "_dom_classes": [],
      "_model_module": "@jupyter-widgets/controls",
      "_model_module_version": "1.5.0",
      "_model_name": "FloatProgressModel",
      "_view_count": null,
      "_view_module": "@jupyter-widgets/controls",
      "_view_module_version": "1.5.0",
      "_view_name": "ProgressView",
      "bar_style": "success",
      "description": "",
      "description_tooltip": null,
      "layout": "IPY_MODEL_fdb56860b0b949d8ba066ed6e6b8131f",
      "max": 1,
      "min": 0,
      "orientation": "horizontal",
      "style": "IPY_MODEL_02ce2e218d844ece840d9b3208987c68",
      "value": 1
     }
    },
    "adf7c3fb7460408e8d9fe274811e1d04": {
     "model_module": "@jupyter-widgets/controls",
     "model_module_version": "1.5.0",
     "model_name": "FloatProgressModel",
     "state": {
      "_dom_classes": [],
      "_model_module": "@jupyter-widgets/controls",
      "_model_module_version": "1.5.0",
      "_model_name": "FloatProgressModel",
      "_view_count": null,
      "_view_module": "@jupyter-widgets/controls",
      "_view_module_version": "1.5.0",
      "_view_name": "ProgressView",
      "bar_style": "success",
      "description": "",
      "description_tooltip": null,
      "layout": "IPY_MODEL_60c55e8c2ae844068d9ff51735fcbc77",
      "max": 2132967,
      "min": 0,
      "orientation": "horizontal",
      "style": "IPY_MODEL_d93bd8dfe0a844398ff96afd147cb97b",
      "value": 2132967
     }
    },
    "ae27a35ea0d34d52ba9f01053d988a40": {
     "model_module": "@jupyter-widgets/controls",
     "model_module_version": "1.5.0",
     "model_name": "HTMLModel",
     "state": {
      "_dom_classes": [],
      "_model_module": "@jupyter-widgets/controls",
      "_model_module_version": "1.5.0",
      "_model_name": "HTMLModel",
      "_view_count": null,
      "_view_module": "@jupyter-widgets/controls",
      "_view_module_version": "1.5.0",
      "_view_name": "HTMLView",
      "description": "",
      "description_tooltip": null,
      "layout": "IPY_MODEL_d41428546d8e45d7b8b7ba9345b22739",
      "placeholder": "​",
      "style": "IPY_MODEL_576eb9eef2a34f54823480fd0edc87b9",
      "value": " 570/570 [00:00&lt;00:00, 26.5kB/s]"
     }
    },
    "b967e587b1d8409fb1cca216a0a0dbcd": {
     "model_module": "@jupyter-widgets/controls",
     "model_module_version": "1.5.0",
     "model_name": "DescriptionStyleModel",
     "state": {
      "_model_module": "@jupyter-widgets/controls",
      "_model_module_version": "1.5.0",
      "_model_name": "DescriptionStyleModel",
      "_view_count": null,
      "_view_module": "@jupyter-widgets/base",
      "_view_module_version": "1.2.0",
      "_view_name": "StyleView",
      "description_width": ""
     }
    },
    "ba3ee99e9d2a441c9aa7a0fbfaebe844": {
     "model_module": "@jupyter-widgets/controls",
     "model_module_version": "1.5.0",
     "model_name": "HTMLModel",
     "state": {
      "_dom_classes": [],
      "_model_module": "@jupyter-widgets/controls",
      "_model_module_version": "1.5.0",
      "_model_name": "HTMLModel",
      "_view_count": null,
      "_view_module": "@jupyter-widgets/controls",
      "_view_module_version": "1.5.0",
      "_view_name": "HTMLView",
      "description": "",
      "description_tooltip": null,
      "layout": "IPY_MODEL_472add15db79411b9d91df2a4b4db37b",
      "placeholder": "​",
      "style": "IPY_MODEL_f7a4b45f1b2642b4b02fdbfe4c019911",
      "value": "train.json: 100%"
     }
    },
    "baa0e5a460dc4b848b2386ae69f3e3d3": {
     "model_module": "@jupyter-widgets/controls",
     "model_module_version": "1.5.0",
     "model_name": "FloatProgressModel",
     "state": {
      "_dom_classes": [],
      "_model_module": "@jupyter-widgets/controls",
      "_model_module_version": "1.5.0",
      "_model_name": "FloatProgressModel",
      "_view_count": null,
      "_view_module": "@jupyter-widgets/controls",
      "_view_module_version": "1.5.0",
      "_view_name": "ProgressView",
      "bar_style": "success",
      "description": "",
      "description_tooltip": null,
      "layout": "IPY_MODEL_86357b7baa2b4e5f891ef9116905ae1f",
      "max": 570,
      "min": 0,
      "orientation": "horizontal",
      "style": "IPY_MODEL_4ffe43597de64eeb9a3d620f20b81cc1",
      "value": 570
     }
    },
    "bba835b9e7dd463e855b89f07da4aef3": {
     "model_module": "@jupyter-widgets/base",
     "model_module_version": "1.2.0",
     "model_name": "LayoutModel",
     "state": {
      "_model_module": "@jupyter-widgets/base",
      "_model_module_version": "1.2.0",
      "_model_name": "LayoutModel",
      "_view_count": null,
      "_view_module": "@jupyter-widgets/base",
      "_view_module_version": "1.2.0",
      "_view_name": "LayoutView",
      "align_content": null,
      "align_items": null,
      "align_self": null,
      "border": null,
      "bottom": null,
      "display": null,
      "flex": null,
      "flex_flow": null,
      "grid_area": null,
      "grid_auto_columns": null,
      "grid_auto_flow": null,
      "grid_auto_rows": null,
      "grid_column": null,
      "grid_gap": null,
      "grid_row": null,
      "grid_template_areas": null,
      "grid_template_columns": null,
      "grid_template_rows": null,
      "height": null,
      "justify_content": null,
      "justify_items": null,
      "left": null,
      "margin": null,
      "max_height": null,
      "max_width": null,
      "min_height": null,
      "min_width": null,
      "object_fit": null,
      "object_position": null,
      "order": null,
      "overflow": null,
      "overflow_x": null,
      "overflow_y": null,
      "padding": null,
      "right": null,
      "top": null,
      "visibility": null,
      "width": null
     }
    },
    "bd30b3dea8bf46ca9fc8c903e0eab588": {
     "model_module": "@jupyter-widgets/base",
     "model_module_version": "1.2.0",
     "model_name": "LayoutModel",
     "state": {
      "_model_module": "@jupyter-widgets/base",
      "_model_module_version": "1.2.0",
      "_model_name": "LayoutModel",
      "_view_count": null,
      "_view_module": "@jupyter-widgets/base",
      "_view_module_version": "1.2.0",
      "_view_name": "LayoutView",
      "align_content": null,
      "align_items": null,
      "align_self": null,
      "border": null,
      "bottom": null,
      "display": null,
      "flex": null,
      "flex_flow": null,
      "grid_area": null,
      "grid_auto_columns": null,
      "grid_auto_flow": null,
      "grid_auto_rows": null,
      "grid_column": null,
      "grid_gap": null,
      "grid_row": null,
      "grid_template_areas": null,
      "grid_template_columns": null,
      "grid_template_rows": null,
      "height": null,
      "justify_content": null,
      "justify_items": null,
      "left": null,
      "margin": null,
      "max_height": null,
      "max_width": null,
      "min_height": null,
      "min_width": null,
      "object_fit": null,
      "object_position": null,
      "order": null,
      "overflow": null,
      "overflow_x": null,
      "overflow_y": null,
      "padding": null,
      "right": null,
      "top": null,
      "visibility": null,
      "width": null
     }
    },
    "c0d7850d6ca94c259fce12d44a5500c8": {
     "model_module": "@jupyter-widgets/controls",
     "model_module_version": "1.5.0",
     "model_name": "DescriptionStyleModel",
     "state": {
      "_model_module": "@jupyter-widgets/controls",
      "_model_module_version": "1.5.0",
      "_model_name": "DescriptionStyleModel",
      "_view_count": null,
      "_view_module": "@jupyter-widgets/base",
      "_view_module_version": "1.2.0",
      "_view_name": "StyleView",
      "description_width": ""
     }
    },
    "c1189f3bcb804383a2727f1f158ce2c9": {
     "model_module": "@jupyter-widgets/controls",
     "model_module_version": "1.5.0",
     "model_name": "HTMLModel",
     "state": {
      "_dom_classes": [],
      "_model_module": "@jupyter-widgets/controls",
      "_model_module_version": "1.5.0",
      "_model_name": "HTMLModel",
      "_view_count": null,
      "_view_module": "@jupyter-widgets/controls",
      "_view_module_version": "1.5.0",
      "_view_name": "HTMLView",
      "description": "",
      "description_tooltip": null,
      "layout": "IPY_MODEL_4a4b24cf631746efbd9f5deba1ba0c0b",
      "placeholder": "​",
      "style": "IPY_MODEL_58a1a9d4403743b7bf2405d502b4c6ab",
      "value": "val.json: 100%"
     }
    },
    "c24490c70ef44daa93150a1c631425c6": {
     "model_module": "@jupyter-widgets/base",
     "model_module_version": "1.2.0",
     "model_name": "LayoutModel",
     "state": {
      "_model_module": "@jupyter-widgets/base",
      "_model_module_version": "1.2.0",
      "_model_name": "LayoutModel",
      "_view_count": null,
      "_view_module": "@jupyter-widgets/base",
      "_view_module_version": "1.2.0",
      "_view_name": "LayoutView",
      "align_content": null,
      "align_items": null,
      "align_self": null,
      "border": null,
      "bottom": null,
      "display": null,
      "flex": null,
      "flex_flow": null,
      "grid_area": null,
      "grid_auto_columns": null,
      "grid_auto_flow": null,
      "grid_auto_rows": null,
      "grid_column": null,
      "grid_gap": null,
      "grid_row": null,
      "grid_template_areas": null,
      "grid_template_columns": null,
      "grid_template_rows": null,
      "height": null,
      "justify_content": null,
      "justify_items": null,
      "left": null,
      "margin": null,
      "max_height": null,
      "max_width": null,
      "min_height": null,
      "min_width": null,
      "object_fit": null,
      "object_position": null,
      "order": null,
      "overflow": null,
      "overflow_x": null,
      "overflow_y": null,
      "padding": null,
      "right": null,
      "top": null,
      "visibility": null,
      "width": null
     }
    },
    "c251e94aa7604b43a2689ad4ad006fd0": {
     "model_module": "@jupyter-widgets/controls",
     "model_module_version": "1.5.0",
     "model_name": "DescriptionStyleModel",
     "state": {
      "_model_module": "@jupyter-widgets/controls",
      "_model_module_version": "1.5.0",
      "_model_name": "DescriptionStyleModel",
      "_view_count": null,
      "_view_module": "@jupyter-widgets/base",
      "_view_module_version": "1.2.0",
      "_view_name": "StyleView",
      "description_width": ""
     }
    },
    "c274239822f5484890fe16980e113e95": {
     "model_module": "@jupyter-widgets/base",
     "model_module_version": "1.2.0",
     "model_name": "LayoutModel",
     "state": {
      "_model_module": "@jupyter-widgets/base",
      "_model_module_version": "1.2.0",
      "_model_name": "LayoutModel",
      "_view_count": null,
      "_view_module": "@jupyter-widgets/base",
      "_view_module_version": "1.2.0",
      "_view_name": "LayoutView",
      "align_content": null,
      "align_items": null,
      "align_self": null,
      "border": null,
      "bottom": null,
      "display": null,
      "flex": null,
      "flex_flow": null,
      "grid_area": null,
      "grid_auto_columns": null,
      "grid_auto_flow": null,
      "grid_auto_rows": null,
      "grid_column": null,
      "grid_gap": null,
      "grid_row": null,
      "grid_template_areas": null,
      "grid_template_columns": null,
      "grid_template_rows": null,
      "height": null,
      "justify_content": null,
      "justify_items": null,
      "left": null,
      "margin": null,
      "max_height": null,
      "max_width": null,
      "min_height": null,
      "min_width": null,
      "object_fit": null,
      "object_position": null,
      "order": null,
      "overflow": null,
      "overflow_x": null,
      "overflow_y": null,
      "padding": null,
      "right": null,
      "top": null,
      "visibility": null,
      "width": "20px"
     }
    },
    "c2ea561b22304965b37f618cd0f9cfc3": {
     "model_module": "@jupyter-widgets/base",
     "model_module_version": "1.2.0",
     "model_name": "LayoutModel",
     "state": {
      "_model_module": "@jupyter-widgets/base",
      "_model_module_version": "1.2.0",
      "_model_name": "LayoutModel",
      "_view_count": null,
      "_view_module": "@jupyter-widgets/base",
      "_view_module_version": "1.2.0",
      "_view_name": "LayoutView",
      "align_content": null,
      "align_items": null,
      "align_self": null,
      "border": null,
      "bottom": null,
      "display": null,
      "flex": null,
      "flex_flow": null,
      "grid_area": null,
      "grid_auto_columns": null,
      "grid_auto_flow": null,
      "grid_auto_rows": null,
      "grid_column": null,
      "grid_gap": null,
      "grid_row": null,
      "grid_template_areas": null,
      "grid_template_columns": null,
      "grid_template_rows": null,
      "height": null,
      "justify_content": null,
      "justify_items": null,
      "left": null,
      "margin": null,
      "max_height": null,
      "max_width": null,
      "min_height": null,
      "min_width": null,
      "object_fit": null,
      "object_position": null,
      "order": null,
      "overflow": null,
      "overflow_x": null,
      "overflow_y": null,
      "padding": null,
      "right": null,
      "top": null,
      "visibility": null,
      "width": null
     }
    },
    "c4e1b9767b624bd1816e9dbe156ed4ab": {
     "model_module": "@jupyter-widgets/controls",
     "model_module_version": "1.5.0",
     "model_name": "ProgressStyleModel",
     "state": {
      "_model_module": "@jupyter-widgets/controls",
      "_model_module_version": "1.5.0",
      "_model_name": "ProgressStyleModel",
      "_view_count": null,
      "_view_module": "@jupyter-widgets/base",
      "_view_module_version": "1.2.0",
      "_view_name": "StyleView",
      "bar_color": null,
      "description_width": ""
     }
    },
    "c5ed3e63827340758be0fc35d05b87ed": {
     "model_module": "@jupyter-widgets/controls",
     "model_module_version": "1.5.0",
     "model_name": "HTMLModel",
     "state": {
      "_dom_classes": [],
      "_model_module": "@jupyter-widgets/controls",
      "_model_module_version": "1.5.0",
      "_model_name": "HTMLModel",
      "_view_count": null,
      "_view_module": "@jupyter-widgets/controls",
      "_view_module_version": "1.5.0",
      "_view_name": "HTMLView",
      "description": "",
      "description_tooltip": null,
      "layout": "IPY_MODEL_037162f41603447b9550b9b1b96e3a65",
      "placeholder": "​",
      "style": "IPY_MODEL_e5e5b24a94b54bc5b9c39ac307e5417d",
      "value": "Generating train split: "
     }
    },
    "c7c4cd29497c4794a342b6ac8032436a": {
     "model_module": "@jupyter-widgets/controls",
     "model_module_version": "1.5.0",
     "model_name": "FloatProgressModel",
     "state": {
      "_dom_classes": [],
      "_model_module": "@jupyter-widgets/controls",
      "_model_module_version": "1.5.0",
      "_model_name": "FloatProgressModel",
      "_view_count": null,
      "_view_module": "@jupyter-widgets/controls",
      "_view_module_version": "1.5.0",
      "_view_name": "ProgressView",
      "bar_style": "success",
      "description": "",
      "description_tooltip": null,
      "layout": "IPY_MODEL_71f68b322a9749e4b0c54031726e72d4",
      "max": 20810,
      "min": 0,
      "orientation": "horizontal",
      "style": "IPY_MODEL_6af56aa1833c45008ceaba34e55b0787",
      "value": 20810
     }
    },
    "ca08723129f24f669014da1fe0257385": {
     "model_module": "@jupyter-widgets/base",
     "model_module_version": "1.2.0",
     "model_name": "LayoutModel",
     "state": {
      "_model_module": "@jupyter-widgets/base",
      "_model_module_version": "1.2.0",
      "_model_name": "LayoutModel",
      "_view_count": null,
      "_view_module": "@jupyter-widgets/base",
      "_view_module_version": "1.2.0",
      "_view_name": "LayoutView",
      "align_content": null,
      "align_items": null,
      "align_self": null,
      "border": null,
      "bottom": null,
      "display": null,
      "flex": null,
      "flex_flow": null,
      "grid_area": null,
      "grid_auto_columns": null,
      "grid_auto_flow": null,
      "grid_auto_rows": null,
      "grid_column": null,
      "grid_gap": null,
      "grid_row": null,
      "grid_template_areas": null,
      "grid_template_columns": null,
      "grid_template_rows": null,
      "height": null,
      "justify_content": null,
      "justify_items": null,
      "left": null,
      "margin": null,
      "max_height": null,
      "max_width": null,
      "min_height": null,
      "min_width": null,
      "object_fit": null,
      "object_position": null,
      "order": null,
      "overflow": null,
      "overflow_x": null,
      "overflow_y": null,
      "padding": null,
      "right": null,
      "top": null,
      "visibility": null,
      "width": null
     }
    },
    "cce3a0bd83f64b988df55db20e793429": {
     "model_module": "@jupyter-widgets/base",
     "model_module_version": "1.2.0",
     "model_name": "LayoutModel",
     "state": {
      "_model_module": "@jupyter-widgets/base",
      "_model_module_version": "1.2.0",
      "_model_name": "LayoutModel",
      "_view_count": null,
      "_view_module": "@jupyter-widgets/base",
      "_view_module_version": "1.2.0",
      "_view_name": "LayoutView",
      "align_content": null,
      "align_items": null,
      "align_self": null,
      "border": null,
      "bottom": null,
      "display": null,
      "flex": null,
      "flex_flow": null,
      "grid_area": null,
      "grid_auto_columns": null,
      "grid_auto_flow": null,
      "grid_auto_rows": null,
      "grid_column": null,
      "grid_gap": null,
      "grid_row": null,
      "grid_template_areas": null,
      "grid_template_columns": null,
      "grid_template_rows": null,
      "height": null,
      "justify_content": null,
      "justify_items": null,
      "left": null,
      "margin": null,
      "max_height": null,
      "max_width": null,
      "min_height": null,
      "min_width": null,
      "object_fit": null,
      "object_position": null,
      "order": null,
      "overflow": null,
      "overflow_x": null,
      "overflow_y": null,
      "padding": null,
      "right": null,
      "top": null,
      "visibility": null,
      "width": null
     }
    },
    "cdf496bc212442d78f7b6acb827c638f": {
     "model_module": "@jupyter-widgets/controls",
     "model_module_version": "1.5.0",
     "model_name": "DescriptionStyleModel",
     "state": {
      "_model_module": "@jupyter-widgets/controls",
      "_model_module_version": "1.5.0",
      "_model_name": "DescriptionStyleModel",
      "_view_count": null,
      "_view_module": "@jupyter-widgets/base",
      "_view_module_version": "1.2.0",
      "_view_name": "StyleView",
      "description_width": ""
     }
    },
    "ce7fbdc08f604768b96e4e4855485aa2": {
     "model_module": "@jupyter-widgets/controls",
     "model_module_version": "1.5.0",
     "model_name": "ProgressStyleModel",
     "state": {
      "_model_module": "@jupyter-widgets/controls",
      "_model_module_version": "1.5.0",
      "_model_name": "ProgressStyleModel",
      "_view_count": null,
      "_view_module": "@jupyter-widgets/base",
      "_view_module_version": "1.2.0",
      "_view_name": "StyleView",
      "bar_color": null,
      "description_width": ""
     }
    },
    "cef2b21e8011497f8369717671a7be0e": {
     "model_module": "@jupyter-widgets/controls",
     "model_module_version": "1.5.0",
     "model_name": "DescriptionStyleModel",
     "state": {
      "_model_module": "@jupyter-widgets/controls",
      "_model_module_version": "1.5.0",
      "_model_name": "DescriptionStyleModel",
      "_view_count": null,
      "_view_module": "@jupyter-widgets/base",
      "_view_module_version": "1.2.0",
      "_view_name": "StyleView",
      "description_width": ""
     }
    },
    "cf6ec8c453e24672827600dac6587394": {
     "model_module": "@jupyter-widgets/controls",
     "model_module_version": "1.5.0",
     "model_name": "FloatProgressModel",
     "state": {
      "_dom_classes": [],
      "_model_module": "@jupyter-widgets/controls",
      "_model_module_version": "1.5.0",
      "_model_name": "FloatProgressModel",
      "_view_count": null,
      "_view_module": "@jupyter-widgets/controls",
      "_view_module_version": "1.5.0",
      "_view_name": "ProgressView",
      "bar_style": "success",
      "description": "",
      "description_tooltip": null,
      "layout": "IPY_MODEL_dc5d2c5893b4417980f16a7b598c72ab",
      "max": 437,
      "min": 0,
      "orientation": "horizontal",
      "style": "IPY_MODEL_8e0aaac368ae4632a8cd2dd7136f3b19",
      "value": 437
     }
    },
    "cf9cc2fd64e04f3e95fe2fda4c15c049": {
     "model_module": "@jupyter-widgets/controls",
     "model_module_version": "1.5.0",
     "model_name": "HTMLModel",
     "state": {
      "_dom_classes": [],
      "_model_module": "@jupyter-widgets/controls",
      "_model_module_version": "1.5.0",
      "_model_name": "HTMLModel",
      "_view_count": null,
      "_view_module": "@jupyter-widgets/controls",
      "_view_module_version": "1.5.0",
      "_view_name": "HTMLView",
      "description": "",
      "description_tooltip": null,
      "layout": "IPY_MODEL_e182b9b24f9b48aba7fa3038a87ca7ca",
      "placeholder": "​",
      "style": "IPY_MODEL_902231ab7300442987a1097a0e66c92a",
      "value": "tokenizer.json: 100%"
     }
    },
    "cfb452ae6d9b471a9abc0d7cf3485665": {
     "model_module": "@jupyter-widgets/controls",
     "model_module_version": "1.5.0",
     "model_name": "HTMLModel",
     "state": {
      "_dom_classes": [],
      "_model_module": "@jupyter-widgets/controls",
      "_model_module_version": "1.5.0",
      "_model_name": "HTMLModel",
      "_view_count": null,
      "_view_module": "@jupyter-widgets/controls",
      "_view_module_version": "1.5.0",
      "_view_name": "HTMLView",
      "description": "",
      "description_tooltip": null,
      "layout": "IPY_MODEL_d66c7197f3a141fb8c2a5940580b9499",
      "placeholder": "​",
      "style": "IPY_MODEL_b967e587b1d8409fb1cca216a0a0dbcd",
      "value": "test.json: 100%"
     }
    },
    "d0cce743439540f7820d0f176b1051a2": {
     "model_module": "@jupyter-widgets/base",
     "model_module_version": "1.2.0",
     "model_name": "LayoutModel",
     "state": {
      "_model_module": "@jupyter-widgets/base",
      "_model_module_version": "1.2.0",
      "_model_name": "LayoutModel",
      "_view_count": null,
      "_view_module": "@jupyter-widgets/base",
      "_view_module_version": "1.2.0",
      "_view_name": "LayoutView",
      "align_content": null,
      "align_items": null,
      "align_self": null,
      "border": null,
      "bottom": null,
      "display": null,
      "flex": null,
      "flex_flow": null,
      "grid_area": null,
      "grid_auto_columns": null,
      "grid_auto_flow": null,
      "grid_auto_rows": null,
      "grid_column": null,
      "grid_gap": null,
      "grid_row": null,
      "grid_template_areas": null,
      "grid_template_columns": null,
      "grid_template_rows": null,
      "height": null,
      "justify_content": null,
      "justify_items": null,
      "left": null,
      "margin": null,
      "max_height": null,
      "max_width": null,
      "min_height": null,
      "min_width": null,
      "object_fit": null,
      "object_position": null,
      "order": null,
      "overflow": null,
      "overflow_x": null,
      "overflow_y": null,
      "padding": null,
      "right": null,
      "top": null,
      "visibility": null,
      "width": null
     }
    },
    "d163029990fe4b89a60356d97e1b4355": {
     "model_module": "@jupyter-widgets/base",
     "model_module_version": "1.2.0",
     "model_name": "LayoutModel",
     "state": {
      "_model_module": "@jupyter-widgets/base",
      "_model_module_version": "1.2.0",
      "_model_name": "LayoutModel",
      "_view_count": null,
      "_view_module": "@jupyter-widgets/base",
      "_view_module_version": "1.2.0",
      "_view_name": "LayoutView",
      "align_content": null,
      "align_items": null,
      "align_self": null,
      "border": null,
      "bottom": null,
      "display": null,
      "flex": null,
      "flex_flow": null,
      "grid_area": null,
      "grid_auto_columns": null,
      "grid_auto_flow": null,
      "grid_auto_rows": null,
      "grid_column": null,
      "grid_gap": null,
      "grid_row": null,
      "grid_template_areas": null,
      "grid_template_columns": null,
      "grid_template_rows": null,
      "height": null,
      "justify_content": null,
      "justify_items": null,
      "left": null,
      "margin": null,
      "max_height": null,
      "max_width": null,
      "min_height": null,
      "min_width": null,
      "object_fit": null,
      "object_position": null,
      "order": null,
      "overflow": null,
      "overflow_x": null,
      "overflow_y": null,
      "padding": null,
      "right": null,
      "top": null,
      "visibility": null,
      "width": null
     }
    },
    "d245f2f17e8b496fab06d6341a9d97ff": {
     "model_module": "@jupyter-widgets/base",
     "model_module_version": "1.2.0",
     "model_name": "LayoutModel",
     "state": {
      "_model_module": "@jupyter-widgets/base",
      "_model_module_version": "1.2.0",
      "_model_name": "LayoutModel",
      "_view_count": null,
      "_view_module": "@jupyter-widgets/base",
      "_view_module_version": "1.2.0",
      "_view_name": "LayoutView",
      "align_content": null,
      "align_items": null,
      "align_self": null,
      "border": null,
      "bottom": null,
      "display": null,
      "flex": null,
      "flex_flow": null,
      "grid_area": null,
      "grid_auto_columns": null,
      "grid_auto_flow": null,
      "grid_auto_rows": null,
      "grid_column": null,
      "grid_gap": null,
      "grid_row": null,
      "grid_template_areas": null,
      "grid_template_columns": null,
      "grid_template_rows": null,
      "height": null,
      "justify_content": null,
      "justify_items": null,
      "left": null,
      "margin": null,
      "max_height": null,
      "max_width": null,
      "min_height": null,
      "min_width": null,
      "object_fit": null,
      "object_position": null,
      "order": null,
      "overflow": null,
      "overflow_x": null,
      "overflow_y": null,
      "padding": null,
      "right": null,
      "top": null,
      "visibility": null,
      "width": null
     }
    },
    "d41428546d8e45d7b8b7ba9345b22739": {
     "model_module": "@jupyter-widgets/base",
     "model_module_version": "1.2.0",
     "model_name": "LayoutModel",
     "state": {
      "_model_module": "@jupyter-widgets/base",
      "_model_module_version": "1.2.0",
      "_model_name": "LayoutModel",
      "_view_count": null,
      "_view_module": "@jupyter-widgets/base",
      "_view_module_version": "1.2.0",
      "_view_name": "LayoutView",
      "align_content": null,
      "align_items": null,
      "align_self": null,
      "border": null,
      "bottom": null,
      "display": null,
      "flex": null,
      "flex_flow": null,
      "grid_area": null,
      "grid_auto_columns": null,
      "grid_auto_flow": null,
      "grid_auto_rows": null,
      "grid_column": null,
      "grid_gap": null,
      "grid_row": null,
      "grid_template_areas": null,
      "grid_template_columns": null,
      "grid_template_rows": null,
      "height": null,
      "justify_content": null,
      "justify_items": null,
      "left": null,
      "margin": null,
      "max_height": null,
      "max_width": null,
      "min_height": null,
      "min_width": null,
      "object_fit": null,
      "object_position": null,
      "order": null,
      "overflow": null,
      "overflow_x": null,
      "overflow_y": null,
      "padding": null,
      "right": null,
      "top": null,
      "visibility": null,
      "width": null
     }
    },
    "d66c7197f3a141fb8c2a5940580b9499": {
     "model_module": "@jupyter-widgets/base",
     "model_module_version": "1.2.0",
     "model_name": "LayoutModel",
     "state": {
      "_model_module": "@jupyter-widgets/base",
      "_model_module_version": "1.2.0",
      "_model_name": "LayoutModel",
      "_view_count": null,
      "_view_module": "@jupyter-widgets/base",
      "_view_module_version": "1.2.0",
      "_view_name": "LayoutView",
      "align_content": null,
      "align_items": null,
      "align_self": null,
      "border": null,
      "bottom": null,
      "display": null,
      "flex": null,
      "flex_flow": null,
      "grid_area": null,
      "grid_auto_columns": null,
      "grid_auto_flow": null,
      "grid_auto_rows": null,
      "grid_column": null,
      "grid_gap": null,
      "grid_row": null,
      "grid_template_areas": null,
      "grid_template_columns": null,
      "grid_template_rows": null,
      "height": null,
      "justify_content": null,
      "justify_items": null,
      "left": null,
      "margin": null,
      "max_height": null,
      "max_width": null,
      "min_height": null,
      "min_width": null,
      "object_fit": null,
      "object_position": null,
      "order": null,
      "overflow": null,
      "overflow_x": null,
      "overflow_y": null,
      "padding": null,
      "right": null,
      "top": null,
      "visibility": null,
      "width": null
     }
    },
    "d82f863af6c741f380345d59a38eccf3": {
     "model_module": "@jupyter-widgets/controls",
     "model_module_version": "1.5.0",
     "model_name": "HTMLModel",
     "state": {
      "_dom_classes": [],
      "_model_module": "@jupyter-widgets/controls",
      "_model_module_version": "1.5.0",
      "_model_name": "HTMLModel",
      "_view_count": null,
      "_view_module": "@jupyter-widgets/controls",
      "_view_module_version": "1.5.0",
      "_view_name": "HTMLView",
      "description": "",
      "description_tooltip": null,
      "layout": "IPY_MODEL_52e3005f4e1a49b0b0cd5a3724f62651",
      "placeholder": "​",
      "style": "IPY_MODEL_dcb315c07d944bd68439ee596919a547",
      "value": "tokenizer.json: 100%"
     }
    },
    "d93bd8dfe0a844398ff96afd147cb97b": {
     "model_module": "@jupyter-widgets/controls",
     "model_module_version": "1.5.0",
     "model_name": "ProgressStyleModel",
     "state": {
      "_model_module": "@jupyter-widgets/controls",
      "_model_module_version": "1.5.0",
      "_model_name": "ProgressStyleModel",
      "_view_count": null,
      "_view_module": "@jupyter-widgets/base",
      "_view_module_version": "1.2.0",
      "_view_name": "StyleView",
      "bar_color": null,
      "description_width": ""
     }
    },
    "dc15b51ad2c2468cb02a79f7a7c7522f": {
     "model_module": "@jupyter-widgets/controls",
     "model_module_version": "1.5.0",
     "model_name": "DescriptionStyleModel",
     "state": {
      "_model_module": "@jupyter-widgets/controls",
      "_model_module_version": "1.5.0",
      "_model_name": "DescriptionStyleModel",
      "_view_count": null,
      "_view_module": "@jupyter-widgets/base",
      "_view_module_version": "1.2.0",
      "_view_name": "StyleView",
      "description_width": ""
     }
    },
    "dc5d2c5893b4417980f16a7b598c72ab": {
     "model_module": "@jupyter-widgets/base",
     "model_module_version": "1.2.0",
     "model_name": "LayoutModel",
     "state": {
      "_model_module": "@jupyter-widgets/base",
      "_model_module_version": "1.2.0",
      "_model_name": "LayoutModel",
      "_view_count": null,
      "_view_module": "@jupyter-widgets/base",
      "_view_module_version": "1.2.0",
      "_view_name": "LayoutView",
      "align_content": null,
      "align_items": null,
      "align_self": null,
      "border": null,
      "bottom": null,
      "display": null,
      "flex": null,
      "flex_flow": null,
      "grid_area": null,
      "grid_auto_columns": null,
      "grid_auto_flow": null,
      "grid_auto_rows": null,
      "grid_column": null,
      "grid_gap": null,
      "grid_row": null,
      "grid_template_areas": null,
      "grid_template_columns": null,
      "grid_template_rows": null,
      "height": null,
      "justify_content": null,
      "justify_items": null,
      "left": null,
      "margin": null,
      "max_height": null,
      "max_width": null,
      "min_height": null,
      "min_width": null,
      "object_fit": null,
      "object_position": null,
      "order": null,
      "overflow": null,
      "overflow_x": null,
      "overflow_y": null,
      "padding": null,
      "right": null,
      "top": null,
      "visibility": null,
      "width": null
     }
    },
    "dcb315c07d944bd68439ee596919a547": {
     "model_module": "@jupyter-widgets/controls",
     "model_module_version": "1.5.0",
     "model_name": "DescriptionStyleModel",
     "state": {
      "_model_module": "@jupyter-widgets/controls",
      "_model_module_version": "1.5.0",
      "_model_name": "DescriptionStyleModel",
      "_view_count": null,
      "_view_module": "@jupyter-widgets/base",
      "_view_module_version": "1.2.0",
      "_view_name": "StyleView",
      "description_width": ""
     }
    },
    "e182b9b24f9b48aba7fa3038a87ca7ca": {
     "model_module": "@jupyter-widgets/base",
     "model_module_version": "1.2.0",
     "model_name": "LayoutModel",
     "state": {
      "_model_module": "@jupyter-widgets/base",
      "_model_module_version": "1.2.0",
      "_model_name": "LayoutModel",
      "_view_count": null,
      "_view_module": "@jupyter-widgets/base",
      "_view_module_version": "1.2.0",
      "_view_name": "LayoutView",
      "align_content": null,
      "align_items": null,
      "align_self": null,
      "border": null,
      "bottom": null,
      "display": null,
      "flex": null,
      "flex_flow": null,
      "grid_area": null,
      "grid_auto_columns": null,
      "grid_auto_flow": null,
      "grid_auto_rows": null,
      "grid_column": null,
      "grid_gap": null,
      "grid_row": null,
      "grid_template_areas": null,
      "grid_template_columns": null,
      "grid_template_rows": null,
      "height": null,
      "justify_content": null,
      "justify_items": null,
      "left": null,
      "margin": null,
      "max_height": null,
      "max_width": null,
      "min_height": null,
      "min_width": null,
      "object_fit": null,
      "object_position": null,
      "order": null,
      "overflow": null,
      "overflow_x": null,
      "overflow_y": null,
      "padding": null,
      "right": null,
      "top": null,
      "visibility": null,
      "width": null
     }
    },
    "e5a12de47ba64ccfb86f66d3acaa0f69": {
     "model_module": "@jupyter-widgets/controls",
     "model_module_version": "1.5.0",
     "model_name": "HBoxModel",
     "state": {
      "_dom_classes": [],
      "_model_module": "@jupyter-widgets/controls",
      "_model_module_version": "1.5.0",
      "_model_name": "HBoxModel",
      "_view_count": null,
      "_view_module": "@jupyter-widgets/controls",
      "_view_module_version": "1.5.0",
      "_view_name": "HBoxView",
      "box_style": "",
      "children": [
       "IPY_MODEL_d82f863af6c741f380345d59a38eccf3",
       "IPY_MODEL_a8c17dcc1dc449f99a1bf458fc3ab049",
       "IPY_MODEL_39c61765003241e0855e94e4621106f0"
      ],
      "layout": "IPY_MODEL_20fa2d6111214d0b8383aa5f812775bc"
     }
    },
    "e5e5b24a94b54bc5b9c39ac307e5417d": {
     "model_module": "@jupyter-widgets/controls",
     "model_module_version": "1.5.0",
     "model_name": "DescriptionStyleModel",
     "state": {
      "_model_module": "@jupyter-widgets/controls",
      "_model_module_version": "1.5.0",
      "_model_name": "DescriptionStyleModel",
      "_view_count": null,
      "_view_module": "@jupyter-widgets/base",
      "_view_module_version": "1.2.0",
      "_view_name": "StyleView",
      "description_width": ""
     }
    },
    "e81dbfb2bb3b4fb0907543940e402303": {
     "model_module": "@jupyter-widgets/base",
     "model_module_version": "1.2.0",
     "model_name": "LayoutModel",
     "state": {
      "_model_module": "@jupyter-widgets/base",
      "_model_module_version": "1.2.0",
      "_model_name": "LayoutModel",
      "_view_count": null,
      "_view_module": "@jupyter-widgets/base",
      "_view_module_version": "1.2.0",
      "_view_name": "LayoutView",
      "align_content": null,
      "align_items": null,
      "align_self": null,
      "border": null,
      "bottom": null,
      "display": null,
      "flex": null,
      "flex_flow": null,
      "grid_area": null,
      "grid_auto_columns": null,
      "grid_auto_flow": null,
      "grid_auto_rows": null,
      "grid_column": null,
      "grid_gap": null,
      "grid_row": null,
      "grid_template_areas": null,
      "grid_template_columns": null,
      "grid_template_rows": null,
      "height": null,
      "justify_content": null,
      "justify_items": null,
      "left": null,
      "margin": null,
      "max_height": null,
      "max_width": null,
      "min_height": null,
      "min_width": null,
      "object_fit": null,
      "object_position": null,
      "order": null,
      "overflow": null,
      "overflow_x": null,
      "overflow_y": null,
      "padding": null,
      "right": null,
      "top": null,
      "visibility": null,
      "width": null
     }
    },
    "ef7080d41b77414a87e8706b0718ffe1": {
     "model_module": "@jupyter-widgets/controls",
     "model_module_version": "1.5.0",
     "model_name": "FloatProgressModel",
     "state": {
      "_dom_classes": [],
      "_model_module": "@jupyter-widgets/controls",
      "_model_module_version": "1.5.0",
      "_model_name": "FloatProgressModel",
      "_view_count": null,
      "_view_module": "@jupyter-widgets/controls",
      "_view_module_version": "1.5.0",
      "_view_name": "ProgressView",
      "bar_style": "success",
      "description": "",
      "description_tooltip": null,
      "layout": "IPY_MODEL_f2a947989a5a4c8e8b7a2b7094bff45d",
      "max": 694,
      "min": 0,
      "orientation": "horizontal",
      "style": "IPY_MODEL_1ef603e7aee74242ad090627535bc753",
      "value": 694
     }
    },
    "ef98394ab200409099fd26e610dedf8c": {
     "model_module": "@jupyter-widgets/controls",
     "model_module_version": "1.5.0",
     "model_name": "HBoxModel",
     "state": {
      "_dom_classes": [],
      "_model_module": "@jupyter-widgets/controls",
      "_model_module_version": "1.5.0",
      "_model_name": "HBoxModel",
      "_view_count": null,
      "_view_module": "@jupyter-widgets/controls",
      "_view_module_version": "1.5.0",
      "_view_name": "HBoxView",
      "box_style": "",
      "children": [
       "IPY_MODEL_96316b9e77ef4766934f03ba08ea7920",
       "IPY_MODEL_baa0e5a460dc4b848b2386ae69f3e3d3",
       "IPY_MODEL_ae27a35ea0d34d52ba9f01053d988a40"
      ],
      "layout": "IPY_MODEL_5978808734124efd9c70d97dc771047d"
     }
    },
    "f0eff2c73b2a45f2b906c3b404f4be49": {
     "model_module": "@jupyter-widgets/base",
     "model_module_version": "1.2.0",
     "model_name": "LayoutModel",
     "state": {
      "_model_module": "@jupyter-widgets/base",
      "_model_module_version": "1.2.0",
      "_model_name": "LayoutModel",
      "_view_count": null,
      "_view_module": "@jupyter-widgets/base",
      "_view_module_version": "1.2.0",
      "_view_name": "LayoutView",
      "align_content": null,
      "align_items": null,
      "align_self": null,
      "border": null,
      "bottom": null,
      "display": null,
      "flex": null,
      "flex_flow": null,
      "grid_area": null,
      "grid_auto_columns": null,
      "grid_auto_flow": null,
      "grid_auto_rows": null,
      "grid_column": null,
      "grid_gap": null,
      "grid_row": null,
      "grid_template_areas": null,
      "grid_template_columns": null,
      "grid_template_rows": null,
      "height": null,
      "justify_content": null,
      "justify_items": null,
      "left": null,
      "margin": null,
      "max_height": null,
      "max_width": null,
      "min_height": null,
      "min_width": null,
      "object_fit": null,
      "object_position": null,
      "order": null,
      "overflow": null,
      "overflow_x": null,
      "overflow_y": null,
      "padding": null,
      "right": null,
      "top": null,
      "visibility": null,
      "width": null
     }
    },
    "f16f41226f2143f287244867428f13e1": {
     "model_module": "@jupyter-widgets/controls",
     "model_module_version": "1.5.0",
     "model_name": "DescriptionStyleModel",
     "state": {
      "_model_module": "@jupyter-widgets/controls",
      "_model_module_version": "1.5.0",
      "_model_name": "DescriptionStyleModel",
      "_view_count": null,
      "_view_module": "@jupyter-widgets/base",
      "_view_module_version": "1.2.0",
      "_view_name": "StyleView",
      "description_width": ""
     }
    },
    "f1da9c6395a3433bae47427ded3e7f46": {
     "model_module": "@jupyter-widgets/base",
     "model_module_version": "1.2.0",
     "model_name": "LayoutModel",
     "state": {
      "_model_module": "@jupyter-widgets/base",
      "_model_module_version": "1.2.0",
      "_model_name": "LayoutModel",
      "_view_count": null,
      "_view_module": "@jupyter-widgets/base",
      "_view_module_version": "1.2.0",
      "_view_name": "LayoutView",
      "align_content": null,
      "align_items": null,
      "align_self": null,
      "border": null,
      "bottom": null,
      "display": null,
      "flex": null,
      "flex_flow": null,
      "grid_area": null,
      "grid_auto_columns": null,
      "grid_auto_flow": null,
      "grid_auto_rows": null,
      "grid_column": null,
      "grid_gap": null,
      "grid_row": null,
      "grid_template_areas": null,
      "grid_template_columns": null,
      "grid_template_rows": null,
      "height": null,
      "justify_content": null,
      "justify_items": null,
      "left": null,
      "margin": null,
      "max_height": null,
      "max_width": null,
      "min_height": null,
      "min_width": null,
      "object_fit": null,
      "object_position": null,
      "order": null,
      "overflow": null,
      "overflow_x": null,
      "overflow_y": null,
      "padding": null,
      "right": null,
      "top": null,
      "visibility": null,
      "width": null
     }
    },
    "f2a947989a5a4c8e8b7a2b7094bff45d": {
     "model_module": "@jupyter-widgets/base",
     "model_module_version": "1.2.0",
     "model_name": "LayoutModel",
     "state": {
      "_model_module": "@jupyter-widgets/base",
      "_model_module_version": "1.2.0",
      "_model_name": "LayoutModel",
      "_view_count": null,
      "_view_module": "@jupyter-widgets/base",
      "_view_module_version": "1.2.0",
      "_view_name": "LayoutView",
      "align_content": null,
      "align_items": null,
      "align_self": null,
      "border": null,
      "bottom": null,
      "display": null,
      "flex": null,
      "flex_flow": null,
      "grid_area": null,
      "grid_auto_columns": null,
      "grid_auto_flow": null,
      "grid_auto_rows": null,
      "grid_column": null,
      "grid_gap": null,
      "grid_row": null,
      "grid_template_areas": null,
      "grid_template_columns": null,
      "grid_template_rows": null,
      "height": null,
      "justify_content": null,
      "justify_items": null,
      "left": null,
      "margin": null,
      "max_height": null,
      "max_width": null,
      "min_height": null,
      "min_width": null,
      "object_fit": null,
      "object_position": null,
      "order": null,
      "overflow": null,
      "overflow_x": null,
      "overflow_y": null,
      "padding": null,
      "right": null,
      "top": null,
      "visibility": null,
      "width": null
     }
    },
    "f37364d906094d9baf9b4f29e3655896": {
     "model_module": "@jupyter-widgets/controls",
     "model_module_version": "1.5.0",
     "model_name": "ProgressStyleModel",
     "state": {
      "_model_module": "@jupyter-widgets/controls",
      "_model_module_version": "1.5.0",
      "_model_name": "ProgressStyleModel",
      "_view_count": null,
      "_view_module": "@jupyter-widgets/base",
      "_view_module_version": "1.2.0",
      "_view_name": "StyleView",
      "bar_color": null,
      "description_width": ""
     }
    },
    "f6335c70bea54e40930f0becae438466": {
     "model_module": "@jupyter-widgets/controls",
     "model_module_version": "1.5.0",
     "model_name": "ProgressStyleModel",
     "state": {
      "_model_module": "@jupyter-widgets/controls",
      "_model_module_version": "1.5.0",
      "_model_name": "ProgressStyleModel",
      "_view_count": null,
      "_view_module": "@jupyter-widgets/base",
      "_view_module_version": "1.2.0",
      "_view_name": "StyleView",
      "bar_color": null,
      "description_width": ""
     }
    },
    "f715afd01edf4accaedfadf9fff3ae0d": {
     "model_module": "@jupyter-widgets/base",
     "model_module_version": "1.2.0",
     "model_name": "LayoutModel",
     "state": {
      "_model_module": "@jupyter-widgets/base",
      "_model_module_version": "1.2.0",
      "_model_name": "LayoutModel",
      "_view_count": null,
      "_view_module": "@jupyter-widgets/base",
      "_view_module_version": "1.2.0",
      "_view_name": "LayoutView",
      "align_content": null,
      "align_items": null,
      "align_self": null,
      "border": null,
      "bottom": null,
      "display": null,
      "flex": null,
      "flex_flow": null,
      "grid_area": null,
      "grid_auto_columns": null,
      "grid_auto_flow": null,
      "grid_auto_rows": null,
      "grid_column": null,
      "grid_gap": null,
      "grid_row": null,
      "grid_template_areas": null,
      "grid_template_columns": null,
      "grid_template_rows": null,
      "height": null,
      "justify_content": null,
      "justify_items": null,
      "left": null,
      "margin": null,
      "max_height": null,
      "max_width": null,
      "min_height": null,
      "min_width": null,
      "object_fit": null,
      "object_position": null,
      "order": null,
      "overflow": null,
      "overflow_x": null,
      "overflow_y": null,
      "padding": null,
      "right": null,
      "top": null,
      "visibility": null,
      "width": null
     }
    },
    "f7a4b45f1b2642b4b02fdbfe4c019911": {
     "model_module": "@jupyter-widgets/controls",
     "model_module_version": "1.5.0",
     "model_name": "DescriptionStyleModel",
     "state": {
      "_model_module": "@jupyter-widgets/controls",
      "_model_module_version": "1.5.0",
      "_model_name": "DescriptionStyleModel",
      "_view_count": null,
      "_view_module": "@jupyter-widgets/base",
      "_view_module_version": "1.2.0",
      "_view_name": "StyleView",
      "description_width": ""
     }
    },
    "f87d781b3e9e4f02bc07c9d4164fae55": {
     "model_module": "@jupyter-widgets/controls",
     "model_module_version": "1.5.0",
     "model_name": "DescriptionStyleModel",
     "state": {
      "_model_module": "@jupyter-widgets/controls",
      "_model_module_version": "1.5.0",
      "_model_name": "DescriptionStyleModel",
      "_view_count": null,
      "_view_module": "@jupyter-widgets/base",
      "_view_module_version": "1.2.0",
      "_view_name": "StyleView",
      "description_width": ""
     }
    },
    "f8a2f11211a249b9bb4d87c8b9b011a9": {
     "model_module": "@jupyter-widgets/base",
     "model_module_version": "1.2.0",
     "model_name": "LayoutModel",
     "state": {
      "_model_module": "@jupyter-widgets/base",
      "_model_module_version": "1.2.0",
      "_model_name": "LayoutModel",
      "_view_count": null,
      "_view_module": "@jupyter-widgets/base",
      "_view_module_version": "1.2.0",
      "_view_name": "LayoutView",
      "align_content": null,
      "align_items": null,
      "align_self": null,
      "border": null,
      "bottom": null,
      "display": null,
      "flex": null,
      "flex_flow": null,
      "grid_area": null,
      "grid_auto_columns": null,
      "grid_auto_flow": null,
      "grid_auto_rows": null,
      "grid_column": null,
      "grid_gap": null,
      "grid_row": null,
      "grid_template_areas": null,
      "grid_template_columns": null,
      "grid_template_rows": null,
      "height": null,
      "justify_content": null,
      "justify_items": null,
      "left": null,
      "margin": null,
      "max_height": null,
      "max_width": null,
      "min_height": null,
      "min_width": null,
      "object_fit": null,
      "object_position": null,
      "order": null,
      "overflow": null,
      "overflow_x": null,
      "overflow_y": null,
      "padding": null,
      "right": null,
      "top": null,
      "visibility": null,
      "width": null
     }
    },
    "f9cf829ef4a8424da21bae97ee3bb558": {
     "model_module": "@jupyter-widgets/base",
     "model_module_version": "1.2.0",
     "model_name": "LayoutModel",
     "state": {
      "_model_module": "@jupyter-widgets/base",
      "_model_module_version": "1.2.0",
      "_model_name": "LayoutModel",
      "_view_count": null,
      "_view_module": "@jupyter-widgets/base",
      "_view_module_version": "1.2.0",
      "_view_name": "LayoutView",
      "align_content": null,
      "align_items": null,
      "align_self": null,
      "border": null,
      "bottom": null,
      "display": null,
      "flex": null,
      "flex_flow": null,
      "grid_area": null,
      "grid_auto_columns": null,
      "grid_auto_flow": null,
      "grid_auto_rows": null,
      "grid_column": null,
      "grid_gap": null,
      "grid_row": null,
      "grid_template_areas": null,
      "grid_template_columns": null,
      "grid_template_rows": null,
      "height": null,
      "justify_content": null,
      "justify_items": null,
      "left": null,
      "margin": null,
      "max_height": null,
      "max_width": null,
      "min_height": null,
      "min_width": null,
      "object_fit": null,
      "object_position": null,
      "order": null,
      "overflow": null,
      "overflow_x": null,
      "overflow_y": null,
      "padding": null,
      "right": null,
      "top": null,
      "visibility": null,
      "width": null
     }
    },
    "fcea44a2fd8548b884453d020a0e82c1": {
     "model_module": "@jupyter-widgets/controls",
     "model_module_version": "1.5.0",
     "model_name": "HBoxModel",
     "state": {
      "_dom_classes": [],
      "_model_module": "@jupyter-widgets/controls",
      "_model_module_version": "1.5.0",
      "_model_name": "HBoxModel",
      "_view_count": null,
      "_view_module": "@jupyter-widgets/controls",
      "_view_module_version": "1.5.0",
      "_view_name": "HBoxView",
      "box_style": "",
      "children": [
       "IPY_MODEL_3b172789a530421f8757fc1c571762a6",
       "IPY_MODEL_0600275b4f064c25a26c89b1a4b913f2",
       "IPY_MODEL_6254e6d8d84e4acbbb1b27bc1a4c2f5d"
      ],
      "layout": "IPY_MODEL_7cbe4300524646f38de607b883fe6788"
     }
    },
    "fdb56860b0b949d8ba066ed6e6b8131f": {
     "model_module": "@jupyter-widgets/base",
     "model_module_version": "1.2.0",
     "model_name": "LayoutModel",
     "state": {
      "_model_module": "@jupyter-widgets/base",
      "_model_module_version": "1.2.0",
      "_model_name": "LayoutModel",
      "_view_count": null,
      "_view_module": "@jupyter-widgets/base",
      "_view_module_version": "1.2.0",
      "_view_name": "LayoutView",
      "align_content": null,
      "align_items": null,
      "align_self": null,
      "border": null,
      "bottom": null,
      "display": null,
      "flex": null,
      "flex_flow": null,
      "grid_area": null,
      "grid_auto_columns": null,
      "grid_auto_flow": null,
      "grid_auto_rows": null,
      "grid_column": null,
      "grid_gap": null,
      "grid_row": null,
      "grid_template_areas": null,
      "grid_template_columns": null,
      "grid_template_rows": null,
      "height": null,
      "justify_content": null,
      "justify_items": null,
      "left": null,
      "margin": null,
      "max_height": null,
      "max_width": null,
      "min_height": null,
      "min_width": null,
      "object_fit": null,
      "object_position": null,
      "order": null,
      "overflow": null,
      "overflow_x": null,
      "overflow_y": null,
      "padding": null,
      "right": null,
      "top": null,
      "visibility": null,
      "width": "20px"
     }
    }
   }
  }
 },
 "nbformat": 4,
 "nbformat_minor": 4
}
